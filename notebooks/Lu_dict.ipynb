{
 "cells": [
  {
   "cell_type": "code",
   "execution_count": 3,
   "metadata": {
    "tags": []
   },
   "outputs": [],
   "source": [
    "%load_ext autoreload\n",
    "%autoreload 2"
   ]
  },
  {
   "cell_type": "markdown",
   "metadata": {},
   "source": [
    "## Quick Notebook used to Gegenerate Lu Dictionary from set of Thai words\n",
    "- Can either use PythaiNLP list of Thai words or incorporate more slang Thai words from social media source\n",
    "- v1.0: uses thai_words from common Thai corpus in pythainlp"
   ]
  },
  {
   "cell_type": "code",
   "execution_count": 1,
   "metadata": {},
   "outputs": [],
   "source": [
    "from kampuan import puan_lu\n",
    "from pythainlp.tokenize import Tokenizer\n",
    "from pythainlp.tokenize import Tokenizer, Trie #Trie instead of dict_trie\n",
    "from pythainlp.corpus.common import thai_words, thai_syllables\n",
    "\n",
    "import json, pdb\n",
    "\n",
    "LU_DICT_VERSION = \"1.0\""
   ]
  },
  {
   "cell_type": "code",
   "execution_count": 2,
   "metadata": {
    "tags": [
     "outputPrepend"
    ]
   },
   "outputs": [
    {
     "output_type": "stream",
     "name": "stdout",
     "text": "return default\nWARNING:root:ฟุ with tone 0 not availabe (Dead word type), return normalize\nล\nล\ncheck this case not sure\ncheck this case not sure\ncheck this case not sure\ncheck this case not sure\nWARNING:root:ฟุ with tone 0 not availabe (Dead word type), return normalize\nWARNING:root:นุ with tone 0 not availabe (Dead word type), return normalize\nWARNING:root:จุ with tone 0 not availabe (Dead word type), return normalize\nWARNING:root:นุ with tone 0 not availabe (Dead word type), return normalize\nWARNING:root:จุ with tone 0 not availabe (Dead word type), return normalize\nต\nต\n์\nCannot convert thai2lu: มองโกลอยด์\nCannot convert thai2lu: ขณะนี้\nWARNING:root:อุ with tone 0 not availabe (Dead word type), return normalize\nWARNING:root:อุ with tone 0 not availabe (Dead word type), return normalize\nCannot convert thai2lu: โกเต็กซ์\nม\nม\nCannot convert thai2lu: เอ็กโซเซ่ต์\nWARNING:root:อุ with tone 0 not availabe (Dead word type), return normalize\nWARNING:root:อุ with tone 0 not availabe (Dead word type), return normalize\nหลี่ยมช tone error\nCannot convert thai2lu: ทุ่งเสลี่ยมชนูปถัมภ์\nว\nว\nWARNING:root:งุ with tone 0 not availabe (Dead word type), return normalize\nWARNING:root:งุ with tone 0 not availabe (Dead word type), return normalize\nCannot convert thai2lu: เช็กเอาต์\nWARNING:root:ลุ with tone 0 not availabe (Dead word type), return normalize\nWARNING:root:ลุ with tone 0 not availabe (Dead word type), return normalize\nๆ\nCannot convert thai2lu: ตื้นๆ\nศ\nศ\nช\nช\nWARNING:root:ลุ with tone 0 not availabe (Dead word type), return normalize\nWARNING:root:ลุ with tone 0 not availabe (Dead word type), return normalize\nWARNING:root:ยุ with tone 0 not availabe (Dead word type), return normalize\nWARNING:root:ยุ with tone 0 not availabe (Dead word type), return normalize\nWARNING:root:มุ with tone 0 not availabe (Dead word type), return normalize\nWARNING:root:มุ with tone 0 not availabe (Dead word type), return normalize\nจ\nจ\nท\nท\nCannot convert thai2lu: จดสิทธิบัตร\nWARNING:root:ตุ with tone 0 not availabe (Dead word type), return normalize\nWARNING:root:มุ with tone 0 not availabe (Dead word type), return normalize\nWARNING:root:ตุ with tone 0 not availabe (Dead word type), return normalize\nWARNING:root:มุ with tone 0 not availabe (Dead word type), return normalize\nล\nล\nล\nล\nCannot convert thai2lu: กิมิวิทยา\nWARNING:root:บุ with tone 0 not availabe (Dead word type), return normalize\nWARNING:root:บุ with tone 0 not availabe (Dead word type), return normalize\nฯ\nCannot convert thai2lu: พระบาทสมเด็จพระเจ้าอยู่หัวฯ\nCannot convert thai2lu: เฉลิมกรุงมณีทัศน์\nWARNING:root:ตุ with tone 0 not availabe (Dead word type), return normalize\nWARNING:root:ตุ with tone 0 not availabe (Dead word type), return normalize\nล\nล\nล\nล\nพ\nพ\nน\nน\nด\nด\nWARNING:root:กุ with tone 0 not availabe (Dead word type), return normalize\nWARNING:root:กุ with tone 0 not availabe (Dead word type), return normalize\nล\nล\nล\nล\nพ\nพ\ncheck this case not sure\ncheck this case not sure\nWARNING:root:นุ with tone 0 not availabe (Dead word type), return normalize\nWARNING:root:นุ with tone 0 not availabe (Dead word type), return normalize\nฯ\nCannot convert thai2lu: สมเด็จพระบรมฯ\nWARNING:root:รุ with tone 0 not availabe (Dead word type), return normalize\nWARNING:root:รุ with tone 0 not availabe (Dead word type), return normalize\nก\nก\nล\nล\ncheck this case not sure\ncheck this case not sure\nจ\nต\nจ\nต\nWARNING:root:ทุ with tone 0 not availabe (Dead word type), return normalize\nWARNING:root:ทุ with tone 0 not availabe (Dead word type), return normalize\n \nCannot convert thai2lu: เรียบ ๆ\nธ\nธ\ncheck this case not sure\ncheck this case not sure\nWARNING:root:ฟุ with tone 0 not availabe (Dead word type), return normalize\nWARNING:root:ฟุ with tone 0 not availabe (Dead word type), return normalize\nWARNING:root:บุ with tone 0 not availabe (Dead word type), return normalize\nWARNING:root:บุ with tone 0 not availabe (Dead word type), return normalize\nล\nล\nล\nล\nWARNING:root:จุ with tone 0 not availabe (Dead word type), return normalize\nWARNING:root:นุ with tone 0 not availabe (Dead word type), return normalize\nWARNING:root:จุ with tone 0 not availabe (Dead word type), return normalize\nWARNING:root:นุ with tone 0 not availabe (Dead word type), return normalize\nWARNING:root:จุ with tone 0 not availabe (Dead word type), return normalize\nWARNING:root:จุ with tone 0 not availabe (Dead word type), return normalize\nWARNING:root:ดุ with tone 0 not availabe (Dead word type), return normalize\n์\nCannot convert thai2lu: ศตสังวัตสร์\nWARNING:root:ดุ with tone 0 not availabe (Dead word type), return normalize\nWARNING:root:ดุ with tone 0 not availabe (Dead word type), return normalize\nWARNING:root:ดุ with tone 0 not availabe (Dead word type), return normalize\nล\nล\nป\nป\nWARNING:root:รุ with tone 0 not availabe (Dead word type), return normalize\nWARNING:root:รุ with tone 0 not availabe (Dead word type), return normalize\nล\nล\ncheck this case not sure\nล\ncheck this case not sure\nล\n \nCannot convert thai2lu: ชักน้ำเข้าลึก ชักศึกเข้าบ้าน\nร\nร\ncheck this case not sure\ncheck this case not sure\nWARNING:root:จุ with tone 0 not availabe (Dead word type), return normalize\nWARNING:root:จุ with tone 0 not availabe (Dead word type), return normalize\nWARNING:root:จุ with tone 0 not availabe (Dead word type), return normalize\nWARNING:root:จุ with tone 0 not availabe (Dead word type), return normalize\nWARNING:root:นุ with tone 0 not availabe (Dead word type), return normalize\nWARNING:root:นุ with tone 0 not availabe (Dead word type), return normalize\n\nCannot convert thai2lu: อ้อม ๆ แอ้ม ๆ\n \nCannot convert thai2lu: เสือทลายห้าง ช้างทลายโรง\nณ\nณ\nCannot convert thai2lu: คณาธิปไตย\nWARNING:root:ทุ with tone 0 not availabe (Dead word type), return normalize\nWARNING:root:ทุ with tone 0 not availabe (Dead word type), return normalize\nCannot convert thai2lu: ช.ค.บ.\nWARNING:root:จุ with tone 0 not availabe (Dead word type), return normalize\nWARNING:root:จุ with tone 0 not availabe (Dead word type), return normalize\nWARNING:root:บุ with tone 0 not availabe (Dead word type), return normalize\nน\nน\nท\n์\nCannot convert thai2lu: ทศางค์\nWARNING:root:บุ with tone 0 not availabe (Dead word type), return normalize\nณ\nณ\nCannot convert thai2lu: นปช.\nล\nล\nWARNING:root:ดุ with tone 0 not availabe (Dead word type), return normalize\nWARNING:root:ดุ with tone 0 not availabe (Dead word type), return normalize\nWARNING:root:บุ with tone 0 not availabe (Dead word type), return normalize\nWARNING:root:บุ with tone 0 not availabe (Dead word type), return normalize\nล\nล\nWARNING:root:คุ with tone 0 not availabe (Dead word type), return normalize\nWARNING:root:คุ with tone 0 not availabe (Dead word type), return normalize\nค\nค\nน\nน\nว\nว\ncheck this case not sure\ncheck this case not sure\nCannot convert thai2lu: คณะมัณฑนศิลป์\nWARNING:root:คุ with tone 0 not availabe (Dead word type), return normalize\nWARNING:root:คุ with tone 0 not availabe (Dead word type), return normalize\nล\nล\nWARNING:root:ทุ with tone 0 not availabe (Dead word type), return normalize\nWARNING:root:ทุ with tone 0 not availabe (Dead word type), return normalize\ncheck this case not sure\ncheck this case not sure\nWARNING:root:ลุ with tone 0 not availabe (Dead word type), return normalize\nWARNING:root:ลุ with tone 0 not availabe (Dead word type), return normalize\nธ\nธ\nก\nก\ncheck this case not sure\ncheck this case not sure\ncheck this case not sure\ncheck this case not sure\nล\ncheck this case not sure\ncheck this case not sure\nล\nCannot convert thai2lu: ปราษณี\nช\nWARNING:root:นุ with tone 0 not availabe (Dead word type), return normalize\nWARNING:root:นุ with tone 0 not availabe (Dead word type), return normalize\nWARNING:root:คุ with tone 0 not availabe (Dead word type), return normalize\nWARNING:root:คุ with tone 0 not availabe (Dead word type), return normalize\nช\n-\nCannot convert thai2lu: แชงกรี-ลา\nก\nก\nล\nล\n \nCannot convert thai2lu: มุบ ๆ\nCannot convert thai2lu: กศ.บ.\nWARNING:root:ทุ with tone 0 not availabe (Dead word type), return normalize\nWARNING:root:ทุ with tone 0 not availabe (Dead word type), return normalize\nม\nม\nๆ\nCannot convert thai2lu: โชกๆ\nข\nข\nต\nต\nCannot convert thai2lu: มหาวิทยาลัยเปิด\n \nCannot convert thai2lu: ใฝ่ร้อนจะนอนเย็น ใฝ่เย็นจะดิ้นตาย\nน\nCannot convert thai2lu: นปุงสกลึงค์\nท\nท\nฬ\nฬ\nWARNING:root:บุ with tone 0 not availabe (Dead word type), return normalize\nWARNING:root:บุ with tone 0 not availabe (Dead word type), return normalize\nCannot convert thai2lu: ขะแมร์กอฮอม\nส\nส\n \nCannot convert thai2lu: เยี่ยม ๆ มอง ๆ\n์\nCannot convert thai2lu: บรเมนทร์\nWARNING:root:ฟุ with tone 0 not availabe (Dead word type), return normalize\nWARNING:root:ฟุ with tone 0 not availabe (Dead word type), return normalize\nล\nล\nCannot convert thai2lu: แหง๊\nWARNING:root:อุ with tone 0 not availabe (Dead word type), return normalize\nWARNING:root:อุ with tone 0 not availabe (Dead word type), return normalize\nWARNING:root:กุ with tone 0 not availabe (Dead word type), return normalize\nWARNING:root:กุ with tone 0 not availabe (Dead word type), return normalize\ncheck this case not sure\ncheck this case not sure\nWARNING:root:กุ with tone 0 not availabe (Dead word type), return normalize\nWARNING:root:กุ with tone 0 not availabe (Dead word type), return normalize\nWARNING:root:กุ with tone 0 not availabe (Dead word type), return normalize\nWARNING:root:กุ with tone 0 not availabe (Dead word type), return normalize\nWARNING:root:อุ with tone 0 not availabe (Dead word type), return normalize\nWARNING:root:อุ with tone 0 not availabe (Dead word type), return normalize\nWARNING:root:ปุ with tone 0 not availabe (Dead word type), return normalize\nWARNING:root:รุ with tone 0 not availabe (Dead word type), return normalize\nล\nล\nCannot convert thai2lu: ทางไปรษณีย์\nWARNING:root:รุ with tone 0 not availabe (Dead word type), return normalize\ncheck this case not sure\ncheck this case not sure\ncheck this case not sure\ncheck this case not sure\nWARNING:root:ทุ with tone 0 not availabe (Dead word type), return normalize\nWARNING:root:ทุ with tone 0 not availabe (Dead word type), return normalize\n์\nCannot convert thai2lu: เลปน์\ncheck this case not sure\ncheck this case not sure\nWARNING:root:มุ with tone 0 not availabe (Dead word type), return normalize\nWARNING:root:มุ with tone 0 not availabe (Dead word type), return normalize\nWARNING:root:คุ with tone 0 not availabe (Dead word type), return normalize\nWARNING:root:คุ with tone 0 not availabe (Dead word type), return normalize\nWARNING:root:ลุ with tone 0 not availabe (Dead word type), return normalize\nWARNING:root:ลุ with tone 0 not availabe (Dead word type), return normalize\nWARNING:root:ดุ with tone 0 not availabe (Dead word type), return normalize\nWARNING:root:ดุ with tone 0 not availabe (Dead word type), return normalize\nWARNING:root:กุ with tone 0 not availabe (Dead word type), return normalize\nWARNING:root:กุ with tone 0 not availabe (Dead word type), return normalize\nWARNING:root:ซุ with tone 0 not availabe (Dead word type), return normalize\nWARNING:root:ซุ with tone 0 not availabe (Dead word type), return normalize\nฏ\nฏ\nซ\nซ\nส\nส\nก\nก\nล\nล\nบWARNING:root:นุ with tone 0 not availabe (Dead word type), return normalize\nWARNING:root:นุ with tone 0 not availabe (Dead word type), return normalize\nWARNING:root:ทุ with tone 0 not availabe (Dead word type), return normalize\n\nบ\nWARNING:root:ทุ with tone 0 not availabe (Dead word type), return normalize\ncheck this case not sure\ncheck this case not sure\nถ\nถ\nCannot convert thai2lu: อัคนิคณะ\nล\nล\nWARNING:root:check two syllable, return default\nWARNING:root:check two syllable, return default\ncheck this case not sure\ncheck this case not sure\ncheck this case not sure\ncheck this case not sure\nอ\nๆ\nCannot convert thai2lu: เหอๆ\nส\nส\nWARNING:root:จุ with tone 0 not availabe (Dead word type), return normalize\nWARNING:root:จุ with tone 0 not availabe (Dead word type), return normalize\nๆ\nCannot convert thai2lu: ครึ่งๆ กลางๆ\nWARNING:root:นุ with tone 0 not availabe (Dead word type), return normalize\nWARNING:root:นุ with tone 0 not availabe (Dead word type), return normalize\ncheck this case not sure\ncheck this case not sure\n \nCannot convert thai2lu: หงับ ๆ\nฟ\n์\nCannot convert thai2lu: ฟรอนเทียร์\nก\nม\n \nCannot convert thai2lu: กร่อม ๆ\nง\nง\n \nCannot convert thai2lu: บ้านเคยอยู่ อู่เคยนอน\nWARNING:root:ทุ with tone 0 not availabe (Dead word type), return normalize\nWARNING:root:บุ with tone 0 not availabe (Dead word type), return normalize\nWARNING:root:ทุ with tone 0 not availabe (Dead word type), return normalize\nWARNING:root:บุ with tone 0 not availabe (Dead word type), return normalize\nบ\nบ\n์\nCannot convert thai2lu: เรนเดียร์\ncheck this case not sure\nซ\ncheck this case not sure\nซ\ncheck this case not sure\ncheck this case not sure\nท\nท\nCannot convert thai2lu: พ.ก.ง.\nWARNING:root:ฟุ with tone 0 not availabe (Dead word type), return normalize\nWARNING:root:ฟุ with tone 0 not availabe (Dead word type), return normalize\nพ\nพ\nWARNING:root:กุ with tone 0 not availabe (Dead word type), return normalize\nWARNING:root:กุ with tone 0 not availabe (Dead word type), return normalize\nก\nก\ncheck this case not sure\ncheck this case not sure\nล\nล\nWARNING:root:คุ with tone 0 not availabe (Dead word type), return normalize\nWARNING:root:คุ with tone 0 not availabe (Dead word type), return normalize\nCannot convert thai2lu: สำนักงานคณะกรรมการส่งเสริมการลงทุน\nล\nล\n \nCannot convert thai2lu: กุ๊ก ๆ กิ๊ก ๆ\nส\nส\nWARNING:root:จุ with tone 0 not availabe (Dead word type), return normalize\nWARNING:root:จุ with tone 0 not availabe (Dead word type), return normalize\n \nCannot convert thai2lu: เรื่อย ๆ\nซู๊ดดดดดดดดดดด tone error\nCannot convert thai2lu: ซู๊ดดดดดดดดดดด\nCannot convert thai2lu: แดร์สปิเกล\nCannot convert thai2lu: คณานุกรม\nWARNING:root:จุ with tone 0 not availabe (Dead word type), return normalize\nWARNING:root:จุ with tone 0 not availabe (Dead word type), return normalize\nWARNING:root:คุ with tone 0 not availabe (Dead word type), return normalize\nย\nย\nCannot convert thai2lu: บกท.\nWARNING:root:คุ with tone 0 not availabe (Dead word type), return normalize\nCannot convert thai2lu: ทวิตีย์\nอ\n์\nCannot convert thai2lu: เหอเป่ย์\nWARNING:root:ปุ with tone 0 not availabe (Dead word type), return normalize\nWARNING:root:ปุ with tone 0 not availabe (Dead word type), return normalize\nWARNING:root:จุ with tone 0 not availabe (Dead word type), return normalize\nWARNING:root:จุ with tone 0 not availabe (Dead word type), return normalize\nWARNING:root:จุ with tone 0 not availabe (Dead word type), return normalize\nค\nค\nCannot convert thai2lu: กีฏวิทยา\nWARNING:root:จุ with tone 0 not availabe (Dead word type), return normalize\ncheck this case not sure\ncheck this case not sure\nส\nส\nส\nส\nCannot convert thai2lu: ทรัมป์\nป\nป\ncheck this case not sure\ncheck this case not sure\nWARNING:root:จุ with tone 0 not availabe (Dead word type), return normalize\nWARNING:root:จุ with tone 0 not availabe (Dead word type), return normalize\nWARNING:root:บุ with tone 0 not availabe (Dead word type), return normalize\nWARNING:root:บุ with tone 0 not availabe (Dead word type), return normalize\nWARNING:root:อุ with tone 0 not availabe (Dead word type), return normalize\nWARNING:root:อุ with tone 0 not availabe (Dead word type), return normalize\n \nCannot convert thai2lu: เหยาะ ๆ\ncheck this case not sure\ncheck this case not sure\ncheck this case not sure\ncheck this case not sure\nป\nป\nWARNING:root:ฟุ with tone 0 not availabe (Dead word type), return normalize\nWARNING:root:ฟุ with tone 0 not availabe (Dead word type), return normalize\nWARNING:root:ทุ with tone 0 not availabe (Dead word type), return normalize\nWARNING:root:ทุ with tone 0 not availabe (Dead word type), return normalize\nล\nล\nค\nค\n \nCannot convert thai2lu: คนเดียวหัวหาย สองคนเพื่อนตาย\nWARNING:root:ดุ with tone 0 not availabe (Dead word type), return normalize\nWARNING:root:ดุ with tone 0 not availabe (Dead word type), return normalize\nCannot convert thai2lu: สิทธิสตรี\nว\nว\nWARNING:root:ตุ with tone 0 not availabe (Dead word type), return normalize\nWARNING:root:ตุ with tone 0 not availabe (Dead word type), return normalize\nภ\nภ\nว\nว\nศ\nศ\nWARNING:root:จุ with tone 0 not availabe (Dead word type), return normalize\nWARNING:root:จุ with tone 0 not availabe (Dead word type), return normalize\nWARNING:root:รุ with tone 0 not availabe (Dead word type), return normalize\nษ\nษ\nศ\nศ\nWARNING:root:รุ with tone 0 not availabe (Dead word type), return normalize\nWARNING:root:ตุ with tone 0 not availabe (Dead word type), return normalize\nWARNING:root:ตุ with tone 0 not availabe (Dead word type), return normalize\nล\nล\nWARNING:root:จุ with tone 0 not availabe (Dead word type), return normalize\nWARNING:root:จุ with tone 0 not availabe (Dead word type), return normalize\nล\nล\nส\nส\nอ\nอ\nWARNING:root:วุ with tone 0 not availabe (Dead word type), return normalize\nWARNING:root:วุ with tone 0 not availabe (Dead word type), return normalize\nWARNING:root:กุ with tone 0 not availabe (Dead word type), return normalize\nWARNING:root:ซุ with tone 0 not availabe (Dead word type), return normalize\nท\nท\nWARNING:root:กุ with tone 0 not availabe (Dead word type), return normalize\nWARNING:root:ซุ with tone 0 not availabe (Dead word type), return normalize\ncheck this case not sure\ncheck this case not sure\nล\nล\nWARNING:root:บุ with tone 0 not availabe (Dead word type), return normalize\nWARNING:root:บุ with tone 0 not availabe (Dead word type), return normalize\nศ\nศ\ncheck this case not sure\ncheck this case not sure\nWARNING:root:จุ with tone 0 not availabe (Dead word type), return normalize\nWARNING:root:จุ with tone 0 not availabe (Dead word type), return normalize\nWARNING:root:กุ with tone 0 not availabe (Dead word type), return normalize\nWARNING:root:กุ with tone 0 not availabe (Dead word type), return normalize\nก\nล\nก\nล\nCannot convert thai2lu: ไลเซ่นส์\nWARNING:root:ฟุ with tone 0 not availabe (Dead word type), return normalize\nWARNING:root:ฟุ with tone 0 not availabe (Dead word type), return normalize\nWARNING:root:นุ with tone 0 not availabe (Dead word type), return normalize\nWARNING:root:นุ with tone 0 not availabe (Dead word type), return normalize\nล\nล\nWARNING:root:นุ with tone 0 not availabe (Dead word type), return normalize\nWARNING:root:นุ with tone 0 not availabe (Dead word type), return normalize\nร\nร\nWARNING:root:ลุ with tone 0 not availabe (Dead word type), return normalize\nWARNING:root:ลุ with tone 0 not availabe (Dead word type), return normalize\nฯ\nCannot convert thai2lu: ตุลาฯ\nล\nล\nล\nล\ncheck this case not sure\ncheck this case not sure\n \nCannot convert thai2lu: เร็ว ๆ นี้\nค\nค\nWARNING:root:จุ with tone 0 not availabe (Dead word type), return normalize\nWARNING:root:จุ with tone 0 not availabe (Dead word type), return normalize\nล\nล\ncheck this case not sure\ncheck this case not sure\nWARNING:root:จุ with tone 0 not availabe (Dead word type), return normalize\nWARNING:root:จุ with tone 0 not availabe (Dead word type), return normalize\nWARNING:root:กุ with tone 0 not availabe (Dead word type), return normalize\nWARNING:root:กุ with tone 0 not availabe (Dead word type), return normalize\nWARNING:root:จุ with tone 0 not availabe (Dead word type), return normalize\nWARNING:root:จุ with tone 0 not availabe (Dead word type), return normalize\nล\nล\nย\nย\nๆ\nCannot convert thai2lu: คิกๆ\n์\nCannot convert thai2lu: บัลเลท์\nWARNING:root:นุ with tone 0 not availabe (Dead word type), return normalize\nWARNING:root:นุ with tone 0 not availabe (Dead word type), return normalize\nCannot convert thai2lu: อุตสาหกรรมศาสตรบัณฑิต\nจ\nง\nจ\nง\nส\nCannot convert thai2lu: สไกป์\ncheck this case not sure\ncheck this case not sure\nล\nล\nก\nก\nWARNING:root:ลุ with tone 0 not availabe (Dead word type), return normalize\nWARNING:root:ลุ with tone 0 not availabe (Dead word type), return normalize\nษ\nษ\ncheck this case not sure\ncheck this case not sure\nล\nล\nส\nส\ncheck this case not sure\ncheck this case not sure\n \nCannot convert thai2lu: เนือง ๆ\nล\nล\nWARNING:root:อุ with tone 0 not availabe (Dead word type), return normalize\nWARNING:root:อุ with tone 0 not availabe (Dead word type), return normalize\ncheck this case not sure\ncheck this case not sure\ncheck this case not sure\ncheck this case not sure\n"
    }
   ],
   "source": [
    "%time\n",
    "custom_words_list = set(thai_words())\n",
    "words_list_thai2lu = {} # This is for checking if Lu was translated correctly\n",
    "syllable_lu = []\n",
    "for thaiword in custom_words_list:\n",
    "    try:        \n",
    "        words_list_thai2lu[thaiword] = ''.join(puan_lu(thaiword))\n",
    "        syllable_lu = syllable_lu + puan_lu(thaiword)\n",
    "    \n",
    "    except: \n",
    "        print(\"Cannot convert thai2lu: \" + thaiword)\n",
    "        continue"
   ]
  },
  {
   "cell_type": "code",
   "execution_count": 3,
   "metadata": {},
   "outputs": [],
   "source": [
    "with open(\"Lu_list_\" + LU_DICT_VERSION + \".json\", 'w') as f:    \n",
    "    json.dump(words_list_thai2lu, f) \n",
    "with open(\"Lu_syllable_\" + LU_DICT_VERSION + \".json\", 'w') as f:\n",
    "    json.dump({\"data\": syllable_lu}, f) "
   ]
  },
  {
   "cell_type": "code",
   "execution_count": 4,
   "metadata": {},
   "outputs": [],
   "source": [
    "with open(\"Lu_list_\" + LU_DICT_VERSION + \".json\", 'r') as f:    \n",
    "    words_list_thai2lu = json.load(f) \n",
    "with open(\"Lu_syllable_\" + LU_DICT_VERSION + \".json\", 'r') as f:\n",
    "    syllable_lu_dict = json.load(f) "
   ]
  },
  {
   "cell_type": "markdown",
   "metadata": {},
   "source": [
    "## Combining Set of Lu syllables to Thai syllables"
   ]
  },
  {
   "cell_type": "code",
   "execution_count": 15,
   "metadata": {},
   "outputs": [],
   "source": [
    "#set(syllable_lu_dict['data']).union(set(thai_syllables()))"
   ]
  },
  {
   "cell_type": "code",
   "execution_count": 16,
   "metadata": {},
   "outputs": [
    {
     "output_type": "execute_result",
     "data": {
      "text/plain": "frozenset"
     },
     "metadata": {},
     "execution_count": 16
    }
   ],
   "source": [
    "type(thai_syllables())"
   ]
  },
  {
   "cell_type": "code",
   "execution_count": 6,
   "metadata": {},
   "outputs": [
    {
     "output_type": "execute_result",
     "data": {
      "text/plain": "['ลี่',\n 'ทู่',\n 'ลาง',\n 'ทูง',\n 'ซาย',\n 'รูย',\n 'ลัว',\n 'ตู',\n 'ซิ',\n 'ลุ',\n 'โล',\n 'นู',\n 'เซ',\n 'ลู',\n 'หลิก',\n 'อุก',\n 'ล่าง',\n 'ขู้ง',\n 'แซม',\n 'รูม',\n 'ลา',\n 'ตู',\n 'ลุ่ง',\n 'กิ้ง',\n 'เล่า',\n 'จุ้',\n 'เลิม',\n 'ดูม',\n 'ลั้น',\n 'ชู้น',\n 'ลาง',\n 'วูง',\n 'หลัง',\n 'หนูง',\n 'หลือ',\n 'สู',\n 'ลู',\n 'ยี',\n 'ลิ',\n 'นุ',\n 'ลอม',\n 'ฟูม',\n 'ลี',\n 'อู',\n 'หลอ',\n 'หู',\n 'ซุย',\n 'ลิย',\n 'หลุย',\n 'ฉิย',\n 'แหลก',\n 'ฉูก',\n 'ลอ',\n 'อู',\n 'หลา',\n 'สู',\n 'ลุ',\n 'ธิ',\n 'ส่อ',\n 'หลู่',\n 'ลอ',\n 'ดู',\n 'หลาม',\n 'สูม',\n 'โซก',\n 'ลูก',\n 'หล่อน',\n 'อู่น',\n 'ซะ',\n 'รุ',\n 'ลวย',\n 'ทูย',\n 'ลุม',\n 'มิม',\n 'หลาก',\n 'ฉูก',\n 'ล้า',\n 'ฮู้',\n 'ไล้',\n 'ฮุ',\n 'ลุญ',\n 'บิญ',\n 'ลัม',\n 'กูม',\n 'ลิน',\n 'กุน',\n 'ลู่',\n 'หี้',\n 'ลาร',\n 'กูร',\n 'ซอ',\n 'รู',\n 'ลอย',\n 'คูย',\n 'หลุ',\n 'ปิ',\n 'ลอ',\n 'งู',\n 'ซึง',\n 'ลุง',\n 'หละ',\n 'กุ',\n 'หลับ',\n 'กูบ',\n 'หลอก',\n 'กูก',\n 'ล้น',\n 'พู้น',\n 'เลาะ',\n 'คุ',\n 'ลูม',\n 'ปีม',\n 'สัง',\n 'หลูง',\n 'หละ',\n 'กุ',\n 'หล่าย',\n 'ตู่ย',\n 'ลม',\n 'ชูม',\n 'ลัน',\n 'จูน',\n 'ล่าว',\n 'ขู้ว',\n 'หลอก',\n 'ตูก',\n 'ละ',\n 'ซุ',\n 'ล่า',\n 'งู่',\n 'เล',\n 'อู',\n 'ลิ',\n 'ทุ',\n 'ซิ',\n 'ลุ',\n 'ลีน',\n 'ดูน',\n 'ไล',\n 'ดุ',\n 'ลา',\n 'อู',\n 'เล',\n 'ซู',\n 'เหลท',\n 'ตูท',\n 'ละ',\n 'พุ',\n 'หลม',\n 'หนูม',\n 'หลก',\n 'ศูก',\n 'เลส',\n 'พูส',\n 'ลัน',\n 'ตูน',\n 'หละ',\n 'กุ',\n 'โลย',\n 'วูย',\n 'หละ',\n 'กุ',\n 'ลาย',\n 'วูย',\n 'ล่า',\n 'นู่',\n 'หละ',\n 'ศุ',\n 'สัท',\n 'หรูท',\n 'ลา',\n 'ธู',\n 'สีก',\n 'หลูก',\n 'ลี',\n 'ยู',\n 'ซาฟ',\n 'รูฟ',\n 'ลาม',\n 'ตูม',\n 'ลิง',\n 'จุง',\n 'หลิ',\n 'บุ',\n 'ลา',\n 'พู',\n 'ลิ',\n 'ชุ',\n 'ลา',\n 'กู',\n 'หลู',\n 'หนี',\n 'หละ',\n 'ตุ',\n 'เลา',\n 'ผุ',\n 'ลวญ',\n 'คูญ',\n 'เลง',\n 'พูง',\n 'ลี',\n 'ตู',\n 'ลาล',\n 'กูล',\n 'ลิษ',\n 'พุษ',\n 'ลิน',\n 'ดุน',\n 'ลน',\n 'ปูน',\n 'ลาย',\n 'ซูย',\n 'หละ',\n 'ปุ',\n 'ลาน',\n 'ปูน',\n 'แลค',\n 'ฟูค',\n 'เลอ',\n 'ตู',\n 'ซูก',\n 'ลีก',\n 'เล็ล',\n 'อุล',\n 'หละ',\n 'ปุ',\n 'แหลก',\n 'อูก',\n 'โล',\n 'ฮู',\n 'โล',\n 'มู',\n 'ลี',\n 'ซู',\n 'หลต',\n 'สูต',\n 'ลีน',\n 'อูน',\n 'เล',\n 'ตู',\n 'ลา',\n 'ตู',\n 'ลด',\n 'คูด',\n 'ไล',\n 'ปุ',\n 'ลด',\n 'คูด',\n 'ลา',\n 'มู',\n 'หละ',\n 'ปุ',\n 'ลาณ',\n 'มูณ',\n 'ลาร',\n 'กูร',\n 'หละ',\n 'จุ',\n 'หลัก',\n 'หวูก',\n 'ลิน',\n 'กุน',\n 'ล้ำ',\n 'นุ',\n 'เหล็น',\n 'หุน',\n 'ลิง',\n 'ปุง',\n 'หลิ',\n 'สุ',\n 'ลี',\n 'นู',\n 'ลอน',\n 'คูน',\n 'โล',\n 'ดู',\n 'ลิ',\n 'มุ',\n 'เลียม',\n 'นูม',\n 'หลน',\n 'สูน',\n 'เล่',\n 'ทู่',\n 'หลับ',\n 'สูบ',\n 'ซาง',\n 'รูง',\n 'เละ',\n 'กุ๊',\n 'ลัก',\n 'ทูก',\n 'หลิ',\n 'ษุ',\n 'ลา',\n 'ณู',\n 'ลุ',\n 'นิ',\n 'หละ',\n 'ปุ',\n 'ลาน',\n 'ทูน',\n 'ลา',\n 'ชู',\n 'ซา',\n 'ลู',\n 'หลี',\n 'ผู',\n 'ละ',\n 'ทุ',\n 'เซ',\n 'ลู',\n 'ลำ',\n 'อุ',\n 'ลาจ',\n 'นูจ',\n 'ลืด',\n 'มูด',\n 'หลบ',\n 'จูบ',\n 'หลิ',\n 'บุ',\n 'ลูร',\n 'บีร',\n 'หลาก',\n 'ปูก',\n 'แหละ',\n 'บุ',\n 'หละ',\n 'อุ',\n 'หลุ',\n 'หนิ',\n 'ลัตร',\n 'วูตร',\n 'เล็น',\n 'ปุน',\n 'เหลีย',\n 'สู',\n 'เลง',\n 'อูง',\n 'เหล่า',\n 'กุ',\n 'หละ',\n 'กุ',\n 'ซา',\n 'ลู',\n 'ลาง',\n 'นูง',\n 'ลวล',\n 'นูล',\n 'ลา',\n 'อู',\n 'ลี',\n 'ดู',\n 'ลาย',\n 'ปูย',\n 'เล้า',\n 'ทุ',\n 'ลวน',\n 'ชูน',\n 'หลัน',\n 'ขูน',\n 'หลิด',\n 'ตุด',\n 'หลวก',\n 'บูก',\n 'เลาะ',\n 'นุ',\n 'ล่าน',\n 'บู้น',\n 'ลู',\n 'บี',\n 'โหละ',\n 'กุ',\n 'ลิว',\n 'มุว',\n 'ลิก',\n 'นุก',\n 'หลัด',\n 'ปูด',\n 'หละ',\n 'สุ',\n 'หละ',\n 'หวุ',\n 'หลัน',\n 'ขูน',\n 'ละ',\n 'ชุ',\n 'เลาะ',\n 'นุ',\n 'ลา',\n 'กู',\n 'ลม',\n 'ตูม',\n 'ลัว',\n 'ตู',\n 'ลำ',\n 'ถุ',\n 'ซะ',\n 'ลุ',\n 'ซาย',\n 'ลูย',\n 'ล่อง',\n 'ทู่ง',\n 'หลื่อ',\n 'สู่',\n 'หลด',\n 'บูด',\n 'หละ',\n 'ขุ',\n 'ลี่',\n 'ยู่',\n 'ล้อม',\n 'พู้ม',\n 'เลียง',\n 'พูง',\n 'ลัน',\n 'กูน',\n 'หลืบ',\n 'สูบ',\n 'เลื่อง',\n 'นู่ง',\n 'เหลี่ยว',\n 'หยู่ว',\n 'โล',\n 'กู',\n 'หลก',\n 'หูก',\n 'ลก',\n 'พูก',\n 'ซม',\n 'ลูม',\n 'ลอย',\n 'ทูย',\n 'หลิ่ง',\n 'สุ่ง',\n 'ลี่',\n 'ทู่',\n 'เสือ',\n 'หลู',\n 'หลู่',\n 'หยี่',\n 'ละ',\n 'พุ',\n 'ลี่',\n 'ทู่',\n 'ลั่ง',\n 'นู่ง',\n 'หลังฆ',\n 'สูงฆ',\n 'ลา',\n 'ปู',\n 'โลก',\n 'มูก',\n 'โหลด',\n 'ปูด',\n 'ลน',\n 'ชูน',\n 'ไหล่',\n 'กุ',\n 'หละ',\n 'สุ',\n 'หลิ',\n 'ปุ',\n 'ซอ',\n 'ลู',\n 'เหลอก',\n 'บูก',\n 'ลาง',\n 'บูง',\n 'หละ',\n 'ปุ',\n 'ลาร',\n 'กูร',\n 'เล็น',\n 'ซุน',\n 'เลอ',\n 'ตู',\n 'ลอย',\n 'พูย',\n 'ลับ',\n 'ยูบ',\n 'ลง',\n 'ยูง',\n 'หละ',\n 'กุ',\n 'หลม',\n 'ษูม',\n 'หลัน',\n 'สูน',\n 'เล่า',\n 'ขุ้',\n 'ซาง',\n 'รูง',\n 'ซิ้น',\n 'ลุ้น',\n 'เลิม',\n 'อูม',\n 'หลึ่ง',\n 'ตุ่ง',\n 'หลอก',\n 'อูก',\n 'ลาม',\n 'นูม',\n 'ใล',\n 'บุ',\n 'หลอก',\n 'บูก',\n 'ลาม',\n 'คูม',\n 'ลน',\n 'ทูน',\n 'ลาน',\n 'ทูน',\n 'ลีน',\n 'ตูน',\n 'เหล่า',\n 'ปุ',\n 'หลม',\n 'สูม',\n 'ลง',\n 'ซูง',\n 'หลด',\n 'หมูด',\n 'ลา',\n 'วู',\n 'ซะ',\n 'รุ',\n 'ไซ่',\n 'ลุ่',\n 'ลิ้ว',\n 'นุ้ว',\n 'ลอ',\n 'ตู',\n 'โล',\n 'มู',\n 'ไล',\n 'ผุ',\n 'ซี',\n 'รู',\n 'ลี่',\n 'ขู้',\n 'ลา',\n 'กู',\n 'เสี่ยม',\n 'หลู่ม',\n 'หลก',\n 'ตูก',\n 'หลู่',\n 'หยี่',\n 'ใล',\n 'หนุ',\n 'ละ',\n 'ภุ',\n 'หลัง',\n 'หวูง',\n 'ซัก',\n 'รูก',\n 'หลอ',\n 'ขู',\n 'หละ',\n 'สุ',\n 'ลา',\n 'คู',\n 'ลิล',\n 'มุล',\n 'เซียน',\n 'ลูน',\n 'ลัน',\n 'ชูน',\n 'ลา',\n 'ตู',\n 'ลอ',\n 'ฆู',\n 'ซะ',\n 'รุ',\n 'เหลาะ',\n 'หยุ',\n 'ล่าง',\n 'ยู่ง',\n 'ละ',\n 'ทุ',\n 'ซัก',\n 'ลูก',\n 'ละ',\n 'ทุ',\n 'แซง',\n 'ลูง',\n 'หล่าง',\n 'ถู่ง',\n 'ลู',\n 'ภี',\n 'เหลา',\n 'คุ๋',\n 'เซา',\n 'หลุ',\n 'ลา',\n 'กู',\n 'เซี่ยว',\n 'รู่ว',\n 'แซง',\n 'รูง',\n 'หลาด',\n 'ฉูด',\n 'หลาน',\n 'ฉูน',\n 'แหล่',\n 'กู่',\n 'หลัด',\n 'จูด',\n 'เลี้ย',\n 'พู้',\n 'หลุจ',\n 'อิจ',\n 'เล็น',\n 'อุน',\n 'ลึด',\n 'ยุด',\n 'ลิ่ง',\n 'จุ้ง',\n 'เสน',\n 'หลูน',\n 'หลี',\n 'สู',\n 'หลอ',\n 'หู',\n 'ไหล',\n 'ซุ๋',\n 'ลา',\n 'ยู',\n 'ล่อง',\n 'หู้ง',\n 'หละ',\n 'สุ',\n 'หลุด',\n 'หมิด',\n 'เลื่อน',\n 'คู่น',\n 'ลี่',\n 'ทู่',\n 'โหล',\n 'ผู',\n 'ลิน',\n 'บุน',\n 'หลก',\n 'บูก',\n 'ลำ',\n 'กุ',\n 'แลง',\n 'พูง',\n 'ลี',\n 'มู',\n 'หลู',\n 'หี',\n 'หละ',\n 'ปุ',\n 'ลู',\n 'ตี',\n 'ลี',\n 'มู',\n 'ล่อง',\n 'ชู่ง',\n 'ลู',\n 'บี',\n 'ลำ',\n 'กุ',\n 'โลก',\n 'ชูก',\n 'หละ',\n 'อุ',\n 'ลี้',\n 'นู้',\n 'ล็อพ',\n 'พูพ',\n 'ล้อง',\n 'ฟู้ง',\n 'ลัว',\n 'ตู',\n 'เลง',\n 'อูง',\n 'ลาม',\n 'ยูม',\n 'เลา',\n 'กุ',\n 'หละ',\n 'ปุ',\n 'ลี้',\n 'นู้',\n 'เหลี่ยน',\n 'ปู่น',\n 'เล็น',\n 'ปุน',\n 'ซา',\n 'ลู',\n 'ลก',\n 'มูก',\n 'หลอ',\n 'ศู',\n 'หลา',\n 'สู',\n 'ลอม',\n 'งูม',\n 'แลม',\n 'งูม',\n 'ลณ',\n 'ตูณ',\n 'ละ',\n 'ชุ',\n 'หลิ',\n 'ตุ',\n 'ลัค',\n 'พูค',\n 'ซวม',\n 'รูม',\n 'ลัง',\n 'พูง',\n 'หละ',\n 'ปุ',\n 'ลา',\n 'ชู',\n 'ละ',\n 'ชุ',\n 'หลิ',\n 'ตุ',\n 'ไลย',\n 'ทุย',\n 'หลาม',\n 'สูม',\n 'ซำ',\n 'หลุ',\n 'ลาน',\n 'คูน',\n 'ลาร',\n 'กูร',\n 'หละ',\n 'ปุ',\n 'ลวร',\n 'ชูร',\n 'ลัน',\n 'วูน',\n 'ลำ',\n 'ถุ',\n 'ลาน',\n 'งูน',\n 'ล่อ',\n 'คู่',\n 'หลาส',\n 'หูส',\n 'ล้ำ',\n 'คุ',\n 'ลาร',\n 'กูร',\n 'หลุ',\n 'อิ',\n 'หละ',\n 'บุ',\n 'หลิ',\n 'ตุ',\n 'ลำ',\n 'ถุ',\n 'เซ',\n 'ลู',\n 'ลอง',\n 'ทูง',\n 'ลิง',\n 'จุง',\n 'เลอ',\n 'จู',\n 'ซอล',\n 'รูล',\n 'หลัก',\n 'ผูก',\n 'ลี',\n 'ชู',\n 'หละ',\n 'ฝุ',\n 'สั่ง',\n 'หรู่ง',\n 'ซะ',\n 'รุ',\n 'แซง',\n 'รูง',\n 'ลิ',\n 'วุ',\n 'หลัย',\n 'สูย',\n 'ลัศ',\n 'ทูศ',\n 'ไหล่',\n 'กุ',\n 'ไล่',\n 'หุ้',\n 'ลา',\n 'บู',\n 'ลี',\n 'นู',\n 'ละ',\n 'ยุ',\n 'หลัน',\n 'ฉูน',\n 'ลา',\n 'ทู',\n 'ลุ',\n 'นิ',\n 'ละ',\n 'มุ',\n 'หลิ',\n 'ตุ',\n 'ลัง',\n 'ฟูง',\n 'ลึ่น',\n 'ขุ้น',\n 'หลิ',\n 'อุ',\n 'ซัก',\n 'รูก',\n 'ล่าย',\n 'คู่ย',\n 'หลัก',\n 'กูก',\n 'ลัน',\n 'กูน',\n 'ลุม',\n 'มิม',\n 'หลัก',\n 'หูก',\n 'เหล',\n 'หู',\n 'เล็น',\n 'ปุน',\n 'ลี่',\n 'ทู่',\n 'ลึง',\n 'ดุง',\n 'หลูด',\n 'ดีด',\n 'หลิ',\n 'จุ',\n 'หละ',\n 'ตุ',\n 'ซุ',\n 'ลิ',\n 'โหละ',\n 'บุ',\n 'ลา',\n 'ปู',\n 'เซะ',\n 'รุ',\n 'ซ้อย',\n 'รู้ย',\n 'เหล็ด',\n 'อุด',\n 'หล่ง',\n 'สู่ง',\n 'หลอก',\n 'ดูก',\n 'เหล็จ',\n 'สุจ',\n 'ลิ่น',\n 'สุ้น',\n 'ลาม',\n 'คูม',\n 'ลือ',\n 'ฮู',\n 'ลา',\n 'ฮู',\n 'ล้อง',\n 'ซู้ง',\n 'ลัข',\n 'นูข',\n 'หลุ่ม',\n 'กิ่ม',\n 'หล่อ',\n 'ผู่',\n 'หละ',\n 'ปุ',\n 'โลช',\n 'ยูช',\n 'ลัม',\n 'ชูม',\n 'ลูน',\n 'พีน',\n 'ลอ',\n 'ทู',\n 'ลก',\n 'ยูก',\n 'หลัตร',\n 'บูตร',\n 'ลา',\n 'ปู',\n 'ซัซ',\n 'ลูซ',\n 'โล',\n 'ซู',\n 'ลาร',\n 'กูร',\n 'ลัก',\n 'ฟูก',\n 'ไหล่',\n 'ขุ',\n 'หลุด',\n 'ขิด',\n 'หล่อ',\n 'บู่',\n 'ซ่อ',\n 'ลู่',\n 'ลา',\n 'ปู',\n 'ลาย',\n 'พูย',\n 'แลว',\n 'พูว',\n 'ลัค',\n 'พูค',\n 'หละ',\n 'ปุ',\n 'ลา',\n 'ชู',\n 'ลิ',\n 'ธุ',\n 'หลัต',\n 'ปูต',\n 'ซวง',\n 'ลูง',\n 'เซ้า',\n 'ลุ',\n 'หลาบ',\n 'หยูบ',\n 'ล่าน',\n 'กู้น',\n 'เลา',\n 'อุ',\n 'หลี',\n 'สู',\n 'ล่าง',\n 'ขู้ง',\n 'เล่า',\n 'ขุ้',\n 'หลู',\n 'ถี',\n 'ซาช',\n 'รูช',\n 'ลาส',\n 'มูส',\n 'เหลก',\n 'อูก',\n 'ลพ',\n 'ภูพ',\n 'หลา',\n 'ฐู',\n 'ลา',\n 'นู',\n 'ลุ',\n 'นิ',\n 'ลม',\n 'กูม',\n 'เซ้อ',\n 'รู้',\n 'ซะ',\n 'รุ',\n 'เหลิด',\n 'บูด',\n 'ซะ',\n 'รุ',\n 'เล่อ',\n 'บู้',\n 'หล่อ',\n 'กู่',\n 'ลี',\n 'ณู',\n 'เซ่ง',\n 'รู่ง',\n 'หล่วน',\n 'ดู่น',\n 'ซัย',\n 'ลูย',\n 'หลน',\n 'ขูน',\n 'หล่ง',\n 'สู่ง',\n 'หล่ม',\n 'หู่ม',\n 'ลุม',\n 'คิม',\n 'โหล',\n 'ศู',\n 'ซต',\n 'รูต',\n 'ซอ',\n 'รู',\n 'หลอง',\n 'ขูง',\n 'ลึน',\n 'มุน',\n 'เลา',\n 'หมุ',\n 'ลาม',\n 'คูม',\n 'ลา',\n 'อู',\n ...]"
     },
     "metadata": {},
     "execution_count": 6
    }
   ],
   "source": [
    "lu_syllable = syllable_lu_dict['data']\n",
    "lu_syllable"
   ]
  },
  {
   "cell_type": "code",
   "execution_count": null,
   "metadata": {},
   "outputs": [],
   "source": []
  }
 ],
 "metadata": {
  "language_info": {
   "codemirror_mode": {
    "name": "ipython",
    "version": 3
   },
   "file_extension": ".py",
   "mimetype": "text/x-python",
   "name": "python",
   "nbconvert_exporter": "python",
   "pygments_lexer": "ipython3",
   "version": "3.7.6-final"
  },
  "orig_nbformat": 2,
  "kernelspec": {
   "name": "python_defaultSpec_1609666041666",
   "display_name": "Python 3.7.6 64-bit ('base': conda)"
  }
 },
 "nbformat": 4,
 "nbformat_minor": 2
}