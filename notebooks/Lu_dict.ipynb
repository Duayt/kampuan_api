{
 "cells": [
  {
   "cell_type": "code",
   "execution_count": 1,
   "metadata": {
    "tags": []
   },
   "outputs": [],
   "source": [
    "%load_ext autoreload\n",
    "%autoreload 2"
   ]
  },
  {
   "cell_type": "markdown",
   "metadata": {},
   "source": [
    "## Quick Notebook used to Gegenerate Lu Dictionary from set of Thai words\n",
    "- Can either use PythaiNLP list of Thai words or incorporate more slang Thai words from social media source\n",
    "- v1.0: uses thai_words from common Thai corpus in pythainlp"
   ]
  },
  {
   "cell_type": "code",
   "execution_count": 2,
   "metadata": {},
   "outputs": [],
   "source": [
    "from kampuan import puan_lu\n",
    "from pythainlp.tokenize import Tokenizer\n",
    "from pythainlp.tokenize import Tokenizer, Trie #Trie instead of dict_trie\n",
    "from pythainlp.corpus.common import thai_words, thai_syllables\n",
    "\n",
    "import json, pdb\n",
    "\n",
    "LU_DICT_VERSION = \"1.0\""
   ]
  },
  {
   "cell_type": "code",
   "execution_count": 3,
   "metadata": {
    "tags": [
     "outputPrepend"
    ]
   },
   "outputs": [
    {
     "output_type": "stream",
     "name": "stderr",
     "text": "h tone 0 not availabe (Dead word type), return normalize\nCannot convert thai2lu: หัวป่าก์\nWARNING:root:จุ with tone 0 not availabe (Dead word type), return normalize\nWARNING:root:จุ with tone 0 not availabe (Dead word type), return normalize\ncheck this case not sure\ncheck this case not sure\nWARNING:root:ตุ with tone 0 not availabe (Dead word type), return normalize\nWARNING:root:ตุ with tone 0 not availabe (Dead word type), return normalize\nCannot convert thai2lu: งึก ๆ\nCannot convert thai2lu: วิทยาคม\nCannot convert thai2lu: กรมโรงงานอุตสาหกรรม\nWARNING:root:จุ with tone 0 not availabe (Dead word type), return normalize\nWARNING:root:จุ with tone 0 not availabe (Dead word type), return normalize\nWARNING:root:จุ with tone 0 not availabe (Dead word type), return normalize\nWARNING:root:จุ with tone 0 not availabe (Dead word type), return normalize\nWARNING:root:ทุ with tone 0 not availabe (Dead word type), return normalize\nWARNING:root:ทุ with tone 0 not availabe (Dead word type), return normalize\ncheck this case not sure\ncheck this case not sure\nWARNING:root:ปุ with tone 0 not availabe (Dead word type), return normalize\nWARNING:root:ปุ with tone 0 not availabe (Dead word type), return normalize\nWARNING:root:ทุ with tone 0 not availabe (Dead word type), return normalize\nWARNING:root:ทุ with tone 0 not availabe (Dead word type), return normalize\nWARNING:root:รุ with tone 0 not availabe (Dead word type), return normalize\nWARNING:root:รุ with tone 0 not availabe (Dead word type), return normalize\nWARNING:root:กุ with tone 0 not availabe (Dead word type), return normalize\nCannot convert thai2lu: เอ็กช์\nWARNING:root:กุ with tone 0 not availabe (Dead word type), return normalize\nWARNING:root:ชุ with tone 0 not availabe (Dead word type), return normalize\nWARNING:root:ชุ with tone 0 not availabe (Dead word type), return normalize\nCannot convert thai2lu: วสัดุ\nWARNING:root:ปุ with tone 0 not availabe (Dead word type), return normalize\nCannot convert thai2lu: ฮกเกี้ยน\nCannot convert thai2lu: ไปรษณีย์ภัณฑ์\nCannot convert thai2lu: เฮิร์ตซ์\nWARNING:root:ดุ with tone 0 not availabe (Dead word type), return normalize\nWARNING:root:ดุ with tone 0 not availabe (Dead word type), return normalize\nCannot convert thai2lu: นักชีววิทยา\nCannot convert thai2lu: สดๆ ร้อนๆ\nCannot convert thai2lu: จ้อก ๆ\ncheck this case not sure\ncheck this case not sure\nWARNING:root:ตุ with tone 0 not availabe (Dead word type), return normalize\nWARNING:root:ตุ with tone 0 not availabe (Dead word type), return normalize\nWARNING:root:อุ with tone 0 not availabe (Dead word type), return normalize\nWARNING:root:อุ with tone 0 not availabe (Dead word type), return normalize\nWARNING:root:ยุ with tone 0 not availabe (Dead word type), return normalize\nCannot convert thai2lu: ไหน ๆ\nWARNING:root:ยุ with tone 0 not availabe (Dead word type), return normalize\nWARNING:root:นุ with tone 0 not availabe (Dead word type), return normalize\nWARNING:root:นุ with tone 0 not availabe (Dead word type), return normalize\nWARNING:root:ชุ with tone 0 not availabe (Dead word type), return normalize\nWARNING:root:ชุ with tone 0 not availabe (Dead word type), return normalize\nWARNING:root:ทุ with tone 0 not availabe (Dead word type), return normalize\nWARNING:root:ชุ with tone 0 not availabe (Dead word type), return normalize\nWARNING:root:รุ with tone 0 not availabe (Dead word type), return normalize\nWARNING:root:ทุ with tone 0 not availabe (Dead word type), return normalize\nWARNING:root:ชุ with tone 0 not availabe (Dead word type), return normalize\nWARNING:root:รุ with tone 0 not availabe (Dead word type), return normalize\nCannot convert thai2lu: ครส.\nCannot convert thai2lu: สถ.บ.\nCannot convert thai2lu: ฮอว์กิง\nCannot convert thai2lu: คณะศิลปศาสตร์\nWARNING:root:ฟุ with tone 0 not availabe (Dead word type), return normalize\nWARNING:root:ฟุ with tone 0 not availabe (Dead word type), return normalize\nWARNING:root:พุ with tone 0 not availabe (Dead word type), return normalize\nWARNING:root:พุ with tone 0 not availabe (Dead word type), return normalize\nWARNING:root:คุ with tone 0 not availabe (Dead word type), return normalize\nWARNING:root:คุ with tone 0 not availabe (Dead word type), return normalize\nCannot convert thai2lu: ฤตุสนาน\nCannot convert thai2lu: วิทยานุสรณ์\nWARNING:root:ฟุ with tone 0 not availabe (Dead word type), return normalize\nWARNING:root:ฟุ with tone 0 not availabe (Dead word type), return normalize\nWARNING:root:บุ with tone 0 not availabe (Dead word type), return normalize\nWARNING:root:บุ with tone 0 not availabe (Dead word type), return normalize\ncheck this case not sure\nCannot convert thai2lu: อ.ส.ม.ท.\ncheck this case not sure\ncheck this case not sure\nWARNING:root:บุ with tone 0 not availabe (Dead word type), return normalize\nWARNING:root:บุ with tone 0 not availabe (Dead word type), return normalize\nCannot convert thai2lu: เนิบๆ\nWARNING:root:คุ with tone 0 not availabe (Dead word type), return normalize\nWARNING:root:คุ with tone 0 not availabe (Dead word type), return normalize\nWARNING:root:กุ with tone 0 not availabe (Dead word type), return normalize\nCannot convert thai2lu: อธรรม\nWARNING:root:กุ with tone 0 not availabe (Dead word type), return normalize\nWARNING:root:อุ with tone 0 not availabe (Dead word type), return normalize\nWARNING:root:อุ with tone 0 not availabe (Dead word type), return normalize\nWARNING:root:มุ with tone 0 not availabe (Dead word type), return normalize\nWARNING:root:มุ with tone 0 not availabe (Dead word type), return normalize\nWARNING:root:ตุ with tone 0 not availabe (Dead word type), return normalize\nWARNING:root:ตุ with tone 0 not availabe (Dead word type), return normalize\nWARNING:root:คุ with tone 0 not availabe (Dead word type), return normalize\nWARNING:root:คุ with tone 0 not availabe (Dead word type), return normalize\nCannot convert thai2lu: น.บ.\nWARNING:root:จุ with tone 0 not availabe (Dead word type), return normalize\nWARNING:root:จุ with tone 0 not availabe (Dead word type), return normalize\nWARNING:root:อุ with tone 0 not availabe (Dead word type), return normalize\nWARNING:root:อุ with tone 0 not availabe (Dead word type), return normalize\nCannot convert thai2lu: สวญ.\nWARNING:root:ทุ with tone 0 not availabe (Dead word type), return normalize\nWARNING:root:ทุ with tone 0 not availabe (Dead word type), return normalize\nWARNING:root:นุ with tone 0 not availabe (Dead word type), return normalize\nWARNING:root:นุ with tone 0 not availabe (Dead word type), return normalize\nWARNING:root:อุ with tone 0 not availabe (Dead word type), return normalize\nWARNING:root:อุ with tone 0 not availabe (Dead word type), return normalize\nWARNING:root:คุ with tone 0 not availabe (Dead word type), return normalize\nWARNING:root:คุ with tone 0 not availabe (Dead word type), return normalize\nCannot convert thai2lu: พระเจ้าวรวงศ์เธอ พระองค์เจ้าโสมสวลี พระวรราชาทินัดดามาตุ\nWARNING:root:อุ with tone 0 not availabe (Dead word type), return normalize\nWARNING:root:อุ with tone 0 not availabe (Dead word type), return normalize\nWARNING:root:จุ with tone 0 not availabe (Dead word type), return normalize\nWARNING:root:จุ with tone 0 not availabe (Dead word type), return normalize\nCannot convert thai2lu: สำนักงานคณะกรรมการเลือกตั้ง\nWARNING:root:ทุ with tone 0 not availabe (Dead word type), return normalize\nWARNING:root:ทุ with tone 0 not availabe (Dead word type), return normalize\nWARNING:root:check two syllable, return default\nWARNING:root:check two syllable, return default\ncheck this case not sure\ncheck this case not sure\ncheck this case not sure\ncheck this case not sure\nCannot convert thai2lu: สตรีท\nWARNING:root:จุ with tone 0 not availabe (Dead word type), return normalize\nWARNING:root:จุ with tone 0 not availabe (Dead word type), return normalize\ncheck this case not sure\ncheck this case not sure\nWARNING:root:มุ with tone 0 not availabe (Dead word type), return normalize\nWARNING:root:มุ with tone 0 not availabe (Dead word type), return normalize\nWARNING:root:ลุ with tone 0 not availabe (Dead word type), return normalize\nWARNING:root:ลุ with tone 0 not availabe (Dead word type), return normalize\nWARNING:root:บุ with tone 0 not availabe (Dead word type), return normalize\nWARNING:root:บุ with tone 0 not availabe (Dead word type), return normalize\nCannot convert thai2lu: ฤๅษีแปลงสาร\nCannot convert thai2lu: ตลาด ๆ\nCannot convert thai2lu: วิทยาทาน\nCannot convert thai2lu: บ้าๆ บอๆ\ncheck this case not sure\nCannot convert thai2lu: สัปดสดก\nWARNING:root:บุ with tone 0 not availabe (Dead word type), return normalize\nWARNING:root:บุ with tone 0 not availabe (Dead word type), return normalize\nCannot convert thai2lu: เนือยๆ\ncheck this case not sure\ncheck this case not sure\nWARNING:root:บุ with tone 0 not availabe (Dead word type), return normalize\nWARNING:root:บุ with tone 0 not availabe (Dead word type), return normalize\nWARNING:root:นุ with tone 0 not availabe (Dead word type), return normalize\nWARNING:root:นุ with tone 0 not availabe (Dead word type), return normalize\nWARNING:root:อุ with tone 0 not availabe (Dead word type), return normalize\nWARNING:root:อุ with tone 0 not availabe (Dead word type), return normalize\nWARNING:root:ฮุ with tone 0 not availabe (Dead word type), return normalize\nWARNING:root:ฮุ with tone 0 not availabe (Dead word type), return normalize\nWARNING:root:อุ with tone 0 not availabe (Dead word type), return normalize\nWARNING:root:อุ with tone 0 not availabe (Dead word type), return normalize\nWARNING:root:ลุ with tone 0 not availabe (Dead word type), return normalize\nWARNING:root:ลุ with tone 0 not availabe (Dead word type), return normalize\nWARNING:root:ทุ with tone 0 not availabe (Dead word type), return normalize\nWARNING:root:ทุ with tone 0 not availabe (Dead word type), return normalize\nWARNING:root:ทุ with tone 0 not availabe (Dead word type), return normalize\nWARNING:root:ทุ with tone 0 not availabe (Dead word type), return normalize\nWARNING:root:อุ with tone 0 not availabe (Dead word type), return normalize\nWARNING:root:อุ with tone 0 not availabe (Dead word type), return normalize\nWARNING:root:ลุ with tone 0 not availabe (Dead word type), return normalize\nWARNING:root:ลุ with tone 0 not availabe (Dead word type), return normalize\ncheck this case not sure\ncheck this case not sure\nอ่ะ tone error\nCannot convert thai2lu: อ่ะ\nCannot convert thai2lu: ลีวายส์\ncheck this case not sure\ncheck this case not sure\nCannot convert thai2lu: บาห์เรน\nWARNING:root:ทุ with tone 0 not availabe (Dead word type), return normalize\nWARNING:root:ทุ with tone 0 not availabe (Dead word type), return normalize\nWARNING:root:ลุ with tone 0 not availabe (Dead word type), return normalize\nWARNING:root:ลุ with tone 0 not availabe (Dead word type), return normalize\nWARNING:root:รุ with tone 0 not availabe (Dead word type), return normalize\nWARNING:root:รุ with tone 0 not availabe (Dead word type), return normalize\nWARNING:root:รุ with tone 0 not availabe (Dead word type), return normalize\nWARNING:root:รุ with tone 0 not availabe (Dead word type), return normalize\nCannot convert thai2lu: นั้นๆ\nWARNING:root:กุ with tone 0 not availabe (Dead word type), return normalize\nWARNING:root:กุ with tone 0 not availabe (Dead word type), return normalize\nWARNING:root:นุ with tone 0 not availabe (Dead word type), return normalize\nWARNING:root:นุ with tone 0 not availabe (Dead word type), return normalize\nWARNING:root:จุ with tone 0 not availabe (Dead word type), return normalize\nWARNING:root:จุ with tone 0 not availabe (Dead word type), return normalize\nซู๊ดดดดดดดดดดด tone error\nCannot convert thai2lu: ซู๊ดดดดดดดดดดด\nCannot convert thai2lu: นรเศรษฐ์\nWARNING:root:ทุ with tone 0 not availabe (Dead word type), return normalize\nWARNING:root:จุ with tone 0 not availabe (Dead word type), return normalize\nWARNING:root:ทุ with tone 0 not availabe (Dead word type), return normalize\nWARNING:root:จุ with tone 0 not availabe (Dead word type), return normalize\nแว่บ tone error\nCannot convert thai2lu: แว่บ\nCannot convert thai2lu: วัชเรนทร์\nWARNING:root:ดุ with tone 0 not availabe (Dead word type), return normalize\nWARNING:root:ทุ with tone 0 not availabe (Dead word type), return normalize\nWARNING:root:ทุ with tone 0 not availabe (Dead word type), return normalize\nWARNING:root:ดุ with tone 0 not availabe (Dead word type), return normalize\nWARNING:root:ทุ with tone 0 not availabe (Dead word type), return normalize\nWARNING:root:ทุ with tone 0 not availabe (Dead word type), return normalize\nWARNING:root:คุ with tone 0 not availabe (Dead word type), return normalize\nWARNING:root:คุ with tone 0 not availabe (Dead word type), return normalize\nWARNING:root:จุ with tone 0 not availabe (Dead word type), return normalize\nWARNING:root:จุ with tone 0 not availabe (Dead word type), return normalize\nWARNING:root:คุ with tone 0 not availabe (Dead word type), return normalize\nWARNING:root:คุ with tone 0 not availabe (Dead word type), return normalize\nWARNING:root:บุ with tone 0 not availabe (Dead word type), return normalize\nWARNING:root:บุ with tone 0 not availabe (Dead word type), return normalize\nWARNING:root:ตุ with tone 0 not availabe (Dead word type), return normalize\nWARNING:root:ตุ with tone 0 not availabe (Dead word type), return normalize\nWARNING:root:จุ with tone 0 not availabe (Dead word type), return normalize\nWARNING:root:ตุ with tone 0 not availabe (Dead word type), return normalize\nWARNING:root:จุ with tone 0 not availabe (Dead word type), return normalize\nWARNING:root:ตุ with tone 0 not availabe (Dead word type), return normalize\ncheck this case not sure\ncheck this case not sure\nWARNING:root:จุ with tone 0 not availabe (Dead word type), return normalize\nWARNING:root:จุ with tone 0 not availabe (Dead word type), return normalize\nCannot convert thai2lu: ตาลปัตรฤๅษี\nWARNING:root:นุ with tone 0 not availabe (Dead word type), return normalize\nWARNING:root:นุ with tone 0 not availabe (Dead word type), return normalize\nWARNING:root:ชุ with tone 0 not availabe (Dead word type), return normalize\nWARNING:root:ชุ with tone 0 not availabe (Dead word type), return normalize\nWARNING:root:นุ with tone 0 not availabe (Dead word type), return normalize\nWARNING:root:นุ with tone 0 not availabe (Dead word type), return normalize\ncheck this case not sure\ncheck this case not sure\nWARNING:root:อุ with tone 0 not availabe (Dead word type), return normalize\nWARNING:root:อุ with tone 0 not availabe (Dead word type), return normalize\nWARNING:root:คุ with tone 0 not availabe (Dead word type), return normalize\nWARNING:root:คุ with tone 0 not availabe (Dead word type), return normalize\nWARNING:root:ดุ with tone 0 not availabe (Dead word type), return normalize\nWARNING:root:ดุ with tone 0 not availabe (Dead word type), return normalize\nCannot convert thai2lu: ตึ ๆ\nCannot convert thai2lu: ผู้แทนฯ\nWARNING:root:ดุ with tone 0 not availabe (Dead word type), return normalize\nWARNING:root:ปุ with tone 0 not availabe (Dead word type), return normalize\nWARNING:root:ดุ with tone 0 not availabe (Dead word type), return normalize\nWARNING:root:ปุ with tone 0 not availabe (Dead word type), return normalize\nCannot convert thai2lu: ปังสุ์\nCannot convert thai2lu: ซึ่ง ๆ หน้า\ncheck this case not sure\ncheck this case not sure\nWARNING:root:ตุ with tone 0 not availabe (Dead word type), return normalize\nWARNING:root:ตุ with tone 0 not availabe (Dead word type), return normalize\ncheck this case not sure\ncheck this case not sure\nWARNING:root:บุ with tone 0 not availabe (Dead word type), return normalize\nWARNING:root:บุ with tone 0 not availabe (Dead word type), return normalize\nWARNING:root:ฟุ with tone 0 not availabe (Dead word type), return normalize\nWARNING:root:ฟุ with tone 0 not availabe (Dead word type), return normalize\nCannot convert thai2lu: แอมเพิลริช อินเวสต์เมนท์\nWARNING:root:นุ with tone 0 not availabe (Dead word type), return normalize\nWARNING:root:นุ with tone 0 not availabe (Dead word type), return normalize\nWARNING:root:ปุ with tone 0 not availabe (Dead word type), return normalize\nWARNING:root:ปุ with tone 0 not availabe (Dead word type), return normalize\nCannot convert thai2lu: โปรดักท์\nWARNING:root:ฟุ with tone 0 not availabe (Dead word type), return normalize\nWARNING:root:ฟุ with tone 0 not availabe (Dead word type), return normalize\ncheck this case not sure\ncheck this case not sure\ncheck this case not sure\nCannot convert thai2lu: อรรจน์\nWARNING:root:ดุ with tone 0 not availabe (Dead word type), return normalize\nWARNING:root:ดุ with tone 0 not availabe (Dead word type), return normalize\nWARNING:root:ดุ with tone 0 not availabe (Dead word type), return normalize\nWARNING:root:ตุ with tone 0 not availabe (Dead word type), return normalize\nWARNING:root:ดุ with tone 0 not availabe (Dead word type), return normalize\nWARNING:root:ตุ with tone 0 not availabe (Dead word type), return normalize\nWARNING:root:คุ with tone 0 not availabe (Dead word type), return normalize\nWARNING:root:คุ with tone 0 not availabe (Dead word type), return normalize\nWARNING:root:จุ with tone 0 not availabe (Dead word type), return normalize\nWARNING:root:จุ with tone 0 not availabe (Dead word type), return normalize\nWARNING:root:กุ with tone 0 not availabe (Dead word type), return normalize\nCannot convert thai2lu: ปารษณี\nWARNING:root:กุ with tone 0 not availabe (Dead word type), return normalize\ncheck this case not sure\nCannot convert thai2lu: พฤกษา\nWARNING:root:จุ with tone 0 not availabe (Dead word type), return normalize\nWARNING:root:จุ with tone 0 not availabe (Dead word type), return normalize\nWARNING:root:ทุ with tone 0 not availabe (Dead word type), return normalize\nWARNING:root:ทุ with tone 0 not availabe (Dead word type), return normalize\nCannot convert thai2lu: เงินสเตอร์ลิง\nWARNING:root:มุ with tone 0 not availabe (Dead word type), return normalize\nWARNING:root:มุ with tone 0 not availabe (Dead word type), return normalize\nWARNING:root:ทุ with tone 0 not availabe (Dead word type), return normalize\nWARNING:root:ทุ with tone 0 not availabe (Dead word type), return normalize\nWARNING:root:ชุ with tone 0 not availabe (Dead word type), return normalize\nWARNING:root:ชุ with tone 0 not availabe (Dead word type), return normalize\nWARNING:root:บุ with tone 0 not availabe (Dead word type), return normalize\nWARNING:root:บุ with tone 0 not availabe (Dead word type), return normalize\nWARNING:root:กุ with tone 0 not availabe (Dead word type), return normalize\nCannot convert thai2lu: สฤษฎ์\nWARNING:root:กุ with tone 0 not availabe (Dead word type), return normalize\nWARNING:root:จุ with tone 0 not availabe (Dead word type), return normalize\nCannot convert thai2lu: ถั่น ๆ\nWARNING:root:จุ with tone 0 not availabe (Dead word type), return normalize\nWARNING:root:จุ with tone 0 not availabe (Dead word type), return normalize\nWARNING:root:จุ with tone 0 not availabe (Dead word type), return normalize\nWARNING:root:วุ with tone 0 not availabe (Dead word type), return normalize\nWARNING:root:วุ with tone 0 not availabe (Dead word type), return normalize\nWARNING:root:บุ with tone 0 not availabe (Dead word type), return normalize\nWARNING:root:บุ with tone 0 not availabe (Dead word type), return normalize\ncheck this case not sure\ncheck this case not sure\nWARNING:root:จุ with tone 0 not availabe (Dead word type), return normalize\nWARNING:root:จุ with tone 0 not availabe (Dead word type), return normalize\nCannot convert thai2lu: ผลุบโผล่ ๆ\nCannot convert thai2lu: บิวเรตต์\nWARNING:root:จุ with tone 0 not availabe (Dead word type), return normalize\nWARNING:root:จุ with tone 0 not availabe (Dead word type), return normalize\nWARNING:root:วุ with tone 0 not availabe (Dead word type), return normalize\nWARNING:root:วุ with tone 0 not availabe (Dead word type), return normalize\nWARNING:root:ดุ with tone 0 not availabe (Dead word type), return normalize\nWARNING:root:ดุ with tone 0 not availabe (Dead word type), return normalize\nCannot convert thai2lu: เขื่อนป่าสักฯ\nWARNING:root:ตุ with tone 0 not availabe (Dead word type), return normalize\nWARNING:root:ตุ with tone 0 not availabe (Dead word type), return normalize\n"
    }
   ],
   "source": [
    "%time\n",
    "custom_words_list = set(thai_words())\n",
    "words_list_thai2lu = {} # This is for checking if Lu was translated correctly\n",
    "syllable_lu = []\n",
    "for thaiword in custom_words_list:\n",
    "    try:        \n",
    "        words_list_thai2lu[thaiword] = ''.join(puan_lu(thaiword))\n",
    "        syllable_lu = syllable_lu + puan_lu(thaiword)\n",
    "    except: \n",
    "        print(\"Cannot convert thai2lu: \" + thaiword)\n",
    "        continue"
   ]
  },
  {
   "cell_type": "code",
   "execution_count": 10,
   "metadata": {},
   "outputs": [],
   "source": [
    "with open(\"Lu_list_\" + LU_DICT_VERSION + \".json\", 'w') as f:    \n",
    "    json.dump(words_list_thai2lu, f) \n",
    "with open(\"Lu_syllable_\" + LU_DICT_VERSION + \".json\", 'w') as f:\n",
    "    json.dump({\"data\": syllable_lu}, f) "
   ]
  },
  {
   "cell_type": "code",
   "execution_count": 13,
   "metadata": {},
   "outputs": [],
   "source": [
    "with open(\"Lu_list_\" + LU_DICT_VERSION + \".json\", 'r') as f:    \n",
    "    words_list_thai2lu = json.load(f) \n",
    "with open(\"Lu_syllable_\" + LU_DICT_VERSION + \".json\", 'r') as f:\n",
    "    syllable_lu_dict = json.load(f) "
   ]
  },
  {
   "cell_type": "markdown",
   "metadata": {},
   "source": [
    "## Combining Set of Lu syllables to Thai syllables"
   ]
  },
  {
   "cell_type": "code",
   "execution_count": 15,
   "metadata": {},
   "outputs": [],
   "source": [
    "#set(syllable_lu_dict['data']).union(set(thai_syllables()))"
   ]
  },
  {
   "cell_type": "code",
   "execution_count": 16,
   "metadata": {},
   "outputs": [
    {
     "output_type": "execute_result",
     "data": {
      "text/plain": "frozenset"
     },
     "metadata": {},
     "execution_count": 16
    }
   ],
   "source": [
    "type(thai_syllables())"
   ]
  },
  {
   "cell_type": "code",
   "execution_count": null,
   "metadata": {},
   "outputs": [],
   "source": []
  }
 ],
 "metadata": {
  "language_info": {
   "codemirror_mode": {
    "name": "ipython",
    "version": 3
   },
   "file_extension": ".py",
   "mimetype": "text/x-python",
   "name": "python",
   "nbconvert_exporter": "python",
   "pygments_lexer": "ipython3",
   "version": "3.7.6-final"
  },
  "orig_nbformat": 2,
  "kernelspec": {
   "name": "python_defaultSpec_1609649306026",
   "display_name": "Python 3.7.6 64-bit ('base': conda)"
  }
 },
 "nbformat": 4,
 "nbformat_minor": 2
}