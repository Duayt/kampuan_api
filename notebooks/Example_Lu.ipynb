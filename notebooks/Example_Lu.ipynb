{
 "cells": [
  {
   "cell_type": "code",
   "execution_count": 1,
   "metadata": {
    "tags": []
   },
   "outputs": [],
   "source": [
    "%load_ext autoreload\n",
    "%autoreload 2"
   ]
  },
  {
   "cell_type": "code",
   "execution_count": 2,
   "metadata": {},
   "outputs": [],
   "source": [
    "from kampuan import puan_lu, puan_kam, puan_kam_all, pun_wunayook\n",
    "#import puan_lu"
   ]
  },
  {
   "cell_type": "code",
   "execution_count": null,
   "metadata": {},
   "outputs": [],
   "source": []
  },
  {
   "cell_type": "markdown",
   "metadata": {},
   "source": [
    "# Auto assume puan LU"
   ]
  },
  {
   "cell_type": "code",
   "execution_count": 3,
   "metadata": {
    "tags": []
   },
   "outputs": [
    {
     "output_type": "stream",
     "name": "stdout",
     "text": "input:  มะนาวต่างดุ๊ด\noutput:  ['ละมู้', 'ลาวนูว', 'หล่างตู่ง', 'ลุดดิ๊ด']\noutput: [['มุด', 'นาว', 'ต่าง', 'ด๊ะ'], ['มะ', 'นุด', 'ต่าง', 'ดาว']]\n===========\ninput:  เทียนกินชา\noutput:  ['เลียนทูน', 'ลินกูน', 'ลาชู']\noutput:  ['ทา', 'กิน', 'เชียน']\n===========\ninput:  กาเป็นหมู\noutput:  ['ลากู', 'เล็นปูน', 'หลูหมี']\noutput:  ['กู', 'เป็น', 'หมา']\n===========\ninput:  ก้างใหญ่\noutput:  ['ล่างกู้ง', 'ใหล่หญู่']\noutput:  ['ใก้', 'หญ่าง']\n===========\ninput:  อะหรี่ดอย\noutput:  ['หละอู่', 'สี่หรู่', 'ลอยดูย']\noutput:  ['อะ', 'หร่อย', 'ดี']\n===========\ninput:  นอนแล้ว\noutput:  ['ลอนนูน', 'แซ้วลู้ว']\noutput:  ['แนว', 'ล้อน']\n===========\ninput:  ตะปู\noutput:  ['หละตู่', 'ลูปี']\noutput: ['ตู', 'ปะ']\n===========\ninput:  นักเรียน\noutput:  ['ลักนูก', 'เซียนรูน']\noutput:  ['เนียน', 'รัก']\n===========\ninput:  ขนม\ncheck this case not sure\noutput:  ['หละขู่', 'หลมหนูม']\ncheck this case not sure\noutput:  ['ขม', 'หนะ']\n===========\ninput:  เรอทัก\noutput:  ['เซอรู', 'ลักทูก']\noutput:  ['รัก', 'เทอ']\n===========\ninput:  สวัสดี\noutput:  ['หละสู่', 'หลัสหวูส', 'ลีดู']\noutput:  ['สะ', 'วี', 'ดัส']\n===========\ninput:  ดาต้ามาย\noutput:  ['ลาดู', 'ล่าตู้', 'ลายมูย']\noutput:  ['ดาย', 'ต้า', 'มา']\n===========\ninput:  โครงข่ายประสาทเทียม\noutput:  ['โลงคูง', 'หล่ายขู่ย', 'หละปู่', 'หลาทสูท', 'เลียมทูม']\noutput:  [['เครียม', 'ข่าย', 'ประ', 'สาท', 'โทง'], ['โครง', 'เขี่ยม', 'ประ', 'สาท', 'ทาย']]\n===========\ninput:  ['เป็ด', 'กิน', 'ไก่']\noutput:  ['เหล็ดปูด', 'ลินกูน', 'ไหล่กู่']\noutput:  ['เป็ด', 'ไก', 'กิ่น']\n===========\ninput:  ภูมิหล่อ\noutput:  ['ละภู้', 'หลูหมี', 'ส่อหลู่']\noutput:  ['ภะ', 'หมอ', 'หลู่']\n===========\n"
    }
   ],
   "source": [
    "case_1 =['มะนาวต่างดุ๊ด',\n",
    "         'เทียนกินชา',\n",
    "         'กาเป็นหมู',\n",
    "         'ก้างใหญ่',\n",
    "         'อะหรี่ดอย',\n",
    "         'นอนแล้ว',\n",
    "         'ตะปู',\n",
    "         'นักเรียน',\n",
    "         'ขนม',\n",
    "         'เรอทัก',\n",
    "        'สวัสดี',    \n",
    "        'ดาต้ามาย',\n",
    "        'โครงข่ายประสาทเทียม',\n",
    "        ['เป็ด','กิน','ไก่'],\n",
    "        'ภูมิหล่อ']\n",
    "for k in case_1:\n",
    "    print('input: ',k)\n",
    "    print('output: ',puan_lu(k))\n",
    "    print('output: ',puan_kam(k))\n",
    "    print('===========')"
   ]
  }
 ],
 "metadata": {
  "kernelspec": {
   "display_name": "Python 3.7.6 64-bit ('base': conda)",
   "language": "python",
   "name": "python_defaultSpec_1609399730495"
  },
  "language_info": {
   "codemirror_mode": {
    "name": "ipython",
    "version": 3
   },
   "file_extension": ".py",
   "mimetype": "text/x-python",
   "name": "python",
   "nbconvert_exporter": "python",
   "pygments_lexer": "ipython3",
   "version": "3.7.6-final"
  }
 },
 "nbformat": 4,
 "nbformat_minor": 4
}