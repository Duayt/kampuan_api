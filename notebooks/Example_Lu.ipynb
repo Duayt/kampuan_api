{
 "cells": [
  {
   "cell_type": "code",
   "execution_count": 1,
   "metadata": {
    "tags": []
   },
   "outputs": [],
   "source": [
    "%load_ext autoreload\n",
    "%autoreload 2"
   ]
  },
  {
   "cell_type": "code",
   "execution_count": 2,
   "metadata": {},
   "outputs": [],
   "source": [
    "from kampuan import translate_lu, puan_lu, puan_kam, puan_kam_all, pun_wunayook\n",
    "#import puan_lu"
   ]
  },
  {
   "cell_type": "code",
   "execution_count": null,
   "metadata": {},
   "outputs": [],
   "source": []
  },
  {
   "cell_type": "markdown",
   "metadata": {},
   "source": [
    "# Convert Thai to Lu"
   ]
  },
  {
   "cell_type": "code",
   "execution_count": 3,
   "metadata": {
    "tags": []
   },
   "outputs": [
    {
     "output_type": "stream",
     "name": "stdout",
     "text": "input:  ขอลองเทียนชอบพูดภาษาลู\noutput:  ['หลอ', 'ขู', 'ซอง', 'ลูง', 'เลียน', 'ทูน', 'ลอบ', 'ชูบ', 'ลูด', 'พีด', 'ลา', 'ภู', 'หลา', 'ษู', 'ซู', 'ลี']\n===========\ninput:  มะนาวต่างดุ๊ด\noutput:  ['ละ', 'มุ', 'ลาว', 'นูว', 'หล่าง', 'ตู่ง', 'ลุด', 'ดิ๊ด']\n===========\ninput:  เทียนกินชา\noutput:  ['เลียน', 'ทูน', 'ลิน', 'กุน', 'ลา', 'ชู']\n===========\ninput:  โครงข่ายประสาทเทียม\noutput:  ['โลง', 'คูง', 'หล่าย', 'ขู่ย', 'หละ', 'ปุ', 'หลาท', 'สูท', 'เลียม', 'ทูม']\n===========\ninput:  การเรียนรู้เชิงลึก\noutput:  ['ลาร', 'กูร', 'เซียน', 'รูน', 'ซู้', 'รี้', 'เลิง', 'ชูง', 'ซึก', 'ลุก']\n===========\ninput:  ภาษาลู\noutput:  ['ลา', 'ภู', 'หลา', 'ษู', 'ซู', 'ลี']\n===========\ninput:  กาเป็นหมู\noutput: ['ลา', 'กู', 'เล็น', 'ปุน', 'หลู', 'หมี']\n===========\ninput:  ก้างใหญ่\noutput:  ['ล่าง', 'กู้ง', 'ใหล่', 'หญุ']\n===========\ninput:  อะหรี่ดอย\noutput:  ['หละ', 'อุ', 'สี่', 'หรู่', 'ลอย', 'ดูย']\n===========\ninput:  นอนแล้ว\noutput:  ['ลอน', 'นูน', 'แซ้ว', 'ลู้ว']\n===========\ninput:  ตะปู\noutput:  ['หละ', 'ตุ', 'ลู', 'ปี']\n===========\ninput:  นักเรียน\noutput:  ['ลัก', 'นูก', 'เซียน', 'รูน']\n===========\ninput:  ขนม\ncheck this case not sure\noutput:  ['หละ', 'ขุ', 'หลม', 'หนูม']\n===========\ninput:  เรอทัก\noutput:  ['เซอ', 'รู', 'ลัก', 'ทูก']\n===========\ninput:  สวัสดี\noutput:  ['หละ', 'สุ', 'หลัส', 'หวูส', 'ลี', 'ดู']\n===========\ninput:  ดาต้ามาย\noutput:  ['ลา', 'ดู', 'ล่า', 'ตู้', 'ลาย', 'มูย']\n===========\ninput:  ['เป็ด', 'กิน', 'ไก่']\noutput:  ['เหล็ด', 'ปุด', 'ลิน', 'กุน', 'ไหล่', 'กุ']\n===========\ninput:  ภูมิหล่อ\noutput:  ['ละ', 'ภุ', 'หลู', 'หมี', 'ส่อ', 'หลู่']\n===========\n"
    }
   ],
   "source": [
    "case_1 =[\n",
    "        'ขอลองเทียนชอบพูดภาษาลู',\n",
    "        'มะนาวต่างดุ๊ด',\n",
    "         'เทียนกินชา',\n",
    "         'โครงข่ายประสาทเทียม',\n",
    "         'การเรียนรู้เชิงลึก',\n",
    "         'ภาษาลู',\n",
    "         'กาเป็นหมู',\n",
    "         'ก้างใหญ่',\n",
    "         'อะหรี่ดอย',\n",
    "         'นอนแล้ว',\n",
    "         'ตะปู',\n",
    "         'นักเรียน',\n",
    "         'ขนม',\n",
    "         'เรอทัก',\n",
    "        'สวัสดี',    \n",
    "        'ดาต้ามาย',        \n",
    "        ['เป็ด','กิน','ไก่'],\n",
    "        'ภูมิหล่อ']\n",
    "for k in case_1:\n",
    "    print('input: ',k)\n",
    "    print('output: ',puan_lu(k))\n",
    "    #print('output: ',puan_kam(k))\n",
    "    print('===========')"
   ]
  },
  {
   "cell_type": "markdown",
   "metadata": {},
   "source": [
    "# Convert Lu to Thai"
   ]
  },
  {
   "cell_type": "code",
   "execution_count": 10,
   "metadata": {
    "tags": []
   },
   "outputs": [
    {
     "output_type": "stream",
     "name": "stdout",
     "text": "input:  เลียนทูนลินกุนล่าวขู้ว\n[<ThaiSubWord เลียน at 0x7fa321d797d0>, <ThaiSubWord ทูน at 0x7fa3326d90d0>, <ThaiSubWord ลิน at 0x7fa321f1ae50>, <ThaiSubWord กุน at 0x7fa321d7a090>, <ThaiSubWord ล่าว at 0x7fa320d82cd0>, <ThaiSubWord ขู้ว at 0x7fa321d7a510>]\nเทียน\nกิน\nขาว\noutput:  ['เทียน', 'กิน', 'ข้าว']\n===========\ninput:  ลาภูหลาสูซูลีลี่นู่ลันมุนลีดูลิงจุงลิงจุง\n[<ThaiSubWord ลา at 0x7fa3238a8350>, <ThaiSubWord ภู at 0x7fa3326dce90>, <ThaiSubWord หลา at 0x7fa3207e2c50>, <ThaiSubWord สู at 0x7fa321f46c90>, <ThaiSubWord ซู at 0x7fa32075fa10>, <ThaiSubWord ลี at 0x7fa321f55550>, <ThaiSubWord ลี่ at 0x7fa32071a850>, <ThaiSubWord นู่ at 0x7fa3207e0490>, <ThaiSubWord ลัน at 0x7fa321db6bd0>, <ThaiSubWord มุน at 0x7fa32071aa10>, <ThaiSubWord ลี at 0x7fa3251c65d0>, <ThaiSubWord ดู at 0x7fa3251c68d0>, <ThaiSubWord ลิง at 0x7fa324363950>, <ThaiSubWord จุง at 0x7fa3251bbf90>, <ThaiSubWord ลิง at 0x7fa3237dc490>, <ThaiSubWord จุง at 0x7fa321f414d0>]\nภา\nสา\nลู\nนี\nมัน\nดี\nจิง\nจิง\noutput:  ['ภา', 'สา', 'ลู', 'นี่', 'มัน', 'ดี', 'จิง', 'จิง']\n===========\ninput:  โลคูลิดวุดหลิบสุบเหล้ากู้ว\n[<ThaiSubWord โล at 0x7fa321f33410>, <ThaiSubWord คู at 0x7fa32375d150>, <ThaiSubWord ลิด at 0x7fa3232d1510>, <ThaiSubWord วุด at 0x7fa3319d9290>, <ThaiSubWord หลิบ at 0x7fa321d79690>, <ThaiSubWord สุบ at 0x7fa325208210>, <ThaiSubWord เห at 0x7fa325208350>, <ThaiSubWord ล้า at 0x7fa321dbced0>, <ThaiSubWord กู้ว at 0x7fa32509df10>]\nโค\nวิด\nสิบ\nเล\noutput:  ['โค', 'วิด', 'สิบ', 'เหล']\n===========\ninput:  ละสุหลัดสุดหลัดหวุดลีดูเลลบูล\n[<ThaiSubWord ละ at 0x7fa321d7a510>, <ThaiSubWord สุ at 0x7fa332712690>, <ThaiSubWord หลัด at 0x7fa332d781d0>, <ThaiSubWord สุด at 0x7fa325208390>, <ThaiSubWord หลัด at 0x7fa321f4db50>, <ThaiSubWord หวุด at 0x7fa32071a850>, <ThaiSubWord ลี at 0x7fa32071aa10>, <ThaiSubWord ดู at 0x7fa3237dcfd0>, <ThaiSubWord เลล at 0x7fa3207e2c50>, <ThaiSubWord บูล at 0x7fa32071afd0>]\nสะ\nสัด\nหวัด\nดี\nเบล\noutput:  ['ซะ', 'สัด', 'หวัด', 'ดี', 'เบล']\n===========\ninput:  เหลิดปูดเหลยผูยลามทูมซายลูย\n[<ThaiSubWord เหลิด at 0x7fa321db6e90>, <ThaiSubWord ปูด at 0x7fa3319d9290>, <ThaiSubWord เหลย at 0x7fa3203ef190>, <ThaiSubWord ผูย at 0x7fa32375d150>, <ThaiSubWord ลาม at 0x7fa3240f9190>, <ThaiSubWord ทูม at 0x7fa321d87590>, <ThaiSubWord ซาย at 0x7fa321d87bd0>, <ThaiSubWord ลูย at 0x7fa3251c65d0>]\nเปิด\nเผย\nทาม\nลาย\noutput:  ['เปิด', 'เผย', 'ทาม', 'ลาย']\n===========\ninput:  ไลดูโลนูเล่าสรู้ว\nส\n[<ThaiSubWord ไล at 0x7fa321d87590>, <ThaiSubWord ดู at 0x7fa3238a8350>, <ThaiSubWord โล at 0x7fa332709090>, <ThaiSubWord นู at 0x7fa321f551d0>, <ThaiSubWord เล่า at 0x7fa321f46b10>, <ThaiSubWord สอ at 0x7fa3232a9f10>, <ThaiSubWord รู้ว at 0x7fa3232a9fd0>]\nได\nโน\nเสา\noutput:  ['ได', 'โน', 'เส้า']\n===========\ninput:  ลี่นู่หลันฉุนลำกุงซังลุงลำทุมไซรูหลู่หยี่\n[<ThaiSubWord ลี่ at 0x7fa332d781d0>, <ThaiSubWord นู่ at 0x7fa320d82cd0>, <ThaiSubWord หลัน at 0x7fa32075fa10>, <ThaiSubWord ฉุน at 0x7fa321db6e90>, <ThaiSubWord ลำ at 0x7fa3319d9290>, <ThaiSubWord กุง at 0x7fa321db6bd0>, <ThaiSubWord ซัง at 0x7fa32072ac50>, <ThaiSubWord ลุง at 0x7fa321f4f790>, <ThaiSubWord ลำ at 0x7fa323346710>, <ThaiSubWord ทุม at 0x7fa32343d150>, <ThaiSubWord ไซ at 0x7fa323346090>, <ThaiSubWord รู at 0x7fa3251c6f90>, <ThaiSubWord หลู่ at 0x7fa3251c6a50>, <ThaiSubWord หยี่ at 0x7fa32509dd50>]\nนี\nฉัน\nกำ\nลัง\nทำ\nไล\nหยู\noutput: ['นี่', 'ฉัน', 'กำ', 'ลัง', 'ทำ', 'ไล', 'หยู่']\n===========\ninput:  ไลดูโลนูลู่สี้\n[<ThaiSubWord ไล at 0x7fa3207e0490>, <ThaiSubWord ดู at 0x7fa3251c7050>, <ThaiSubWord โล at 0x7fa3207e2c50>, <ThaiSubWord นู at 0x7fa3231ce310>, <ThaiSubWord ลู่ at 0x7fa324363950>, <ThaiSubWord สี้ at 0x7fa323c73650>]\nได\nโน\nสู\noutput:  ['ได', 'โน', 'สู้']\n===========\ninput:  เหลิดปูดเหลยผูยลามทูมซายลูย\n[<ThaiSubWord เหลิด at 0x7fa32071afd0>, <ThaiSubWord ปูด at 0x7fa321d79790>, <ThaiSubWord เหลย at 0x7fa321db6e90>, <ThaiSubWord ผูย at 0x7fa324363950>, <ThaiSubWord ลาม at 0x7fa321f46b10>, <ThaiSubWord ทูม at 0x7fa321f49290>, <ThaiSubWord ซาย at 0x7fa321f491d0>, <ThaiSubWord ลูย at 0x7fa321f49910>]\nเปิด\nเผย\nทาม\nลาย\noutput:  ['เปิด', 'เผย', 'ทาม', 'ลาย']\n===========\n"
    }
   ],
   "source": [
    "case_lu =['เลียนทูนลินกุนล่าวขู้ว',\n",
    "          #'ลานงูนเลอะยุุลากมูก', #Still does not pass\n",
    "          'ลาภูหลาสูซูลีลี่นู่ลันมุนลีดูลิงจุงลิงจุง',\n",
    "          'โลคูลิดวุดหลิบสุบเหล้ากู้ว',\n",
    "          'ละสุหลัดสุดหลัดหวุดลีดูเลลบูล',\n",
    "          'เหลิดปูดเหลยผูยลามทูมซายลูย',\n",
    "          'ไลดูโลนูเล่าสรู้ว', # Still wrong\n",
    "          'ลี่นู่หลันฉุนลำกุงซังลุงลำทุมไซรูหลู่หยี่',\n",
    "          'ไลดูโลนูลู่สี้',\n",
    "          'เหลิดปูดเหลยผูยลามทูมซายลูย',\n",
    "]\n",
    "for k in case_lu:\n",
    "    print('input: ',k)\n",
    "    print('output: ',translate_lu(k))    \n",
    "    print('===========')"
   ]
  },
  {
   "cell_type": "code",
   "execution_count": null,
   "metadata": {},
   "outputs": [],
   "source": []
  }
 ],
 "metadata": {
  "kernelspec": {
   "display_name": "Python 3.7.6 64-bit ('base': conda)",
   "language": "python",
   "name": "python_defaultSpec_1609674716119"
  },
  "language_info": {
   "codemirror_mode": {
    "name": "ipython",
    "version": 3
   },
   "file_extension": ".py",
   "mimetype": "text/x-python",
   "name": "python",
   "nbconvert_exporter": "python",
   "pygments_lexer": "ipython3",
   "version": "3.7.6-final"
  }
 },
 "nbformat": 4,
 "nbformat_minor": 4
}