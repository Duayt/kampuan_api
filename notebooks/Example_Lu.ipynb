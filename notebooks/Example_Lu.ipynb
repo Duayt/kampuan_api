{
 "cells": [
  {
   "cell_type": "code",
   "execution_count": 2,
   "metadata": {
    "tags": []
   },
   "outputs": [],
   "source": [
    "%load_ext autoreload\n",
    "%autoreload 2"
   ]
  },
  {
   "cell_type": "code",
   "execution_count": 3,
   "metadata": {},
   "outputs": [],
   "source": [
    "from kampuan import puan_lu, puan_kam, puan_kam_all, pun_wunayook\n",
    "#import puan_lu"
   ]
  },
  {
   "cell_type": "code",
   "execution_count": null,
   "metadata": {},
   "outputs": [],
   "source": []
  },
  {
   "cell_type": "markdown",
   "metadata": {},
   "source": [
    "# Auto assume puan kam"
   ]
  },
  {
   "cell_type": "code",
   "execution_count": 4,
   "metadata": {
    "tags": []
   },
   "outputs": [
    {
     "output_type": "stream",
     "name": "stdout",
     "text": "input:  มะนาวต่างดุ๊ด\noutput:  [['มุด', 'นาว', 'ต่าง', 'ด๊ะ'], ['มะ', 'นุด', 'ต่าง', 'ดาว']]\noutput:  [['มุด', 'นาว', 'ต่าง', 'ด๊ะ'], ['มะ', 'นุด', 'ต่าง', 'ดาว']]\n===========\ninput:  กาเป็นหมู\n"
    },
    {
     "output_type": "error",
     "ename": "AttributeError",
     "evalue": "'str' object has no attribute '_tone'",
     "traceback": [
      "\u001b[0;31m---------------------------------------------------------------------------\u001b[0m",
      "\u001b[0;31mAttributeError\u001b[0m                            Traceback (most recent call last)",
      "\u001b[0;32m<ipython-input-4-fae1a8bca71c>\u001b[0m in \u001b[0;36m<module>\u001b[0;34m\u001b[0m\n\u001b[1;32m     13\u001b[0m \u001b[0;32mfor\u001b[0m \u001b[0mk\u001b[0m \u001b[0;32min\u001b[0m \u001b[0mcase_1\u001b[0m\u001b[0;34m:\u001b[0m\u001b[0;34m\u001b[0m\u001b[0;34m\u001b[0m\u001b[0m\n\u001b[1;32m     14\u001b[0m     \u001b[0mprint\u001b[0m\u001b[0;34m(\u001b[0m\u001b[0;34m'input: '\u001b[0m\u001b[0;34m,\u001b[0m\u001b[0mk\u001b[0m\u001b[0;34m)\u001b[0m\u001b[0;34m\u001b[0m\u001b[0;34m\u001b[0m\u001b[0m\n\u001b[0;32m---> 15\u001b[0;31m     \u001b[0mprint\u001b[0m\u001b[0;34m(\u001b[0m\u001b[0;34m'output: '\u001b[0m\u001b[0;34m,\u001b[0m\u001b[0mpuan_lu\u001b[0m\u001b[0;34m(\u001b[0m\u001b[0mk\u001b[0m\u001b[0;34m)\u001b[0m\u001b[0;34m)\u001b[0m\u001b[0;34m\u001b[0m\u001b[0;34m\u001b[0m\u001b[0m\n\u001b[0m\u001b[1;32m     16\u001b[0m     \u001b[0mprint\u001b[0m\u001b[0;34m(\u001b[0m\u001b[0;34m'output: '\u001b[0m\u001b[0;34m,\u001b[0m\u001b[0mpuan_kam\u001b[0m\u001b[0;34m(\u001b[0m\u001b[0mk\u001b[0m\u001b[0;34m)\u001b[0m\u001b[0;34m)\u001b[0m\u001b[0;34m\u001b[0m\u001b[0;34m\u001b[0m\u001b[0m\n\u001b[1;32m     17\u001b[0m     \u001b[0mprint\u001b[0m\u001b[0;34m(\u001b[0m\u001b[0;34m'==========='\u001b[0m\u001b[0;34m)\u001b[0m\u001b[0;34m\u001b[0m\u001b[0;34m\u001b[0m\u001b[0m\n",
      "\u001b[0;32m~/anaconda3/lib/python3.7/site-packages/kampuan/__init__.py\u001b[0m in \u001b[0;36mpuan_lu\u001b[0;34m(text)\u001b[0m\n\u001b[1;32m    212\u001b[0m \u001b[0;34m\u001b[0m\u001b[0m\n\u001b[1;32m    213\u001b[0m \u001b[0;32mdef\u001b[0m \u001b[0mpuan_lu\u001b[0m\u001b[0;34m(\u001b[0m\u001b[0mtext\u001b[0m\u001b[0;34m)\u001b[0m \u001b[0;34m->\u001b[0m \u001b[0mList\u001b[0m\u001b[0;34m[\u001b[0m\u001b[0mstr\u001b[0m\u001b[0;34m]\u001b[0m\u001b[0;34m:\u001b[0m\u001b[0;34m\u001b[0m\u001b[0;34m\u001b[0m\u001b[0m\n\u001b[0;32m--> 214\u001b[0;31m     \u001b[0;32mreturn\u001b[0m \u001b[0mpuan_kam_auto\u001b[0m\u001b[0;34m(\u001b[0m\u001b[0mtext\u001b[0m\u001b[0;34m=\u001b[0m\u001b[0mtext\u001b[0m\u001b[0;34m,\u001b[0m \u001b[0muse_first\u001b[0m\u001b[0;34m=\u001b[0m\u001b[0;32mNone\u001b[0m\u001b[0;34m,\u001b[0m \u001b[0mflag_puan_2_lu\u001b[0m\u001b[0;34m=\u001b[0m\u001b[0;32mTrue\u001b[0m\u001b[0;34m)\u001b[0m\u001b[0;34m\u001b[0m\u001b[0;34m\u001b[0m\u001b[0m\n\u001b[0m\u001b[1;32m    215\u001b[0m \u001b[0;34m\u001b[0m\u001b[0m\n\u001b[1;32m    216\u001b[0m \u001b[0;32mdef\u001b[0m \u001b[0mpun_wunayook\u001b[0m\u001b[0;34m(\u001b[0m\u001b[0mtext\u001b[0m\u001b[0;34m)\u001b[0m\u001b[0;34m:\u001b[0m\u001b[0;34m\u001b[0m\u001b[0;34m\u001b[0m\u001b[0m\n",
      "\u001b[0;32m~/anaconda3/lib/python3.7/site-packages/kampuan/__init__.py\u001b[0m in \u001b[0;36mpuan_kam_auto\u001b[0;34m(text, use_first, flag_puan_2_lu)\u001b[0m\n\u001b[1;32m    205\u001b[0m             \u001b[0mindex\u001b[0m \u001b[0;34m=\u001b[0m \u001b[0;34m(\u001b[0m\u001b[0;36m1\u001b[0m\u001b[0;34m,\u001b[0m \u001b[0;34m-\u001b[0m\u001b[0;36m1\u001b[0m\u001b[0;34m)\u001b[0m\u001b[0;34m\u001b[0m\u001b[0;34m\u001b[0m\u001b[0m\n\u001b[1;32m    206\u001b[0m \u001b[0;34m\u001b[0m\u001b[0m\n\u001b[0;32m--> 207\u001b[0;31m     \u001b[0;32mreturn\u001b[0m \u001b[0mpuan_kam_base\u001b[0m\u001b[0;34m(\u001b[0m\u001b[0mtext\u001b[0m\u001b[0;34m=\u001b[0m\u001b[0msplit_words\u001b[0m\u001b[0;34m,\u001b[0m \u001b[0mkeep_tone\u001b[0m\u001b[0;34m=\u001b[0m\u001b[0;32mNone\u001b[0m\u001b[0;34m,\u001b[0m \u001b[0mindex\u001b[0m\u001b[0;34m=\u001b[0m\u001b[0mindex\u001b[0m\u001b[0;34m,\u001b[0m \u001b[0mflag_puan_2_lu\u001b[0m\u001b[0;34m=\u001b[0m\u001b[0mflag_puan_2_lu\u001b[0m\u001b[0;34m)\u001b[0m\u001b[0;34m\u001b[0m\u001b[0;34m\u001b[0m\u001b[0m\n\u001b[0m\u001b[1;32m    208\u001b[0m \u001b[0;34m\u001b[0m\u001b[0m\n\u001b[1;32m    209\u001b[0m \u001b[0;34m\u001b[0m\u001b[0m\n",
      "\u001b[0;32m~/anaconda3/lib/python3.7/site-packages/kampuan/__init__.py\u001b[0m in \u001b[0;36mpuan_kam_base\u001b[0;34m(text, keep_tone, use_first, index, flag_puan_2_lu)\u001b[0m\n\u001b[1;32m    153\u001b[0m     \u001b[0;31m# apply tone rules\u001b[0m\u001b[0;34m\u001b[0m\u001b[0;34m\u001b[0m\u001b[0;34m\u001b[0m\u001b[0m\n\u001b[1;32m    154\u001b[0m     \u001b[0;32mif\u001b[0m \u001b[0;32mnot\u001b[0m \u001b[0mflag_puan_2_lu\u001b[0m\u001b[0;34m:\u001b[0m \u001b[0ma_target\u001b[0m\u001b[0;34m,\u001b[0m \u001b[0mb_target\u001b[0m \u001b[0;34m=\u001b[0m \u001b[0mpuan_2_kam\u001b[0m\u001b[0;34m(\u001b[0m\u001b[0ma_raw\u001b[0m\u001b[0;34m,\u001b[0m \u001b[0mb_raw\u001b[0m\u001b[0;34m,\u001b[0m \u001b[0mkeep_tone\u001b[0m\u001b[0;34m=\u001b[0m\u001b[0mkeep_tone\u001b[0m\u001b[0;34m)\u001b[0m\u001b[0;34m\u001b[0m\u001b[0;34m\u001b[0m\u001b[0m\n\u001b[0;32m--> 155\u001b[0;31m     \u001b[0;32melse\u001b[0m\u001b[0;34m:\u001b[0m \u001b[0ma_target\u001b[0m\u001b[0;34m,\u001b[0m \u001b[0mb_target\u001b[0m \u001b[0;34m=\u001b[0m \u001b[0mpuan_2_lu\u001b[0m\u001b[0;34m(\u001b[0m\u001b[0ma_raw\u001b[0m\u001b[0;34m,\u001b[0m \u001b[0mb_raw\u001b[0m\u001b[0;34m,\u001b[0m \u001b[0mkeep_tone\u001b[0m\u001b[0;34m=\u001b[0m\u001b[0mkeep_tone\u001b[0m\u001b[0;34m)\u001b[0m\u001b[0;34m\u001b[0m\u001b[0;34m\u001b[0m\u001b[0m\n\u001b[0m\u001b[1;32m    156\u001b[0m \u001b[0;34m\u001b[0m\u001b[0m\n\u001b[1;32m    157\u001b[0m     \u001b[0;31m# 7. combine\u001b[0m\u001b[0;34m\u001b[0m\u001b[0;34m\u001b[0m\u001b[0;34m\u001b[0m\u001b[0m\n",
      "\u001b[0;32m~/anaconda3/lib/python3.7/site-packages/kampuan/__init__.py\u001b[0m in \u001b[0;36mpuan_2_lu\u001b[0;34m(a_raw, b_raw, keep_tone)\u001b[0m\n\u001b[1;32m     59\u001b[0m \u001b[0;34m\u001b[0m\u001b[0m\n\u001b[1;32m     60\u001b[0m     \u001b[0;31m#print tone of first and second a and b\u001b[0m\u001b[0;34m\u001b[0m\u001b[0;34m\u001b[0m\u001b[0;34m\u001b[0m\u001b[0m\n\u001b[0;32m---> 61\u001b[0;31m     \u001b[0mprint\u001b[0m\u001b[0;34m(\u001b[0m\u001b[0mThaiSubWord\u001b[0m\u001b[0;34m(\u001b[0m\u001b[0ma_first\u001b[0m\u001b[0;34m.\u001b[0m\u001b[0m_tone\u001b[0m\u001b[0;34m)\u001b[0m\u001b[0;34m,\u001b[0m \u001b[0mThaiSubWord\u001b[0m\u001b[0;34m(\u001b[0m\u001b[0ma_second\u001b[0m\u001b[0;34m.\u001b[0m\u001b[0m_tone\u001b[0m\u001b[0;34m)\u001b[0m\u001b[0;34m)\u001b[0m\u001b[0;34m\u001b[0m\u001b[0;34m\u001b[0m\u001b[0m\n\u001b[0m\u001b[1;32m     62\u001b[0m     \u001b[0mprint\u001b[0m\u001b[0;34m(\u001b[0m\u001b[0mThaiSubWord\u001b[0m\u001b[0;34m(\u001b[0m\u001b[0mb_first\u001b[0m\u001b[0;34m.\u001b[0m\u001b[0m_tone\u001b[0m\u001b[0;34m)\u001b[0m\u001b[0;34m,\u001b[0m \u001b[0mThaiSubWord\u001b[0m\u001b[0;34m(\u001b[0m\u001b[0mb_second\u001b[0m\u001b[0;34m.\u001b[0m\u001b[0m_tone\u001b[0m\u001b[0;34m)\u001b[0m\u001b[0;34m)\u001b[0m\u001b[0;34m\u001b[0m\u001b[0;34m\u001b[0m\u001b[0m\n\u001b[1;32m     63\u001b[0m \u001b[0;34m\u001b[0m\u001b[0m\n",
      "\u001b[0;31mAttributeError\u001b[0m: 'str' object has no attribute '_tone'"
     ]
    }
   ],
   "source": [
    "case_1 =['มะนาวต่างดุ๊ด',\n",
    "         'กาเป็นหมู',\n",
    "         'ก้างใหญ่',\n",
    "         'อะหรี่ดอย',\n",
    "         'นอนแล้ว',\n",
    "         'ตะปู',\n",
    "         'นักเรียน',\n",
    "         'ขนม',\n",
    "         'เรอทัก',\n",
    "        'สวัสดี',\n",
    "        ['เป็ด','กิน','ไก่'],\n",
    "        'ภูมิหล่อ']\n",
    "for k in case_1:\n",
    "    print('input: ',k)\n",
    "    print('output: ',puan_lu(k))\n",
    "    print('output: ',puan_kam(k))\n",
    "    print('===========')"
   ]
  },
  {
   "cell_type": "markdown",
   "metadata": {},
   "source": [
    "# Puan all case"
   ]
  },
  {
   "cell_type": "code",
   "execution_count": null,
   "metadata": {},
   "outputs": [],
   "source": [
    "for k in case_1:\n",
    "    print(k)\n",
    "    print(puan_kam_all(k))\n",
    "    print('===========')"
   ]
  },
  {
   "cell_type": "markdown",
   "metadata": {},
   "source": [
    "# pun wunnayook"
   ]
  },
  {
   "cell_type": "code",
   "execution_count": 27,
   "metadata": {},
   "outputs": [
    {
     "data": {
      "text/plain": [
       "{0: ['กา', 'ก่า', 'ก้า', 'ก๊า', 'ก๋า']}"
      ]
     },
     "execution_count": 27,
     "metadata": {},
     "output_type": "execute_result"
    }
   ],
   "source": [
    "pun_wunayook('กา')"
   ]
  },
  {
   "cell_type": "code",
   "execution_count": 28,
   "metadata": {},
   "outputs": [
    {
     "data": {
      "text/plain": [
       "{0: ['กา', 'ก่า', 'ก้า', 'ก๊า', 'ก๋า'],\n",
       " 1: ['ไป', 'ไป่', 'ไป้', 'ไป๊', 'ไป๋'],\n",
       " 2: ['ไน', 'ไหน่', 'ไหน้', 'ไน้', 'ไหน']}"
      ]
     },
     "execution_count": 28,
     "metadata": {},
     "output_type": "execute_result"
    }
   ],
   "source": [
    "pun_wunayook('กาไปไหน')"
   ]
  },
  {
   "cell_type": "code",
   "execution_count": 29,
   "metadata": {},
   "outputs": [
    {
     "data": {
      "text/plain": [
       "{0: ['คาว', 'ข่าว', 'ข้าว', 'ค้าว', 'ขาว'],\n",
       " 1: ['จัง', 'จั่ง', 'จั้ง', 'จั๊ง', 'จั๋ง'],\n",
       " 2: ['เลย', 'เหล่ย', 'เล่ย', 'เล้ย', 'เหลย']}"
      ]
     },
     "execution_count": 29,
     "metadata": {},
     "output_type": "execute_result"
    }
   ],
   "source": [
    "pun_wunayook('ขาวจังเลย')"
   ]
  },
  {
   "cell_type": "code",
   "execution_count": 31,
   "metadata": {},
   "outputs": [
    {
     "name": "stderr",
     "output_type": "stream",
     "text": [
      "WARNING:root:มะ with tone 0 not availabe (Dead word type), return normalize\n",
      "WARNING:root:ดุ๊ด with tone 0 not availabe (Dead word type), return normalize\n",
      "WARNING:root:removing taikoo from เป็น\n",
      "WARNING:root:removing taikoo from เป็น\n",
      "WARNING:root:removing taikoo from เป็น\n",
      "WARNING:root:removing taikoo from เป็น\n"
     ]
    },
    {
     "name": "stdout",
     "output_type": "stream",
     "text": [
      "มะนาวต่างดุ๊ด\n",
      "[['หมะ', 'หมะ', 'ม่ะ', 'มะ', 'ม๋ะ'], ['นาว', 'หน่าว', 'น่าว', 'น้าว', 'หนาว'], ['ตาง', 'ต่าง', 'ต้าง', 'ต๊าง', 'ต๋าง'], ['ดุด', 'ดุด', 'ดุ้ด', 'ดุ๊ด', 'ดุ๋ด']]\n",
      "===========\n",
      "กาเป็นหมู\n"
     ]
    },
    {
     "name": "stderr",
     "output_type": "stream",
     "text": [
      "WARNING:root:อะ with tone 0 not availabe (Dead word type), return normalize\n",
      "WARNING:root:ตะ with tone 0 not availabe (Dead word type), return normalize\n"
     ]
    },
    {
     "name": "stdout",
     "output_type": "stream",
     "text": [
      "[['กา', 'ก่า', 'ก้า', 'ก๊า', 'ก๋า'], ['เป็น', 'เป่น', 'เป้น', 'เป๊น', 'เป๋น'], ['มู', 'หมู่', 'หมู้', 'มู้', 'หมู']]\n",
      "===========\n",
      "ก้างใหญ่\n",
      "[['กาง', 'ก่าง', 'ก้าง', 'ก๊าง', 'ก๋าง'], ['ใญ', 'ใหญ่', 'ใหญ้', 'ใญ้', 'ใหญ']]\n",
      "===========\n",
      "อะหรี่ดอย\n",
      "[['อะ', 'อะ', 'อ้ะ', 'อ๊ะ', 'อ๋ะ'], ['รี', 'หรี่', 'หรี้', 'รี้', 'หรี'], ['ดอย', 'ด่อย', 'ด้อย', 'ด๊อย', 'ด๋อย']]\n",
      "===========\n",
      "นอนแล้ว\n",
      "[['นอน', 'หน่อน', 'น่อน', 'น้อน', 'หนอน'], ['แลว', 'แหล่ว', 'แล่ว', 'แล้ว', 'แหลว']]\n",
      "===========\n",
      "ตะปู\n"
     ]
    },
    {
     "name": "stderr",
     "output_type": "stream",
     "text": [
      "WARNING:root:นัก with tone 0 not availabe (Dead word type), return normalize\n",
      "WARNING:root:ขะ with tone 0 not availabe (Dead word type), return normalize\n",
      "WARNING:root:ทัก with tone 0 not availabe (Dead word type), return normalize\n",
      "WARNING:root:สะ with tone 0 not availabe (Dead word type), return normalize\n",
      "WARNING:root:หวัส with tone 0 not availabe (Dead word type), return normalize\n"
     ]
    },
    {
     "name": "stdout",
     "output_type": "stream",
     "text": [
      "[['ตะ', 'ตะ', 'ต้ะ', 'ต๊ะ', 'ต๋ะ'], ['ปู', 'ปู่', 'ปู้', 'ปู๊', 'ปู๋']]\n",
      "===========\n",
      "นักเรียน\n",
      "[['หนัก', 'หนัก', 'นัก', 'นั้ก', 'นั๋ก'], ['เรียน', 'เหรี่ยน', 'เรี่ยน', 'เรี้ยน', 'เหรียน']]\n",
      "===========\n",
      "ขนม\n",
      "check this case not sure\n",
      "[['คะ', 'ขะ', 'ข้ะ', 'คะ', 'ค๋ะ'], ['นม', 'หน่ม', 'หน้ม', 'น้ม', 'หนม']]\n",
      "===========\n",
      "เรอทัก\n",
      "[['เรอ', 'เหร่อ', 'เร่อ', 'เร้อ', 'เหรอ'], ['ถัก', 'ถัก', 'ทัก', 'ทั้ก', 'ทั๋ก']]\n",
      "===========\n",
      "สวัสดี\n"
     ]
    },
    {
     "name": "stderr",
     "output_type": "stream",
     "text": [
      "WARNING:root:เป็ด with tone 0 not availabe (Dead word type), return normalize\n",
      "WARNING:root:removing taikoo from เป็ด\n",
      "WARNING:root:removing taikoo from เป็ด\n",
      "WARNING:root:removing taikoo from เป็ด\n",
      "WARNING:root:ภะ with tone 0 not availabe (Dead word type), return normalize\n"
     ]
    },
    {
     "name": "stdout",
     "output_type": "stream",
     "text": [
      "[['ซะ', 'สะ', 'ส้ะ', 'ซะ', 'ซ๋ะ'], ['วัส', 'หวัส', 'หวั้ส', 'วั้ส', 'วั๋ส'], ['ดี', 'ดี่', 'ดี้', 'ดี๊', 'ดี๋']]\n",
      "===========\n",
      "['เป็ด', 'กิน', 'ไก่']\n",
      "[['เป็ด', 'เป็ด', 'เป้ด', 'เป๊ด', 'เป๋ด'], ['กิน', 'กิ่น', 'กิ้น', 'กิ๊น', 'กิ๋น'], ['ไก', 'ไก่', 'ไก้', 'ไก๊', 'ไก๋']]\n",
      "===========\n",
      "ภูมิหล่อ\n",
      "[['ผะ', 'ผะ', 'ภ่ะ', 'ภะ', 'ภ๋ะ'], ['มู', 'หูมิ่', 'หูมิ้', 'มู้', 'หูมิ'], ['ลอ', 'หล่อ', 'หล้อ', 'ล้อ', 'หลอ']]\n",
      "===========\n"
     ]
    }
   ],
   "source": [
    "for k in case_1:\n",
    "    print(k)\n",
    "    print(pun_wunayook(k))\n",
    "    print('===========')"
   ]
  },
  {
   "cell_type": "code",
   "execution_count": null,
   "metadata": {},
   "outputs": [],
   "source": []
  },
  {
   "cell_type": "code",
   "execution_count": null,
   "metadata": {},
   "outputs": [],
   "source": []
  }
 ],
 "metadata": {
  "kernelspec": {
   "display_name": "Python 3.7.6 64-bit ('base': conda)",
   "language": "python",
   "name": "python_defaultSpec_1609392276253"
  },
  "language_info": {
   "codemirror_mode": {
    "name": "ipython",
    "version": 3
   },
   "file_extension": ".py",
   "mimetype": "text/x-python",
   "name": "python",
   "nbconvert_exporter": "python",
   "pygments_lexer": "ipython3",
   "version": "3.7.6-final"
  }
 },
 "nbformat": 4,
 "nbformat_minor": 4
}