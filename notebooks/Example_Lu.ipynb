{
 "cells": [
  {
   "cell_type": "code",
   "execution_count": 1,
   "metadata": {
    "tags": []
   },
   "outputs": [],
   "source": [
    "%load_ext autoreload\n",
    "%autoreload 2"
   ]
  },
  {
   "cell_type": "code",
   "execution_count": 2,
   "metadata": {},
   "outputs": [],
   "source": [
    "from kampuan import translate_lu, puan_lu, puan_kam, puan_kam_all, pun_wunayook\n",
    "#import puan_lu"
   ]
  },
  {
   "cell_type": "code",
   "execution_count": null,
   "metadata": {},
   "outputs": [],
   "source": []
  },
  {
   "cell_type": "markdown",
   "metadata": {},
   "source": [
    "# Convert Thai to Lu"
   ]
  },
  {
   "cell_type": "code",
   "execution_count": 3,
   "metadata": {
    "tags": []
   },
   "outputs": [
    {
     "output_type": "stream",
     "name": "stdout",
     "text": "input:  ขอลองเทียนชอบพูดภาษาลู\noutput:  ['หลอขู', 'ซองลูง', 'เลียนทูน', 'ลอบชูบ', 'ลูดพีด', 'ลาภู', 'หลาษู', 'ซูลี']\n===========\ninput:  มะนาวต่างดุ๊ด\noutput:  ['ละมุ', 'ลาวนูว', 'หล่างตู่ง', 'ลุดดิ๊ด']\n===========\ninput:  เทียนกินชา\noutput:  ['เลียนทูน', 'ลินกุน', 'ลาชู']\n===========\ninput:  โครงข่ายประสาทเทียม\noutput:  ['โลงคูง', 'หล่ายขู่ย', 'หละปุ', 'หลาทสูท', 'เลียมทูม']\n===========\ninput:  การเรียนรู้เชิงลึก\noutput:  ['ลารกูร', 'เซียนรูน', 'ซู้รี้', 'เลิงชูง', 'ซึกลุก']\n===========\ninput:  ภาษาลู\noutput:  ['ลาภู', 'หลาษู', 'ซูลี']\n===========\ninput:  กาเป็นหมู\noutput:  ['ลากู', 'เล็นปุน', 'หลูหมี']\n===========\ninput:  ก้างใหญ่\noutput:  ['ล่างกู้ง', 'ใหล่หญุ']\n===========\ninput:  อะหรี่ดอย\noutput:  ['หละอุ', 'สี่หรู่', 'ลอยดูย']\n===========\ninput:  นอนแล้ว\noutput:  ['ลอนนูน', 'แซ้วลู้ว']\n===========\ninput:  ตะปู\noutput:  ['หละตุ', 'ลูปี']\n===========\ninput:  นักเรียน\noutput:  ['ลักนูก', 'เซียนรูน']\n===========\ninput:  ขนม\ncheck this case not sure\noutput: ['หละขุ', 'หลมหนูม']\n===========\ninput:  เรอทัก\noutput:  ['เซอรู', 'ลักทูก']\n===========\ninput:  สวัสดี\noutput:  ['หละสุ', 'หลัสหวูส', 'ลีดู']\n===========\ninput:  ดาต้ามาย\noutput:  ['ลาดู', 'ล่าตู้', 'ลายมูย']\n===========\ninput:  ['เป็ด', 'กิน', 'ไก่']\noutput:  ['เหล็ดปุด', 'ลินกุน', 'ไหล่กุ']\n===========\ninput:  ภูมิหล่อ\noutput:  ['ละภุ', 'หลูหมี', 'ส่อหลู่']\n===========\n"
    }
   ],
   "source": [
    "case_1 =['ขอลองเทียนชอบพูดภาษาลู',\n",
    "        'มะนาวต่างดุ๊ด',\n",
    "         'เทียนกินชา',\n",
    "         'โครงข่ายประสาทเทียม',\n",
    "         'การเรียนรู้เชิงลึก',\n",
    "         'ภาษาลู',\n",
    "         'กาเป็นหมู',\n",
    "         'ก้างใหญ่',\n",
    "         'อะหรี่ดอย',\n",
    "         'นอนแล้ว',\n",
    "         'ตะปู',\n",
    "         'นักเรียน',\n",
    "         'ขนม',\n",
    "         'เรอทัก',\n",
    "        'สวัสดี',    \n",
    "        'ดาต้ามาย',        \n",
    "        ['เป็ด','กิน','ไก่'],\n",
    "        'ภูมิหล่อ']\n",
    "for k in case_1:\n",
    "    print('input: ',k)\n",
    "    print('output: ',puan_lu(k))\n",
    "    #print('output: ',puan_kam(k))\n",
    "    print('===========')"
   ]
  },
  {
   "cell_type": "markdown",
   "metadata": {},
   "source": [
    "# Convert Lu to Thai"
   ]
  },
  {
   "cell_type": "code",
   "execution_count": 4,
   "metadata": {
    "tags": []
   },
   "outputs": [
    {
     "output_type": "stream",
     "name": "stdout",
     "text": "input:  เลียนทูนลินกุนหล้าวขู้ว\nWARNING:root:check two syllable, return default\nlu ['เลียนทูน', 'ลินกุน', 'หล้าวขู้ว']\n[<ThaiSubWord เลียนทูน at 0x7febc4013190>, <ThaiSubWord ลินกุน at 0x7febb386fb50>, <ThaiSubWord หล้าวขู้ว at 0x7febb38f3ed0>]\noutput:  ['เลนกียนทน']\n===========\ninput:  ลาภู ลาสู ซูลี ลี่นู่ ลันมุน ลีดู ลิงจุง ลิงจุง\nlu ['ลาภู', ' ', 'ลาสู', ' ', 'ซูลี', ' ', 'ลี่นู่', ' ', 'ลันมุน', ' ', 'ลีดู', ' ', 'ลิงจุง', ' ', 'ลิงจุง']\n \n"
    },
    {
     "output_type": "error",
     "ename": "ValueError",
     "evalue": "I am not good enough to understand your words, separate into syllables please?",
     "traceback": [
      "\u001b[0;31m---------------------------------------------------------------------------\u001b[0m",
      "\u001b[0;31mValueError\u001b[0m                                Traceback (most recent call last)",
      "\u001b[0;32m<ipython-input-4-e91b5604181c>\u001b[0m in \u001b[0;36m<module>\u001b[0;34m\u001b[0m\n\u001b[1;32m     11\u001b[0m \u001b[0;32mfor\u001b[0m \u001b[0mk\u001b[0m \u001b[0;32min\u001b[0m \u001b[0mcase_lu\u001b[0m\u001b[0;34m:\u001b[0m\u001b[0;34m\u001b[0m\u001b[0;34m\u001b[0m\u001b[0m\n\u001b[1;32m     12\u001b[0m     \u001b[0mprint\u001b[0m\u001b[0;34m(\u001b[0m\u001b[0;34m'input: '\u001b[0m\u001b[0;34m,\u001b[0m\u001b[0mk\u001b[0m\u001b[0;34m)\u001b[0m\u001b[0;34m\u001b[0m\u001b[0;34m\u001b[0m\u001b[0m\n\u001b[0;32m---> 13\u001b[0;31m     \u001b[0mprint\u001b[0m\u001b[0;34m(\u001b[0m\u001b[0;34m'output: '\u001b[0m\u001b[0;34m,\u001b[0m\u001b[0mtranslate_lu\u001b[0m\u001b[0;34m(\u001b[0m\u001b[0mk\u001b[0m\u001b[0;34m)\u001b[0m\u001b[0;34m)\u001b[0m\u001b[0;34m\u001b[0m\u001b[0;34m\u001b[0m\u001b[0m\n\u001b[0m\u001b[1;32m     14\u001b[0m     \u001b[0mprint\u001b[0m\u001b[0;34m(\u001b[0m\u001b[0;34m'==========='\u001b[0m\u001b[0;34m)\u001b[0m\u001b[0;34m\u001b[0m\u001b[0;34m\u001b[0m\u001b[0m\n",
      "\u001b[0;32m~/anaconda3/lib/python3.7/site-packages/kampuan/__init__.py\u001b[0m in \u001b[0;36mtranslate_lu\u001b[0;34m(text)\u001b[0m\n\u001b[1;32m    277\u001b[0m \u001b[0;34m\u001b[0m\u001b[0m\n\u001b[1;32m    278\u001b[0m \u001b[0;32mdef\u001b[0m \u001b[0mtranslate_lu\u001b[0m\u001b[0;34m(\u001b[0m\u001b[0mtext\u001b[0m\u001b[0;34m)\u001b[0m \u001b[0;34m->\u001b[0m \u001b[0mList\u001b[0m\u001b[0;34m[\u001b[0m\u001b[0mstr\u001b[0m\u001b[0;34m]\u001b[0m\u001b[0;34m:\u001b[0m\u001b[0;34m\u001b[0m\u001b[0;34m\u001b[0m\u001b[0m\n\u001b[0;32m--> 279\u001b[0;31m     \u001b[0;32mreturn\u001b[0m \u001b[0mlu_2_thai\u001b[0m\u001b[0;34m(\u001b[0m\u001b[0mtext\u001b[0m\u001b[0;34m=\u001b[0m\u001b[0mtext\u001b[0m\u001b[0;34m)\u001b[0m\u001b[0;34m\u001b[0m\u001b[0;34m\u001b[0m\u001b[0m\n\u001b[0m\u001b[1;32m    280\u001b[0m \u001b[0;34m\u001b[0m\u001b[0m\n\u001b[1;32m    281\u001b[0m \u001b[0;32mdef\u001b[0m \u001b[0mpun_wunayook\u001b[0m\u001b[0;34m(\u001b[0m\u001b[0mtext\u001b[0m\u001b[0;34m)\u001b[0m\u001b[0;34m:\u001b[0m\u001b[0;34m\u001b[0m\u001b[0;34m\u001b[0m\u001b[0m\n",
      "\u001b[0;32m~/anaconda3/lib/python3.7/site-packages/kampuan/__init__.py\u001b[0m in \u001b[0;36mlu_2_thai\u001b[0;34m(text)\u001b[0m\n\u001b[1;32m     85\u001b[0m \u001b[0;34m\u001b[0m\u001b[0m\n\u001b[1;32m     86\u001b[0m     \u001b[0;32mif\u001b[0m \u001b[0misinstance\u001b[0m\u001b[0;34m(\u001b[0m\u001b[0mtext\u001b[0m\u001b[0;34m,\u001b[0m \u001b[0mstr\u001b[0m\u001b[0;34m)\u001b[0m\u001b[0;34m:\u001b[0m\u001b[0;34m\u001b[0m\u001b[0;34m\u001b[0m\u001b[0m\n\u001b[0;32m---> 87\u001b[0;31m         \u001b[0msubwords\u001b[0m \u001b[0;34m=\u001b[0m \u001b[0mpuan_kam_preprocess\u001b[0m\u001b[0;34m(\u001b[0m\u001b[0mtext\u001b[0m\u001b[0;34m,\u001b[0m \u001b[0mflag_lu_2_thai\u001b[0m\u001b[0;34m=\u001b[0m\u001b[0;32mTrue\u001b[0m\u001b[0;34m)\u001b[0m\u001b[0;34m\u001b[0m\u001b[0;34m\u001b[0m\u001b[0m\n\u001b[0m\u001b[1;32m     88\u001b[0m     \u001b[0;32melif\u001b[0m \u001b[0misinstance\u001b[0m\u001b[0;34m(\u001b[0m\u001b[0mtext\u001b[0m\u001b[0;34m[\u001b[0m\u001b[0;36m0\u001b[0m\u001b[0;34m]\u001b[0m\u001b[0;34m,\u001b[0m \u001b[0mstr\u001b[0m\u001b[0;34m)\u001b[0m\u001b[0;34m:\u001b[0m\u001b[0;34m\u001b[0m\u001b[0;34m\u001b[0m\u001b[0m\n\u001b[1;32m     89\u001b[0m         \u001b[0msubwords\u001b[0m \u001b[0;34m=\u001b[0m \u001b[0mpuan_kam_preprocess\u001b[0m\u001b[0;34m(\u001b[0m\u001b[0mtext\u001b[0m\u001b[0;34m,\u001b[0m \u001b[0mflag_lu_2_thai\u001b[0m\u001b[0;34m=\u001b[0m\u001b[0;32mTrue\u001b[0m\u001b[0;34m)\u001b[0m\u001b[0;34m\u001b[0m\u001b[0;34m\u001b[0m\u001b[0m\n",
      "\u001b[0;32m~/anaconda3/lib/python3.7/site-packages/kampuan/__init__.py\u001b[0m in \u001b[0;36mpuan_kam_preprocess\u001b[0;34m(text, skip_tokenize, flag_lu_2_thai)\u001b[0m\n\u001b[1;32m     68\u001b[0m         \u001b[0;32mraise\u001b[0m \u001b[0mValueError\u001b[0m\u001b[0;34m(\u001b[0m\u001b[0;34m'incorrect value'\u001b[0m\u001b[0;34m)\u001b[0m\u001b[0;34m\u001b[0m\u001b[0;34m\u001b[0m\u001b[0m\n\u001b[1;32m     69\u001b[0m     \u001b[0;31m# 3. Sub word processing, types and tones\u001b[0m\u001b[0;34m\u001b[0m\u001b[0;34m\u001b[0m\u001b[0;34m\u001b[0m\u001b[0m\n\u001b[0;32m---> 70\u001b[0;31m     \u001b[0msub_words\u001b[0m \u001b[0;34m=\u001b[0m \u001b[0;34m[\u001b[0m\u001b[0mThaiSubWord\u001b[0m\u001b[0;34m(\u001b[0m\u001b[0mword\u001b[0m\u001b[0;34m,\u001b[0m \u001b[0mlu_word\u001b[0m\u001b[0;34m=\u001b[0m\u001b[0mflag_lu_2_thai\u001b[0m\u001b[0;34m)\u001b[0m \u001b[0;32mfor\u001b[0m \u001b[0mword\u001b[0m \u001b[0;32min\u001b[0m \u001b[0mtokenized\u001b[0m\u001b[0;34m]\u001b[0m\u001b[0;34m\u001b[0m\u001b[0;34m\u001b[0m\u001b[0m\n\u001b[0m\u001b[1;32m     71\u001b[0m \u001b[0;34m\u001b[0m\u001b[0m\n\u001b[1;32m     72\u001b[0m     \u001b[0;31m# 4. preprocessing on two syllable words\u001b[0m\u001b[0;34m\u001b[0m\u001b[0;34m\u001b[0m\u001b[0;34m\u001b[0m\u001b[0m\n",
      "\u001b[0;32m~/anaconda3/lib/python3.7/site-packages/kampuan/__init__.py\u001b[0m in \u001b[0;36m<listcomp>\u001b[0;34m(.0)\u001b[0m\n\u001b[1;32m     68\u001b[0m         \u001b[0;32mraise\u001b[0m \u001b[0mValueError\u001b[0m\u001b[0;34m(\u001b[0m\u001b[0;34m'incorrect value'\u001b[0m\u001b[0;34m)\u001b[0m\u001b[0;34m\u001b[0m\u001b[0;34m\u001b[0m\u001b[0m\n\u001b[1;32m     69\u001b[0m     \u001b[0;31m# 3. Sub word processing, types and tones\u001b[0m\u001b[0;34m\u001b[0m\u001b[0;34m\u001b[0m\u001b[0;34m\u001b[0m\u001b[0m\n\u001b[0;32m---> 70\u001b[0;31m     \u001b[0msub_words\u001b[0m \u001b[0;34m=\u001b[0m \u001b[0;34m[\u001b[0m\u001b[0mThaiSubWord\u001b[0m\u001b[0;34m(\u001b[0m\u001b[0mword\u001b[0m\u001b[0;34m,\u001b[0m \u001b[0mlu_word\u001b[0m\u001b[0;34m=\u001b[0m\u001b[0mflag_lu_2_thai\u001b[0m\u001b[0;34m)\u001b[0m \u001b[0;32mfor\u001b[0m \u001b[0mword\u001b[0m \u001b[0;32min\u001b[0m \u001b[0mtokenized\u001b[0m\u001b[0;34m]\u001b[0m\u001b[0;34m\u001b[0m\u001b[0;34m\u001b[0m\u001b[0m\n\u001b[0m\u001b[1;32m     71\u001b[0m \u001b[0;34m\u001b[0m\u001b[0m\n\u001b[1;32m     72\u001b[0m     \u001b[0;31m# 4. preprocessing on two syllable words\u001b[0m\u001b[0;34m\u001b[0m\u001b[0;34m\u001b[0m\u001b[0;34m\u001b[0m\u001b[0m\n",
      "\u001b[0;32m~/anaconda3/lib/python3.7/site-packages/kampuan/sub_word.py\u001b[0m in \u001b[0;36m__init__\u001b[0;34m(self, word, lu_word)\u001b[0m\n\u001b[1;32m     22\u001b[0m                 \u001b[0mword\u001b[0m \u001b[0;34m=\u001b[0m \u001b[0mword\u001b[0m \u001b[0;34m+\u001b[0m \u001b[0;34m'อ'\u001b[0m\u001b[0;34m\u001b[0m\u001b[0;34m\u001b[0m\u001b[0m\n\u001b[1;32m     23\u001b[0m             \u001b[0;32melse\u001b[0m\u001b[0;34m:\u001b[0m\u001b[0;34m\u001b[0m\u001b[0;34m\u001b[0m\u001b[0m\n\u001b[0;32m---> 24\u001b[0;31m                 \u001b[0;32mraise\u001b[0m \u001b[0mValueError\u001b[0m\u001b[0;34m(\u001b[0m\u001b[0;34m'I am not good enough to understand your words, separate into syllables please?'\u001b[0m\u001b[0;34m)\u001b[0m\u001b[0;34m\u001b[0m\u001b[0;34m\u001b[0m\u001b[0m\n\u001b[0m\u001b[1;32m     25\u001b[0m \u001b[0;34m\u001b[0m\u001b[0m\n\u001b[1;32m     26\u001b[0m         \u001b[0mself\u001b[0m\u001b[0;34m.\u001b[0m\u001b[0m_raw\u001b[0m\u001b[0;34m:\u001b[0m \u001b[0mstr\u001b[0m \u001b[0;34m=\u001b[0m \u001b[0mword\u001b[0m\u001b[0;34m\u001b[0m\u001b[0;34m\u001b[0m\u001b[0m\n",
      "\u001b[0;31mValueError\u001b[0m: I am not good enough to understand your words, separate into syllables please?"
     ]
    }
   ],
   "source": [
    "case_lu =['เลียนทูนลินกุนหล้าวขู้ว',\n",
    "          #['ลานงูน', 'เลอะยุุ',  'ลากมูก'],\n",
    "          'ลาภูลาสูซูลีลี่นู่ลันมุนลีดูลิงจุงลิงจุง',\n",
    "          'โลคู ลิดวุด หลิบสุบ เหล้ากู้ว',\n",
    "          'ละสุหลัดสุดหลัดหวุดลีดูเลลบูล',\n",
    "          'เหลิดปูดเหลยผูยลามทูมซายลูย',\n",
    "          'ไลดูโลนูเหล้าศรู้ว',\n",
    "          'ไลดูโลนูลู่สี้',\n",
    "          'เหลิดปูดเหลยผูยลามทูมซายลูย',\n",
    "]\n",
    "for k in case_lu:\n",
    "    print('input: ',k)\n",
    "    print('output: ',translate_lu(k))    \n",
    "    print('===========')"
   ]
  },
  {
   "cell_type": "code",
   "execution_count": null,
   "metadata": {},
   "outputs": [],
   "source": []
  }
 ],
 "metadata": {
  "kernelspec": {
   "display_name": "Python 3.7.6 64-bit ('base': conda)",
   "language": "python",
   "name": "python_defaultSpec_1609663282356"
  },
  "language_info": {
   "codemirror_mode": {
    "name": "ipython",
    "version": 3
   },
   "file_extension": ".py",
   "mimetype": "text/x-python",
   "name": "python",
   "nbconvert_exporter": "python",
   "pygments_lexer": "ipython3",
   "version": "3.7.6-final"
  }
 },
 "nbformat": 4,
 "nbformat_minor": 4
}