{
 "cells": [
  {
   "cell_type": "code",
   "execution_count": 17,
   "metadata": {},
   "outputs": [
    {
     "name": "stdout",
     "output_type": "stream",
     "text": [
      "The autoreload extension is already loaded. To reload it, use:\n",
      "  %reload_ext autoreload\n"
     ]
    }
   ],
   "source": [
    "%load_ext autoreload\n",
    "%autoreload 2"
   ]
  },
  {
   "cell_type": "code",
   "execution_count": 18,
   "metadata": {},
   "outputs": [],
   "source": [
    "from kampuan import puan_kam,puan_kam_all,pun_wunayook"
   ]
  },
  {
   "cell_type": "markdown",
   "metadata": {},
   "source": [
    "# Auto assume puan kam"
   ]
  },
  {
   "cell_type": "code",
   "execution_count": 24,
   "metadata": {},
   "outputs": [
    {
     "name": "stdout",
     "output_type": "stream",
     "text": [
      "input:  มะนาวต่างดุ๊ด\n",
      "output:  [['มุด', 'นาว', 'ต่าง', 'ด๊ะ'], ['มะ', 'นุด', 'ต่าง', 'ดาว']]\n",
      "===========\n",
      "input:  กาเป็นหมู\n",
      "output:  ['กู', 'เป็น', 'หมา']\n",
      "===========\n",
      "input:  ก้างใหญ่\n",
      "output:  ['ใก้', 'หญ่าง']\n",
      "===========\n",
      "input:  อะหรี่ดอย\n",
      "output:  ['อะ', 'หร่อย', 'ดี']\n",
      "===========\n",
      "input:  นอนแล้ว\n",
      "output:  ['แนว', 'ล้อน']\n",
      "===========\n",
      "input:  ตะปู\n",
      "output:  ['ตู', 'ปะ']\n",
      "===========\n",
      "input:  นักเรียน\n",
      "output:  ['เนียน', 'รัก']\n",
      "===========\n",
      "input:  ขนม\n",
      "check this case not sure\n",
      "output:  ['ขม', 'หนะ']\n",
      "===========\n",
      "input:  เรอทัก\n",
      "output:  ['รัก', 'เทอ']\n",
      "===========\n",
      "input:  สวัสดี\n",
      "output:  ['สะ', 'วี', 'ดัส']\n",
      "===========\n",
      "input:  ['เป็ด', 'กิน', 'ไก่']\n",
      "output:  ['เป็ด', 'ไก', 'กิ่น']\n",
      "===========\n",
      "input:  ภูมิหล่อ\n",
      "output:  ['ภะ', 'หมอ', 'หลู่']\n",
      "===========\n"
     ]
    }
   ],
   "source": [
    "case_1 =['มะนาวต่างดุ๊ด',\n",
    "         'กาเป็นหมู',\n",
    "         'ก้างใหญ่',\n",
    "         'อะหรี่ดอย',\n",
    "         'นอนแล้ว',\n",
    "         'ตะปู',\n",
    "         'นักเรียน',\n",
    "         'ขนม',\n",
    "         'เรอทัก',\n",
    "        'สวัสดี',\n",
    "        ['เป็ด','กิน','ไก่'],\n",
    "        'ภูมิหล่อ']\n",
    "for k in case_1:\n",
    "    print('input: ',k)\n",
    "    print('output: ',puan_kam(k))\n",
    "    print('===========')"
   ]
  },
  {
   "cell_type": "markdown",
   "metadata": {},
   "source": [
    "# Puan all case"
   ]
  },
  {
   "cell_type": "code",
   "execution_count": 26,
   "metadata": {},
   "outputs": [
    {
     "name": "stdout",
     "output_type": "stream",
     "text": [
      "มะนาวต่างดุ๊ด\n",
      "{0: ['มุด', 'นาว', 'ต่าง', 'ด๊ะ'], 1: ['มะ', 'นุด', 'ต่าง', 'ดาว']}\n",
      "===========\n",
      "กาเป็นหมู\n",
      "{0: ['กู', 'เป็น', 'หมา'], 1: ['กา', 'ปู', 'เหม็น']}\n",
      "===========\n",
      "ก้างใหญ่\n",
      "{0: ['ใก้', 'หญ่าง'], 1: ['ใก้', 'หญ่าง']}\n",
      "===========\n",
      "อะหรี่ดอย\n",
      "{0: ['ออย', 'หรี่', 'ดะ'], 1: ['อะ', 'หร่อย', 'ดี']}\n",
      "===========\n",
      "นอนแล้ว\n",
      "{0: ['แนว', 'ล้อน'], 1: ['แนว', 'ล้อน']}\n",
      "===========\n",
      "ตะปู\n",
      "{0: ['ตู', 'ปะ'], 1: ['ตู', 'ปะ']}\n",
      "===========\n",
      "นักเรียน\n",
      "{0: ['เนียน', 'รัก'], 1: ['เนียน', 'รัก']}\n",
      "===========\n",
      "ขนม\n",
      "check this case not sure\n",
      "check this case not sure\n",
      "{0: ['ขม', 'หนะ'], 1: ['ขม', 'หนะ']}\n",
      "===========\n",
      "เรอทัก\n",
      "{0: ['รัก', 'เทอ'], 1: ['รัก', 'เทอ']}\n",
      "===========\n",
      "สวัสดี\n",
      "{0: ['ซี', 'หวัส', 'ดะ'], 1: ['สะ', 'วี', 'ดัส']}\n",
      "===========\n",
      "['เป็ด', 'กิน', 'ไก่']\n",
      "{0: ['ไป่', 'กิน', 'เก็ด'], 1: ['เป็ด', 'ไก', 'กิ่น']}\n",
      "===========\n",
      "ภูมิหล่อ\n",
      "{0: ['ผ่อ', 'หูมิ', 'ละ'], 1: ['ภะ', 'หมอ', 'หลู่']}\n",
      "===========\n"
     ]
    }
   ],
   "source": [
    "for k in case_1:\n",
    "    print(k)\n",
    "    print(puan_kam_all(k))\n",
    "    print('===========')"
   ]
  },
  {
   "cell_type": "markdown",
   "metadata": {},
   "source": [
    "# pun wunnayook"
   ]
  },
  {
   "cell_type": "code",
   "execution_count": 27,
   "metadata": {},
   "outputs": [
    {
     "data": {
      "text/plain": [
       "{0: ['กา', 'ก่า', 'ก้า', 'ก๊า', 'ก๋า']}"
      ]
     },
     "execution_count": 27,
     "metadata": {},
     "output_type": "execute_result"
    }
   ],
   "source": [
    "pun_wunayook('กา')"
   ]
  },
  {
   "cell_type": "code",
   "execution_count": 28,
   "metadata": {},
   "outputs": [
    {
     "data": {
      "text/plain": [
       "{0: ['กา', 'ก่า', 'ก้า', 'ก๊า', 'ก๋า'],\n",
       " 1: ['ไป', 'ไป่', 'ไป้', 'ไป๊', 'ไป๋'],\n",
       " 2: ['ไน', 'ไหน่', 'ไหน้', 'ไน้', 'ไหน']}"
      ]
     },
     "execution_count": 28,
     "metadata": {},
     "output_type": "execute_result"
    }
   ],
   "source": [
    "pun_wunayook('กาไปไหน')"
   ]
  },
  {
   "cell_type": "code",
   "execution_count": 29,
   "metadata": {},
   "outputs": [
    {
     "data": {
      "text/plain": [
       "{0: ['คาว', 'ข่าว', 'ข้าว', 'ค้าว', 'ขาว'],\n",
       " 1: ['จัง', 'จั่ง', 'จั้ง', 'จั๊ง', 'จั๋ง'],\n",
       " 2: ['เลย', 'เหล่ย', 'เล่ย', 'เล้ย', 'เหลย']}"
      ]
     },
     "execution_count": 29,
     "metadata": {},
     "output_type": "execute_result"
    }
   ],
   "source": [
    "pun_wunayook('ขาวจังเลย')"
   ]
  },
  {
   "cell_type": "code",
   "execution_count": 31,
   "metadata": {},
   "outputs": [
    {
     "name": "stderr",
     "output_type": "stream",
     "text": [
      "WARNING:root:มะ with tone 0 not availabe (Dead word type), return normalize\n",
      "WARNING:root:ดุ๊ด with tone 0 not availabe (Dead word type), return normalize\n",
      "WARNING:root:removing taikoo from เป็น\n",
      "WARNING:root:removing taikoo from เป็น\n",
      "WARNING:root:removing taikoo from เป็น\n",
      "WARNING:root:removing taikoo from เป็น\n"
     ]
    },
    {
     "name": "stdout",
     "output_type": "stream",
     "text": [
      "มะนาวต่างดุ๊ด\n",
      "[['หมะ', 'หมะ', 'ม่ะ', 'มะ', 'ม๋ะ'], ['นาว', 'หน่าว', 'น่าว', 'น้าว', 'หนาว'], ['ตาง', 'ต่าง', 'ต้าง', 'ต๊าง', 'ต๋าง'], ['ดุด', 'ดุด', 'ดุ้ด', 'ดุ๊ด', 'ดุ๋ด']]\n",
      "===========\n",
      "กาเป็นหมู\n"
     ]
    },
    {
     "name": "stderr",
     "output_type": "stream",
     "text": [
      "WARNING:root:อะ with tone 0 not availabe (Dead word type), return normalize\n",
      "WARNING:root:ตะ with tone 0 not availabe (Dead word type), return normalize\n"
     ]
    },
    {
     "name": "stdout",
     "output_type": "stream",
     "text": [
      "[['กา', 'ก่า', 'ก้า', 'ก๊า', 'ก๋า'], ['เป็น', 'เป่น', 'เป้น', 'เป๊น', 'เป๋น'], ['มู', 'หมู่', 'หมู้', 'มู้', 'หมู']]\n",
      "===========\n",
      "ก้างใหญ่\n",
      "[['กาง', 'ก่าง', 'ก้าง', 'ก๊าง', 'ก๋าง'], ['ใญ', 'ใหญ่', 'ใหญ้', 'ใญ้', 'ใหญ']]\n",
      "===========\n",
      "อะหรี่ดอย\n",
      "[['อะ', 'อะ', 'อ้ะ', 'อ๊ะ', 'อ๋ะ'], ['รี', 'หรี่', 'หรี้', 'รี้', 'หรี'], ['ดอย', 'ด่อย', 'ด้อย', 'ด๊อย', 'ด๋อย']]\n",
      "===========\n",
      "นอนแล้ว\n",
      "[['นอน', 'หน่อน', 'น่อน', 'น้อน', 'หนอน'], ['แลว', 'แหล่ว', 'แล่ว', 'แล้ว', 'แหลว']]\n",
      "===========\n",
      "ตะปู\n"
     ]
    },
    {
     "name": "stderr",
     "output_type": "stream",
     "text": [
      "WARNING:root:นัก with tone 0 not availabe (Dead word type), return normalize\n",
      "WARNING:root:ขะ with tone 0 not availabe (Dead word type), return normalize\n",
      "WARNING:root:ทัก with tone 0 not availabe (Dead word type), return normalize\n",
      "WARNING:root:สะ with tone 0 not availabe (Dead word type), return normalize\n",
      "WARNING:root:หวัส with tone 0 not availabe (Dead word type), return normalize\n"
     ]
    },
    {
     "name": "stdout",
     "output_type": "stream",
     "text": [
      "[['ตะ', 'ตะ', 'ต้ะ', 'ต๊ะ', 'ต๋ะ'], ['ปู', 'ปู่', 'ปู้', 'ปู๊', 'ปู๋']]\n",
      "===========\n",
      "นักเรียน\n",
      "[['หนัก', 'หนัก', 'นัก', 'นั้ก', 'นั๋ก'], ['เรียน', 'เหรี่ยน', 'เรี่ยน', 'เรี้ยน', 'เหรียน']]\n",
      "===========\n",
      "ขนม\n",
      "check this case not sure\n",
      "[['คะ', 'ขะ', 'ข้ะ', 'คะ', 'ค๋ะ'], ['นม', 'หน่ม', 'หน้ม', 'น้ม', 'หนม']]\n",
      "===========\n",
      "เรอทัก\n",
      "[['เรอ', 'เหร่อ', 'เร่อ', 'เร้อ', 'เหรอ'], ['ถัก', 'ถัก', 'ทัก', 'ทั้ก', 'ทั๋ก']]\n",
      "===========\n",
      "สวัสดี\n"
     ]
    },
    {
     "name": "stderr",
     "output_type": "stream",
     "text": [
      "WARNING:root:เป็ด with tone 0 not availabe (Dead word type), return normalize\n",
      "WARNING:root:removing taikoo from เป็ด\n",
      "WARNING:root:removing taikoo from เป็ด\n",
      "WARNING:root:removing taikoo from เป็ด\n",
      "WARNING:root:ภะ with tone 0 not availabe (Dead word type), return normalize\n"
     ]
    },
    {
     "name": "stdout",
     "output_type": "stream",
     "text": [
      "[['ซะ', 'สะ', 'ส้ะ', 'ซะ', 'ซ๋ะ'], ['วัส', 'หวัส', 'หวั้ส', 'วั้ส', 'วั๋ส'], ['ดี', 'ดี่', 'ดี้', 'ดี๊', 'ดี๋']]\n",
      "===========\n",
      "['เป็ด', 'กิน', 'ไก่']\n",
      "[['เป็ด', 'เป็ด', 'เป้ด', 'เป๊ด', 'เป๋ด'], ['กิน', 'กิ่น', 'กิ้น', 'กิ๊น', 'กิ๋น'], ['ไก', 'ไก่', 'ไก้', 'ไก๊', 'ไก๋']]\n",
      "===========\n",
      "ภูมิหล่อ\n",
      "[['ผะ', 'ผะ', 'ภ่ะ', 'ภะ', 'ภ๋ะ'], ['มู', 'หูมิ่', 'หูมิ้', 'มู้', 'หูมิ'], ['ลอ', 'หล่อ', 'หล้อ', 'ล้อ', 'หลอ']]\n",
      "===========\n"
     ]
    }
   ],
   "source": [
    "for k in case_1:\n",
    "    print(k)\n",
    "    print(pun_wunayook(k))\n",
    "    print('===========')"
   ]
  },
  {
   "cell_type": "code",
   "execution_count": null,
   "metadata": {},
   "outputs": [],
   "source": []
  },
  {
   "cell_type": "code",
   "execution_count": null,
   "metadata": {},
   "outputs": [],
   "source": []
  }
 ],
 "metadata": {
  "kernelspec": {
   "display_name": "chat bot",
   "language": "python",
   "name": "chatbot"
  },
  "language_info": {
   "codemirror_mode": {
    "name": "ipython",
    "version": 3
   },
   "file_extension": ".py",
   "mimetype": "text/x-python",
   "name": "python",
   "nbconvert_exporter": "python",
   "pygments_lexer": "ipython3",
   "version": "3.8.5"
  }
 },
 "nbformat": 4,
 "nbformat_minor": 4
}
