{
 "cells": [
  {
   "cell_type": "code",
   "execution_count": 1,
   "metadata": {},
   "outputs": [],
   "source": [
    "%load_ext autoreload\n",
    "%autoreload 2"
   ]
  },
  {
   "cell_type": "code",
   "execution_count": 2,
   "metadata": {},
   "outputs": [
    {
     "data": {
      "text/plain": [
       "'Hello World!'"
      ]
     },
     "execution_count": 2,
     "metadata": {},
     "output_type": "execute_result"
    }
   ],
   "source": [
    "import kampuan as kp\n",
    "\n",
    "kp.test()"
   ]
  },
  {
   "cell_type": "code",
   "execution_count": null,
   "metadata": {},
   "outputs": [],
   "source": []
  },
  {
   "cell_type": "code",
   "execution_count": 3,
   "metadata": {},
   "outputs": [
    {
     "data": {
      "text/plain": [
       "['สวัส', 'ดี']"
      ]
     },
     "execution_count": 3,
     "metadata": {},
     "output_type": "execute_result"
    }
   ],
   "source": [
    "\n",
    "phrase='สวัสดี'\n",
    "kp.tokenize(phrase)"
   ]
  },
  {
   "cell_type": "code",
   "execution_count": 4,
   "metadata": {},
   "outputs": [
    {
     "data": {
      "text/plain": [
       "['ตลาด']"
      ]
     },
     "execution_count": 4,
     "metadata": {},
     "output_type": "execute_result"
    }
   ],
   "source": [
    "kp.tokenize('ตลาด')"
   ]
  },
  {
   "cell_type": "markdown",
   "metadata": {},
   "source": [
    "* 2 word 2 syllabus case\n"
   ]
  },
  {
   "cell_type": "code",
   "execution_count": 5,
   "metadata": {},
   "outputs": [
    {
     "data": {
      "text/plain": [
       "[['กิน', 'ข้าว'],\n",
       " ['หิว', 'จัง'],\n",
       " ['คำ', 'ผวน'],\n",
       " ['นอน', 'แล้ว'],\n",
       " ['ตะ', 'ปู'],\n",
       " ['นัก', 'เรียน'],\n",
       " ['ขนม']]"
      ]
     },
     "execution_count": 5,
     "metadata": {},
     "output_type": "execute_result"
    }
   ],
   "source": [
    "case_1 ={'กินข้าว':'กาวขิ้น',\n",
    "         'หิวจัง':'หังจิว',\n",
    "        'คำผวน':'ควนผำ',\n",
    "        'นอนแล้ว':'แนวร้อน',\n",
    "        'ตะปู':'ตูปะ',\n",
    "        'นักเรียน':'เนียนรัก',\n",
    "        'ขนม':'ขมหน่ะ'}\n",
    "\n",
    "tmp=[kp.tokenize(key) for key in case_1.keys()]\n",
    "tmp\n",
    "\n",
    "# get "
   ]
  },
  {
   "cell_type": "markdown",
   "metadata": {},
   "source": [
    "# Subwords\n",
    "\n",
    "* initial_consonant\n",
    "    * single อักษรเดี่ยว\n",
    "        * sound_level (low/mid/high)\n",
    "        * low_single, low_double\n",
    "    * cluster อักษรควบ\n",
    "        * true_cluster อักษรควบแท้\n",
    "        * fasle_cluster อักษรควบไม่แท้\n",
    "    * leading_cluster อักษรนำ–อักษรตาม\n",
    "        * hornum_leading หอ นำ\n",
    "        * oarnum_leading ออ นำ\n",
    "        * non_conform_leading นำด้วยสูง หรือ กลาง  นคร ขนม\n",
    "* final_consonant\n",
    "    * type (dead/live)\n",
    "    * sound (eng)\n",
    "        * k: กก\n",
    "        * ng: กง\n",
    "        * t: กด\n",
    "        * m: กม\n",
    "        * n: กน\n",
    "        * p: กบ\n",
    "        * y: เกย\n",
    "        * v: เกอว\n",
    "    * sound_level low/mid/high\n",
    "* vowel\n",
    "* tone http://www.thai-language.com/ref/tone-rules\n",
    "    * tone_mark\n",
    "    * tone_sound"
   ]
  },
  {
   "cell_type": "code",
   "execution_count": 6,
   "metadata": {},
   "outputs": [
    {
     "name": "stdout",
     "output_type": "stream",
     "text": [
      "เขียว เ-ีย 4\n",
      "เกรียน เ-ีย 0\n",
      "ตู่ -ู 1\n",
      "ตด - 1\n",
      "กร - 1\n",
      "นอน -อ 0\n",
      "ขนุน True\n",
      "จัง -ั 0\n",
      "กำ -ำ 0\n",
      "ใหญ่ ใ- 1\n",
      "ใคร ใ- 0\n",
      "เดา เ-า 0\n",
      "เปรต เ- 1\n",
      "เสร็จ เ-็ 1\n",
      "ปีน -ี 0\n",
      "เปี๊ยะ เ-ียะ 3\n",
      "คั่ว -ัว 2\n",
      "แก้ม แ- 2\n",
      "แช่ง แ- 2\n",
      "แกล้ม แ- 2\n",
      "แพร่ แ- 2\n",
      "แข็ง แ-็ 4\n",
      "เกลอ เ-อ 0\n",
      "เทอญ เ-อ 0\n",
      "เกิด เ-ิ 1\n",
      "เตลิด True\n",
      "กลม - 0\n",
      "เลว เ- 0\n",
      "เสก เ- 1\n",
      "วัว -ัว 0\n",
      "เยี่ยม เ-ีย 2\n",
      "เพลง เ- 0\n",
      "ปลอม -อ 0\n",
      "หอม -อ 4\n",
      "เวร เ- 0\n",
      "อย่าง -า 1\n",
      "อยู่ -ู 1\n",
      "อย่า -า 1\n",
      "กวน -ว 0\n",
      "แวว แ- 0\n",
      "วน - 0\n",
      "ว่าย -า 2\n",
      "สวย -ว 4\n",
      "เขย เ- 4\n",
      "เกรง เ- 0\n",
      "แปลง แ- 0\n",
      "กรง - 0\n",
      "ธง - 0\n",
      "ครี่ -ี 2\n",
      "แซง แ- 0\n",
      "แปล แ- 0\n",
      "แทรก แ- 2\n",
      "ท้อ -อ 3\n",
      "ท้อง -อ 3\n",
      "ใคร ใ- 0\n",
      "check this case not sure\n",
      "check this case not sure\n",
      "check this case not sure\n",
      "เสวย True\n",
      "เยี่ยม เ-ีย 2\n",
      "บรรณ - 0\n",
      "สมุทร True\n",
      "จันทร์ -ั 0\n",
      "พันธุ์ -ั 0\n",
      "กริบ -ิ 1\n",
      "อยาก -า 1\n",
      "กบ - 1\n",
      "check this case not sure\n",
      "check this case not sure\n",
      "check this case not sure\n",
      "เกษม True\n",
      "เออ เ-อ 0\n"
     ]
    }
   ],
   "source": [
    "import re\n",
    "from kampuan.lang_tools import get_vowel_pattern,get_vowel_form,remove_tone_mark\n",
    "from kampuan.sub_word import ThaiSubWord\n",
    "vowel_pattern=get_vowel_pattern()\n",
    "def match_pattern(pattern,text):\n",
    "    m=re.match(pattern,text)\n",
    "    return m\n",
    "\n",
    "def match_vowel_form(text,vowel_patterns):\n",
    "    for i,pattern in enumerate(vowel_patterns):\n",
    "        m=re.match(pattern,text)\n",
    "        if m:\n",
    "            return (i,m,pattern)\n",
    "    \n",
    "    return (-1,text,text)\n",
    "        \n",
    "vowel_forms=get_vowel_form(REP='-')\n",
    "test_text =['เขียว',\n",
    "            'เกรียน',\n",
    "            'ตู่',\n",
    "            'ตด',\n",
    "            'กร',\n",
    "            'นอน',\n",
    "           'ขนุน',\n",
    "           'จัง',\n",
    "           'กำ',\n",
    "           'ใหญ่',\n",
    "            'ใคร',\n",
    "           'เดา',\n",
    "           'เปรต',\n",
    "           'เสร็จ',\n",
    "           'ปีน',\n",
    "           'เปี๊ยะ',\n",
    "           'คั่ว',\n",
    "           'แก้ม',\n",
    "            'แช่ง',\n",
    "            'แกล้ม',\n",
    "            'แพร่',\n",
    "           'แข็ง',\n",
    "           'เกลอ',\n",
    "           'เทอญ',\n",
    "           'เกิด',\n",
    "           'เตลิด',\n",
    "           'กลม',\n",
    "            'เลว',\n",
    "            'เสก',\n",
    "           'วัว',\n",
    "           'เยี่ยม',\n",
    "           'เพลง',\n",
    "           'ปลอม',\n",
    "           'หอม',\n",
    "           'เวร',\n",
    "           'อย่าง',\n",
    "           'อยู่',\n",
    "           'อย่า',\n",
    "           'กวน' ,\n",
    "           'แวว',\n",
    "           'วน',\n",
    "           'ว่าย',\n",
    "           'สวย',\n",
    "           'เขย',\n",
    "           'เกรง',\n",
    "            'แปลง',\n",
    "            'กรง',\n",
    "            'ธง',\n",
    "            'ครี่',\n",
    "            'แซง',\n",
    "            'แปล',\n",
    "            'แทรก',\n",
    "            'ท้อ',\n",
    "            'ท้อง',\n",
    "            'ใคร',     \n",
    "            'เสวย',   \n",
    "            'เยี่ยม',\n",
    "            'บรรณ',\n",
    "            'สมุทร',\n",
    "            'จันทร์',\n",
    "            'พันธุ์', \n",
    "            'กริบ', \n",
    "            'อยาก',     \n",
    "            'กบ', \n",
    "            'เกษม',\n",
    "           'เออ']\n",
    "\n",
    "for text in test_text:\n",
    "    try:\n",
    "        print(text,ThaiSubWord(text)._vowel_form,ThaiSubWord(text)._tone)\n",
    "    except AttributeError:\n",
    "        print(text,ThaiSubWord(text).two_syllable)\n",
    "#     except IndexError:\n",
    "#         print('error',text)\n",
    "        \n",
    "#     plain=remove_tone_mark(text)\n",
    "#     (i,m,pattern)=match_vowel_form(plain,vowel_pattern)   \n",
    "#     print('===')\n",
    "#     print(m.groups(),vowel_forms[i],pattern)"
   ]
  },
  {
   "cell_type": "code",
   "execution_count": 7,
   "metadata": {},
   "outputs": [
    {
     "data": {
      "text/plain": [
       "<ThaiSubWord เออ at 0x1200c6b50>"
      ]
     },
     "execution_count": 7,
     "metadata": {},
     "output_type": "execute_result"
    }
   ],
   "source": [
    "ThaiSubWord(text)"
   ]
  },
  {
   "cell_type": "code",
   "execution_count": 8,
   "metadata": {},
   "outputs": [
    {
     "data": {
      "text/plain": [
       "20"
      ]
     },
     "execution_count": 8,
     "metadata": {},
     "output_type": "execute_result"
    }
   ],
   "source": [
    "from kampuan.const import THAI_VOW\n",
    "\n",
    "len(THAI_VOW)"
   ]
  },
  {
   "cell_type": "code",
   "execution_count": 9,
   "metadata": {},
   "outputs": [],
   "source": [
    "# case เ แ need to verify ควบกล้ำ \n",
    "# 1 ตัว -> no สะกด\n",
    "# 2 ตัว -> 1 สะกด\n",
    "# 3 ตัว -> 1 สะกด\n",
    "\n",
    "# อักษรนำ\n",
    "\n",
    "# #initialize the special character cases\n",
    "# #คำควบแท้\n",
    "# self.two_char_combine = ['กร','กล', 'กว', 'คร', 'ขร', 'คล', 'ขล','คว', 'ขว', 'ตร', 'ปร', 'ปล', 'พร', 'พล' ,'ผล',\n",
    "#            'บร','บล','ดร','ฟร','ฟล','ทร','จร','ซร','ปร','สร']\n",
    "# #คำนำ\n",
    "# self.lead_char_nosound = ['อย','หง','หญ','หน','หม','หย', 'หร','หล','หว']\n",
    "# #อักษรสูงนำอักษรต่ำ\n",
    "# self._lead_char_high_low = ['ขน', 'ขม','สม','สย','สน','ขย','ฝร','ถล','ผว','ตน','จม','ตล',]\n",
    "# #อักษรสูงนำอักษรกลาง\n",
    "# self._high_char_high_medium = ['ผท','ผด','ผก','ผอ','ผช']"
   ]
  },
  {
   "cell_type": "code",
   "execution_count": 10,
   "metadata": {},
   "outputs": [
    {
     "data": {
      "text/plain": [
       "'่้๊๋'"
      ]
     },
     "execution_count": 10,
     "metadata": {},
     "output_type": "execute_result"
    }
   ],
   "source": [
    "import pythainlp\n",
    "pythainlp.thai_tonemarks"
   ]
  },
  {
   "cell_type": "code",
   "execution_count": 11,
   "metadata": {},
   "outputs": [
    {
     "data": {
      "text/plain": [
       "'๏๚๛'"
      ]
     },
     "execution_count": 11,
     "metadata": {},
     "output_type": "execute_result"
    }
   ],
   "source": [
    "pythainlp.thai_punctuations"
   ]
  },
  {
   "cell_type": "code",
   "execution_count": 12,
   "metadata": {},
   "outputs": [
    {
     "data": {
      "text/plain": [
       "['-ุ', '-ู']"
      ]
     },
     "execution_count": 12,
     "metadata": {},
     "output_type": "execute_result"
    }
   ],
   "source": [
    "['-'+char for char in pythainlp.thai_below_vowels]"
   ]
  },
  {
   "cell_type": "code",
   "execution_count": 13,
   "metadata": {},
   "outputs": [
    {
     "data": {
      "text/plain": [
       "['_่', '_้', '_๊', '_๋']"
      ]
     },
     "execution_count": 13,
     "metadata": {},
     "output_type": "execute_result"
    }
   ],
   "source": [
    "['_'+char for char in pythainlp.thai_tonemarks]"
   ]
  },
  {
   "cell_type": "code",
   "execution_count": 14,
   "metadata": {},
   "outputs": [
    {
     "data": {
      "text/plain": [
       "['_ั', '_ิ', '_ี', '_ึ', '_ื', '_ํ', '_็']"
      ]
     },
     "execution_count": 14,
     "metadata": {},
     "output_type": "execute_result"
    }
   ],
   "source": [
    "['_'+char for char in pythainlp.thai_above_vowels]"
   ]
  },
  {
   "cell_type": "code",
   "execution_count": 15,
   "metadata": {},
   "outputs": [
    {
     "data": {
      "text/plain": [
       "['เ_', 'แ_', 'โ_', 'ใ_', 'ไ_']"
      ]
     },
     "execution_count": 15,
     "metadata": {},
     "output_type": "execute_result"
    }
   ],
   "source": [
    "[char+'_' for char in pythainlp.thai_lead_vowels]"
   ]
  },
  {
   "cell_type": "code",
   "execution_count": 16,
   "metadata": {},
   "outputs": [
    {
     "data": {
      "text/plain": [
       "['_ะ', '_า', '_ำ', '_ๅ']"
      ]
     },
     "execution_count": 16,
     "metadata": {},
     "output_type": "execute_result"
    }
   ],
   "source": [
    "['_'+char for char in pythainlp.thai_follow_vowels]"
   ]
  },
  {
   "cell_type": "code",
   "execution_count": 17,
   "metadata": {},
   "outputs": [
    {
     "data": {
      "text/plain": [
       "'ฤฦะัาำิีึืุูเแโใไๅํ็'"
      ]
     },
     "execution_count": 17,
     "metadata": {},
     "output_type": "execute_result"
    }
   ],
   "source": [
    "pythainlp.thai_vowels"
   ]
  },
  {
   "cell_type": "code",
   "execution_count": 18,
   "metadata": {},
   "outputs": [
    {
     "data": {
      "text/plain": [
       "('กร', 'ิ', 'บ')"
      ]
     },
     "execution_count": 18,
     "metadata": {},
     "output_type": "execute_result"
    }
   ],
   "source": [
    "ThaiSubWord('กริบ')._ex_regex.groups()"
   ]
  },
  {
   "cell_type": "code",
   "execution_count": 19,
   "metadata": {},
   "outputs": [
    {
     "data": {
      "text/plain": [
       "{'_raw': 'พันธุ์',\n",
       " '_vowels_tup': [(1, 'ั'), (4, 'ุ')],\n",
       " '_vowels': ['ั', 'ุ'],\n",
       " '_consonants_tup': [(0, 'พ'), (2, 'น'), (3, 'ธ')],\n",
       " '_consonants': ['พ', 'น', 'ธ'],\n",
       " '_tone_mark': [],\n",
       " '_mute_mark': 5,\n",
       " '_ex_vw_form': '-ั',\n",
       " '_ex_regex': <re.Match object; span=(0, 4), match='พันธ'>,\n",
       " '_ex_pattern': '(.{1,3})(ั)([ก-ฮ]*)',\n",
       " '_mute_con_tup': [(3, 'ธ')],\n",
       " '_mute_con': ['ธ'],\n",
       " '_mute_vow_tup': [(4, 'ุ')],\n",
       " '_vowel_form': '-ั',\n",
       " '_vowel_con_tup': (-1, None),\n",
       " '_vowel_form_tup': [(1, 'ั')],\n",
       " '_true_con_tup': [(0, 'พ'), (2, 'น')],\n",
       " '_double_r': False,\n",
       " '_con_split': (1, 'ั'),\n",
       " '_init_con_tup': [(0, 'พ')],\n",
       " '_final_con_tup': [(2, 'น')],\n",
       " 'init_con': 'พ',\n",
       " 'final_con': 'น',\n",
       " '_two_syllable': False,\n",
       " '_vowel_form_sound': '-ั',\n",
       " '_vowel_class': 'long',\n",
       " '_word_class': 'live',\n",
       " '_main_init_sound': 'พ',\n",
       " '_init_sound_class': 'low',\n",
       " '_aspirate': True,\n",
       " '_tone_mark_class': 0,\n",
       " '_tone_group_rule': 2,\n",
       " '_tone': 0}"
      ]
     },
     "execution_count": 19,
     "metadata": {},
     "output_type": "execute_result"
    }
   ],
   "source": [
    "ThaiSubWord('พันธุ์').__dict__"
   ]
  },
  {
   "cell_type": "code",
   "execution_count": 20,
   "metadata": {},
   "outputs": [
    {
     "data": {
      "text/plain": [
       "[(4, 'ุ')]"
      ]
     },
     "execution_count": 20,
     "metadata": {},
     "output_type": "execute_result"
    }
   ],
   "source": [
    "from kampuan.const import MUTE_MARK, THAI_CONS, THAI_TONE, VOWEL_FORMS,df_tone_rule,THAI_VOW\n",
    "\n",
    "def find_mute_vowel(text: str):\n",
    "    \"\"\"extract main mute vowel การันต์ case:('พันธุ์')\n",
    "\n",
    "    Args:\n",
    "        text (str): word to check\n",
    "\n",
    "    Returns:\n",
    "        List of tuple List[(int,str)]: return[] if no การันต์ , return [(index, consonant)]\n",
    "    \"\"\"\n",
    "\n",
    "    if MUTE_MARK not in text:\n",
    "        return []\n",
    "    else:\n",
    "        mark_index = text.index(MUTE_MARK)\n",
    "        lead_mute=text[mark_index-1]\n",
    "        if lead_mute in THAI_VOW:\n",
    "            return [(mark_index-1,lead_mute)]\n",
    "        else:\n",
    "            return []\n",
    "        \n",
    "find_mute_vowel('พันธุ์')      "
   ]
  },
  {
   "cell_type": "code",
   "execution_count": 21,
   "metadata": {},
   "outputs": [
    {
     "data": {
      "text/plain": [
       "{'_raw': 'เกรง',\n",
       " '_vowels_tup': [(0, 'เ')],\n",
       " '_vowels': ['เ'],\n",
       " '_consonants_tup': [(1, 'ก'), (2, 'ร'), (3, 'ง')],\n",
       " '_consonants': ['ก', 'ร', 'ง'],\n",
       " '_tone_mark': [],\n",
       " '_mute_mark': -1,\n",
       " '_ex_vw_form': 'เ-',\n",
       " '_ex_regex': <re.Match object; span=(0, 4), match='เกรง'>,\n",
       " '_ex_pattern': '(เ)(.{1,3})([ก-ฮ]*)',\n",
       " '_mute_con_tup': [],\n",
       " '_mute_con': [],\n",
       " '_mute_vow_tup': [],\n",
       " '_vowel_form': 'เ-',\n",
       " '_vowel_con_tup': (-1, None),\n",
       " '_vowel_form_tup': [(0, 'เ')],\n",
       " '_true_con_tup': [(1, 'ก'), (2, 'ร'), (3, 'ง')],\n",
       " '_double_r': False,\n",
       " '_con_split': (2, 'ร'),\n",
       " '_init_con_tup': [(1, 'ก'), (2, 'ร')],\n",
       " '_final_con_tup': [(3, 'ง')],\n",
       " 'init_con': 'กร',\n",
       " 'final_con': 'ง',\n",
       " '_two_syllable': False,\n",
       " '_vowel_form_sound': 'เ-',\n",
       " '_vowel_class': 'long',\n",
       " '_word_class': 'live',\n",
       " '_main_init_sound': 'ก',\n",
       " '_init_sound_class': 'mid',\n",
       " '_aspirate': False,\n",
       " '_tone_mark_class': 0,\n",
       " '_tone_group_rule': 0,\n",
       " '_tone': 0}"
      ]
     },
     "execution_count": 21,
     "metadata": {},
     "output_type": "execute_result"
    }
   ],
   "source": [
    "ThaiSubWord('เกรง').__dict__"
   ]
  },
  {
   "cell_type": "code",
   "execution_count": 22,
   "metadata": {},
   "outputs": [
    {
     "ename": "AssertionError",
     "evalue": "",
     "output_type": "error",
     "traceback": [
      "\u001b[0;31m---------------------------------------------------------------------------\u001b[0m",
      "\u001b[0;31mAssertionError\u001b[0m                            Traceback (most recent call last)",
      "\u001b[0;32m<ipython-input-22-f31676667c50>\u001b[0m in \u001b[0;36m<module>\u001b[0;34m\u001b[0m\n\u001b[0;32m----> 1\u001b[0;31m \u001b[0mThaiSubWord\u001b[0m\u001b[0;34m(\u001b[0m\u001b[0;34m'เปรลี้ยง'\u001b[0m\u001b[0;34m)\u001b[0m\u001b[0;34m.\u001b[0m\u001b[0m__dict__\u001b[0m\u001b[0;34m\u001b[0m\u001b[0;34m\u001b[0m\u001b[0m\n\u001b[0m",
      "\u001b[0;32m~/Projects_src/kampuan_api/src/kampuan/sub_word.py\u001b[0m in \u001b[0;36m__init__\u001b[0;34m(self, word)\u001b[0m\n\u001b[1;32m     51\u001b[0m             \u001b[0;32mpass\u001b[0m\u001b[0;34m\u001b[0m\u001b[0;34m\u001b[0m\u001b[0m\n\u001b[1;32m     52\u001b[0m         \u001b[0;32melse\u001b[0m\u001b[0;34m:\u001b[0m\u001b[0;34m\u001b[0m\u001b[0;34m\u001b[0m\u001b[0m\n\u001b[0;32m---> 53\u001b[0;31m             \u001b[0mself\u001b[0m\u001b[0;34m.\u001b[0m\u001b[0m_main_init_sound\u001b[0m \u001b[0;34m=\u001b[0m \u001b[0mself\u001b[0m\u001b[0;34m.\u001b[0m\u001b[0mmain_init_sound\u001b[0m\u001b[0;34m\u001b[0m\u001b[0;34m\u001b[0m\u001b[0m\n\u001b[0m\u001b[1;32m     54\u001b[0m             \u001b[0mself\u001b[0m\u001b[0;34m.\u001b[0m\u001b[0m_init_sound_class\u001b[0m \u001b[0;34m=\u001b[0m \u001b[0mSOUND_CLASS\u001b[0m\u001b[0;34m[\u001b[0m\u001b[0mself\u001b[0m\u001b[0;34m.\u001b[0m\u001b[0m_main_init_sound\u001b[0m\u001b[0;34m]\u001b[0m\u001b[0;34m\u001b[0m\u001b[0;34m\u001b[0m\u001b[0m\n\u001b[1;32m     55\u001b[0m             \u001b[0mself\u001b[0m\u001b[0;34m.\u001b[0m\u001b[0m_aspirate\u001b[0m \u001b[0;34m=\u001b[0m \u001b[0mself\u001b[0m\u001b[0;34m.\u001b[0m\u001b[0m_main_init_sound\u001b[0m \u001b[0;32min\u001b[0m \u001b[0mASPIRATE\u001b[0m\u001b[0;34m\u001b[0m\u001b[0;34m\u001b[0m\u001b[0m\n",
      "\u001b[0;32m~/Projects_src/kampuan_api/src/kampuan/sub_word.py\u001b[0m in \u001b[0;36mmain_init_sound\u001b[0;34m(self)\u001b[0m\n\u001b[1;32m     96\u001b[0m                 \u001b[0;32mreturn\u001b[0m \u001b[0mself\u001b[0m\u001b[0;34m.\u001b[0m\u001b[0m_init_con_tup\u001b[0m\u001b[0;34m[\u001b[0m\u001b[0;36m1\u001b[0m\u001b[0;34m]\u001b[0m\u001b[0;34m[\u001b[0m\u001b[0;36m1\u001b[0m\u001b[0;34m]\u001b[0m\u001b[0;34m\u001b[0m\u001b[0;34m\u001b[0m\u001b[0m\n\u001b[1;32m     97\u001b[0m             \u001b[0;32melse\u001b[0m\u001b[0;34m:\u001b[0m\u001b[0;34m\u001b[0m\u001b[0;34m\u001b[0m\u001b[0m\n\u001b[0;32m---> 98\u001b[0;31m                 \u001b[0;32massert\u001b[0m \u001b[0mself\u001b[0m\u001b[0;34m.\u001b[0m\u001b[0m_two_syllable\u001b[0m \u001b[0;34m==\u001b[0m \u001b[0;32mTrue\u001b[0m\u001b[0;34m\u001b[0m\u001b[0;34m\u001b[0m\u001b[0m\n\u001b[0m\u001b[1;32m     99\u001b[0m                 \u001b[0;31m# raise ValueError('not implement')\u001b[0m\u001b[0;34m\u001b[0m\u001b[0;34m\u001b[0m\u001b[0;34m\u001b[0m\u001b[0m\n\u001b[1;32m    100\u001b[0m \u001b[0;34m\u001b[0m\u001b[0m\n",
      "\u001b[0;31mAssertionError\u001b[0m: "
     ]
    }
   ],
   "source": [
    "ThaiSubWord('เปรลี้ยง').__dict__"
   ]
  },
  {
   "cell_type": "markdown",
   "metadata": {},
   "source": [
    "# kampuan logic:\n",
    "1. Input phrase\n",
    "2. Split phrase to syllables\n",
    "3. Sub word processing, types and tones\n",
    "4. preprocessing on two syllable words\n",
    "5. Determine two syllable to do the puan\n",
    "6. Puan process, output new\n",
    "    * Tone assignment\n",
    "    * \n",
    "7. Fine tune sound no nymss\n",
    "    * case บัน บรร\n",
    "    * case same vowel sound\n",
    "    * case tune shift\n",
    "\n"
   ]
  },
  {
   "cell_type": "code",
   "execution_count": 23,
   "metadata": {},
   "outputs": [
    {
     "data": {
      "text/plain": [
       "'จาก น่า หมู'"
      ]
     },
     "execution_count": 23,
     "metadata": {},
     "output_type": "execute_result"
    }
   ],
   "source": [
    "'กา เป็น หมู'\n",
    "\n",
    "'กู เป็น หมา'\n",
    "\n",
    "\n",
    "'ผ้า ใหญ่'\n",
    "'ไผ่ หญ้า'\n",
    "\n",
    "'จาก น่า หมู'\n",
    "\n"
   ]
  },
  {
   "cell_type": "code",
   "execution_count": 30,
   "metadata": {},
   "outputs": [],
   "source": [
    "from kampuan import tokenize\n",
    "\n",
    "# 1. Input phrase\n",
    "input_text ='สวัสดี'\n",
    "# input_text ='ไงสลิ่ม'\n",
    "\n",
    "# 2. Split phrase to syllables\n",
    "tokenized= tokenize(input_text)\n",
    "\n",
    "# 3. Sub word processing, types and tones\n",
    "sub_words=[ThaiSubWord(word) for word in tokenized]\n",
    "           \n",
    "# 4. preprocessing on two syllable words\n",
    "split_words =[word_split for word in sub_words for word_split in word.split_non_conform()  ]\n",
    "           \n",
    "# 5. Determine two syllable to do the puan\n",
    "n_subwords=len(split_words)\n",
    "index=(0,0)\n",
    "use_first=False\n",
    "if n_subwords ==1:\n",
    "    index=(0,0)\n",
    "elif n_subwords==2:\n",
    "    index=(0,1)\n",
    "elif use_first:\n",
    "    index =(0,-1)\n",
    "else:\n",
    "    index=(1,-1)\n",
    "# 6. Puan process, output new\n",
    "\n",
    "\n",
    "# 7. synonyms\n",
    "\n"
   ]
  },
  {
   "cell_type": "code",
   "execution_count": 25,
   "metadata": {},
   "outputs": [],
   "source": [
    "from kampuan.const import *\n",
    "import numpy as np\n",
    "# LONG_SOUND_VOWELS\n",
    "df_tone_rule\n",
    "\n",
    "def determine_tone_sound(tone_mark_class,tone_group_rule,word_class,vowel_class):\n",
    "    filters=(df_tone_rule['tone_group_rules']==tone_group_rule)&\\\n",
    "    (df_tone_rule['word_class']==word_class)&\\\n",
    "     (df_tone_rule['vowel_class']==vowel_class)\n",
    "    return  np.where(df_tone_rule[filters].iloc[0,3:]==tone_mark_class)[0].item()\n"
   ]
  },
  {
   "cell_type": "code",
   "execution_count": 27,
   "metadata": {},
   "outputs": [
    {
     "data": {
      "text/plain": [
       "{'_raw': 'สมุทร',\n",
       " '_vowels_tup': [(2, 'ุ')],\n",
       " '_vowels': ['ุ'],\n",
       " '_consonants_tup': [(0, 'ส'), (1, 'ม'), (3, 'ท'), (4, 'ร')],\n",
       " '_consonants': ['ส', 'ม', 'ท', 'ร'],\n",
       " '_tone_mark': [],\n",
       " '_mute_mark': -1,\n",
       " '_ex_vw_form': '-ุ',\n",
       " '_ex_regex': <re.Match object; span=(0, 5), match='สมุทร'>,\n",
       " '_ex_pattern': '(.{1,3})(ุ)([ก-ฮ]*)',\n",
       " '_mute_con_tup': [],\n",
       " '_mute_con': [],\n",
       " '_mute_vow_tup': [],\n",
       " '_vowel_form': '-ุ',\n",
       " '_vowel_con_tup': (-1, None),\n",
       " '_vowel_form_tup': [(2, 'ุ')],\n",
       " '_true_con_tup': [(0, 'ส'), (1, 'ม'), (3, 'ท'), (4, 'ร')],\n",
       " '_double_r': False,\n",
       " '_con_split': (2, 'ุ'),\n",
       " '_init_con_tup': [(0, 'ส'), (1, 'ม')],\n",
       " '_final_con_tup': [(3, 'ท'), (4, 'ร')],\n",
       " 'init_con': 'สม',\n",
       " 'final_con': 'ทร',\n",
       " '_two_syllable': True,\n",
       " '_vowel_form_sound': '-ุ',\n",
       " '_vowel_class': 'short',\n",
       " '_word_class': 'dead'}"
      ]
     },
     "execution_count": 27,
     "metadata": {},
     "output_type": "execute_result"
    }
   ],
   "source": [
    "#1จา\n",
    "text_input='จ้า'\n",
    "\n",
    "#2ขาด\n",
    "# text_input='ขาด'\n",
    "\n",
    "# #3ค้าน\n",
    "# text_input='ค้าน'\n",
    "\n",
    "# #4 งาน\n",
    "# text_input= 'งาน'\n",
    "# #5 หมา\n",
    "# text_input='หมา'\n",
    "\n",
    "# # special\n",
    "# text_input='ทรัส'\n",
    "# text_input='ทราบ'\n",
    "text_input='สมุทร'\n",
    "sw =ThaiSubWord(text_input)\n",
    "sw.__dict__\n",
    "\n"
   ]
  },
  {
   "cell_type": "code",
   "execution_count": 349,
   "metadata": {},
   "outputs": [
    {
     "data": {
      "text/plain": [
       "{'_raw': 'สมุทร',\n",
       " '_vowels_tup': [(2, 'ุ')],\n",
       " '_vowels': ['ุ'],\n",
       " '_consonants_tup': [(0, 'ส'), (1, 'ม'), (3, 'ท'), (4, 'ร')],\n",
       " '_consonants': ['ส', 'ม', 'ท', 'ร'],\n",
       " '_tone_mark': [],\n",
       " '_mute_mark': -1,\n",
       " '_ex_vw_form': '-ุ',\n",
       " '_ex_regex': <re.Match object; span=(0, 5), match='สมุทร'>,\n",
       " '_ex_pattern': '(.{1,3})(ุ)([ก-ฮ]*)',\n",
       " '_vowel_form': '-ุ',\n",
       " '_vowel_con_tup': (-1, None),\n",
       " '_vowel_form_tup': [(2, 'ุ')],\n",
       " '_mute_con_tup': [],\n",
       " '_mute_con': [],\n",
       " '_true_con_tup': [(0, 'ส'), (1, 'ม'), (3, 'ท'), (4, 'ร')],\n",
       " '_double_r': False,\n",
       " '_con_split': (2, 'ุ'),\n",
       " '_init_con_tup': [(0, 'ส'), (1, 'ม')],\n",
       " '_final_con_tup': [(3, 'ท'), (4, 'ร')],\n",
       " 'init_con': 'สม',\n",
       " 'final_con': 'ทร',\n",
       " '_vowel_form_sound': '-ุ',\n",
       " '_vowel_class': 'short',\n",
       " '_word_class': 'dead'}"
      ]
     },
     "execution_count": 349,
     "metadata": {},
     "output_type": "execute_result"
    }
   ],
   "source": [
    "sw.__dict__"
   ]
  },
  {
   "cell_type": "code",
   "execution_count": 313,
   "metadata": {},
   "outputs": [],
   "source": [
    "\n",
    "# TONE RULES\n",
    "# TONE MARK (5)\n",
    "tone_mark =sw.tone_mark\n",
    "# CLUSTER\n",
    "# init_cluster = len(sw._init_con_tup) >1\n",
    "# # INIT CLASS (LOW/MID/HIGH)\n",
    "# leading_cluster= False\n",
    "# # VOWEL CLASS (SHORT/LONG)\n",
    "# if sw._vowel_form in SHORT_SOUND_VOWELS:\n",
    "#     vowel_class='short'\n",
    "# else:\n",
    "#     vowel_class ='long'\n",
    "# # WORD CLASS (DEAD/LIVE)\n",
    "# if len(sw.final_con) ==0:\n",
    "#     if sw._vowel_form in LONG_SOUND_VOWELS +SHORT_LIVE_VOWELS:\n",
    "#         word_class= 'live'\n",
    "#     else:\n",
    "#         word_class ='dead'\n",
    "# else:\n",
    "#     if sw.final_con in SORONANT:\n",
    "#         word_class ='live'\n",
    "#     else:\n",
    "#         word_class ='dead'\n",
    "\n",
    "# if not init_cluster:\n",
    "#     main_init_sound=sw._init_con_tup[0][1]\n",
    "# else:\n",
    "#     if 'ทร'== sw.init_con:\n",
    "#         if 'ทรั' in sw._raw or 'ทร็' in sw._raw : # ทรัส\n",
    "#             main_init_sound =sw._init_con_tup[0][1]\n",
    "#         else:\n",
    "#             main_init_sound ='ซ'\n",
    "#     elif sw.init_con in TRUE_CONSONANT_CLUSTER + FALSE_CONSONANT_CLUSTER :\n",
    "#         main_init_sound=sw._init_con_tup[0][1]\n",
    "#     elif sw.init_con in LEADING_CONSONANT_CLUSTER:\n",
    "#         main_init_sound =sw._init_con_tup[1][1]\n",
    "#         leading_cluster=True\n",
    "#     else:\n",
    "#         raise ValueError('not implement')\n",
    "# init_sound_class=SOUND_CLASS[main_init_sound]\n",
    "# # is aspirate (pairing)\n",
    "# aspirate = main_init_sound in ASPIRATE\n",
    "\n",
    "# tone_mark_class=0\n",
    "# # TONE CLASS\n",
    "# if len(tone_mark) >0:\n",
    "#     tone_mark_class=TONE_MARK_CLASS[tone_mark[0]]\n",
    "    \n",
    "# if init_sound_class =='mid':\n",
    "#     tone_group_rule=0\n",
    "# elif init_sound_class =='high' or (sw.init_con in LEADING_CONSONANT_CLUSTER):\n",
    "#     tone_group_rule=1\n",
    "# elif init_sound_class =='low':\n",
    "#     tone_group_rule=2\n",
    "    \n",
    "# tone_sound =determine_tone_sound(tone_mark_class,tone_group_rule,word_class,vowel_class)"
   ]
  },
  {
   "cell_type": "code",
   "execution_count": 301,
   "metadata": {},
   "outputs": [
    {
     "data": {
      "text/plain": [
       "False"
      ]
     },
     "execution_count": 301,
     "metadata": {},
     "output_type": "execute_result"
    }
   ],
   "source": [
    "aspirate"
   ]
  },
  {
   "cell_type": "code",
   "execution_count": 302,
   "metadata": {},
   "outputs": [
    {
     "data": {
      "text/plain": [
       "4"
      ]
     },
     "execution_count": 302,
     "metadata": {},
     "output_type": "execute_result"
    }
   ],
   "source": [
    "tone_sound"
   ]
  },
  {
   "cell_type": "code",
   "execution_count": 303,
   "metadata": {},
   "outputs": [
    {
     "data": {
      "text/plain": [
       "1"
      ]
     },
     "execution_count": 303,
     "metadata": {},
     "output_type": "execute_result"
    }
   ],
   "source": [
    "tone_group_rule"
   ]
  },
  {
   "cell_type": "code",
   "execution_count": 304,
   "metadata": {},
   "outputs": [
    {
     "data": {
      "text/plain": [
       "'low'"
      ]
     },
     "execution_count": 304,
     "metadata": {},
     "output_type": "execute_result"
    }
   ],
   "source": [
    "init_sound_class"
   ]
  },
  {
   "cell_type": "code",
   "execution_count": 305,
   "metadata": {},
   "outputs": [
    {
     "data": {
      "text/plain": [
       "False"
      ]
     },
     "execution_count": 305,
     "metadata": {},
     "output_type": "execute_result"
    }
   ],
   "source": [
    "aspirate"
   ]
  },
  {
   "cell_type": "code",
   "execution_count": 306,
   "metadata": {},
   "outputs": [
    {
     "data": {
      "text/plain": [
       "{'_raw': 'หมา',\n",
       " '_vowels_tup': [(2, 'า')],\n",
       " '_vowels': ['า'],\n",
       " '_consonants_tup': [(0, 'ห'), (1, 'ม')],\n",
       " '_consonants': ['ห', 'ม'],\n",
       " '_tone_mark': [],\n",
       " '_mute_mark': -1,\n",
       " '_ex_vw_form': '-า',\n",
       " '_ex_regex': <re.Match object; span=(0, 3), match='หมา'>,\n",
       " '_ex_pattern': '(.{1,3})(า)([ก-ฮ]*)',\n",
       " '_vowel_form': '-า',\n",
       " '_vowel_con_tup': (-1, None),\n",
       " '_vowel_form_tup': [(2, 'า')],\n",
       " '_mute_con_tup': [],\n",
       " '_mute_con': [],\n",
       " '_true_con_tup': [(0, 'ห'), (1, 'ม')],\n",
       " '_con_split': (2, 'า'),\n",
       " '_init_con_tup': [(0, 'ห'), (1, 'ม')],\n",
       " '_final_con_tup': [],\n",
       " 'init_con': 'หม',\n",
       " 'final_con': '',\n",
       " '_two_syllable': False,\n",
       " '_tone': None}"
      ]
     },
     "execution_count": 306,
     "metadata": {},
     "output_type": "execute_result"
    }
   ],
   "source": [
    "sw.__dict__"
   ]
  },
  {
   "cell_type": "code",
   "execution_count": 154,
   "metadata": {},
   "outputs": [
    {
     "data": {
      "text/plain": [
       "'long'"
      ]
     },
     "execution_count": 154,
     "metadata": {},
     "output_type": "execute_result"
    }
   ],
   "source": [
    "vowel_class"
   ]
  },
  {
   "cell_type": "code",
   "execution_count": 172,
   "metadata": {},
   "outputs": [],
   "source": [
    "tone_class"
   ]
  },
  {
   "cell_type": "code",
   "execution_count": 156,
   "metadata": {},
   "outputs": [
    {
     "data": {
      "text/plain": [
       "'จ'"
      ]
     },
     "execution_count": 156,
     "metadata": {},
     "output_type": "execute_result"
    }
   ],
   "source": [
    "main_init_sound"
   ]
  },
  {
   "cell_type": "code",
   "execution_count": 157,
   "metadata": {},
   "outputs": [
    {
     "data": {
      "text/plain": [
       "'mid'"
      ]
     },
     "execution_count": 157,
     "metadata": {},
     "output_type": "execute_result"
    }
   ],
   "source": [
    "init_sound_class"
   ]
  },
  {
   "cell_type": "code",
   "execution_count": 158,
   "metadata": {},
   "outputs": [
    {
     "data": {
      "text/plain": [
       "False"
      ]
     },
     "execution_count": 158,
     "metadata": {},
     "output_type": "execute_result"
    }
   ],
   "source": [
    "aspirate"
   ]
  },
  {
   "cell_type": "code",
   "execution_count": 159,
   "metadata": {},
   "outputs": [
    {
     "data": {
      "text/plain": [
       "False"
      ]
     },
     "execution_count": 159,
     "metadata": {},
     "output_type": "execute_result"
    }
   ],
   "source": [
    "leading_cluster"
   ]
  },
  {
   "cell_type": "code",
   "execution_count": 56,
   "metadata": {},
   "outputs": [
    {
     "name": "stdout",
     "output_type": "stream",
     "text": [
      "[<ThaiSubWord สะ at 0x7fe800a70190>, <ThaiSubWord หวัส at 0x7fe800941d30>]\n",
      "[<ThaiSubWord ดี at 0x7fe800a6c640>]\n"
     ]
    }
   ],
   "source": [
    "for sw in sub_words:\n",
    "    print(sw.split_non_conform())"
   ]
  },
  {
   "cell_type": "code",
   "execution_count": 49,
   "metadata": {},
   "outputs": [
    {
     "name": "stdout",
     "output_type": "stream",
     "text": [
      "สวัส True\n",
      "\n",
      "ดี False\n",
      "\n"
     ]
    }
   ],
   "source": [
    "for sw in sub_words:\n",
    "    print(sw,sw._two_syllable)\n",
    "    print()"
   ]
  },
  {
   "cell_type": "markdown",
   "metadata": {},
   "source": [
    "http://www.thai-language.com/ref/tone-rules"
   ]
  },
  {
   "cell_type": "markdown",
   "metadata": {},
   "source": [
    "# Tien's"
   ]
  },
  {
   "cell_type": "code",
   "execution_count": 9,
   "metadata": {},
   "outputs": [],
   "source": [
    "from kampuan.util.extract import thai_subwords"
   ]
  },
  {
   "cell_type": "code",
   "execution_count": 25,
   "metadata": {},
   "outputs": [
    {
     "data": {
      "text/plain": [
       "'หว'"
      ]
     },
     "execution_count": 25,
     "metadata": {},
     "output_type": "execute_result"
    }
   ],
   "source": [
    "x=[thai_subwords(orig_word=syll) for syll in kp.puan_kam(phrase)]\n",
    "x[0].start\n",
    "\n"
   ]
  },
  {
   "cell_type": "code",
   "execution_count": null,
   "metadata": {},
   "outputs": [],
   "source": [
    "class thai_match_pattern():\n",
    "    def __init__(self, start_regex, vowel_regex, end_regex, sound_regex):\n",
    "        self.start_regex = start_regex\n",
    "        self.vowel_regex = vowel_regex\n",
    "        self.end_regex = end_regex\n",
    "        self.sound_regex = sound_regex\n",
    "        \n",
    "    def match_start(self, orig_word):        \n",
    "        matches = re.findall(self.start_regex, orig_word, re.DOTALL)\n",
    "        return matches\n",
    "    "
   ]
  },
  {
   "cell_type": "code",
   "execution_count": null,
   "metadata": {},
   "outputs": [],
   "source": [
    "#Reference https://www.geeksforgeeks.org/longest-common-substring-dp-29/\n",
    "# Returns length of longest common  \n",
    "# substring of X[0..m-1] and Y[0..n-1]  \n",
    "def LCSubStr(X, Y, m, n): \n",
    "      \n",
    "    # Create a table to store lengths of \n",
    "    # longest common suffixes of substrings.  \n",
    "    # Note that LCSuff[i][j] contains the  \n",
    "    # length of longest common suffix of  \n",
    "    # X[0...i-1] and Y[0...j-1]. The first \n",
    "    # row and first column entries have no \n",
    "    # logical meaning, they are used only \n",
    "    # for simplicity of the program. \n",
    "      \n",
    "    # LCSuff is the table with zero  \n",
    "    # value initially in each cell \n",
    "    LCSuff = [[0 for k in range(n+1)] for l in range(m+1)] \n",
    "      \n",
    "    # To store the length of  \n",
    "    # longest common substring \n",
    "    result = 0 \n",
    "  \n",
    "    # Following steps to build \n",
    "    # LCSuff[m+1][n+1] in bottom up fashion \n",
    "    for i in range(m + 1): \n",
    "        for j in range(n + 1): \n",
    "            if (i == 0 or j == 0): \n",
    "                LCSuff[i][j] = 0\n",
    "            elif (X[i-1] == Y[j-1]): \n",
    "                LCSuff[i][j] = LCSuff[i-1][j-1] + 1\n",
    "                result = max(result, LCSuff[i][j]) \n",
    "            else: \n",
    "                LCSuff[i][j] = 0\n",
    "    return result "
   ]
  },
  {
   "cell_type": "code",
   "execution_count": 34,
   "metadata": {},
   "outputs": [],
   "source": [
    "import re\n",
    "class thai_subwords():\n",
    "    \"\"\"Design to take input as single Thai token or word and extract start, vowel, end and sound of said token\n",
    "    For additional data regarding different Thai words types and pronunciations, \n",
    "    consult:https://sites.google.com/site/phasathaionline/hnwy-kar-reiyn-ru2/phyaychnatn\"\"\"\n",
    "    def __init__(self, orig_word, debug=False):\n",
    "        self.orig_word = orig_word #Try not to change this value\n",
    "        self._start = ''\n",
    "        self._vowel = ''\n",
    "        self._end = ''\n",
    "        self._sound = ''\n",
    "        self._double_start_sound = False #used to flag with that has two starting alphabets with sound like 'ตลาด = ตะ ลาด'\n",
    "        self._high_lead_low = False #case อักษรสูงนำอักษรต่ำ\n",
    "        self.debug = debug\n",
    "        \n",
    "        #Need to deal with negative lookahead case for word like \"เกรียน\" to correctly extract กร\n",
    "        self.vowels_form = ['ะ', ' ั' ' ็', 'า', ' ิ' , ' ่' , \" ่\" , ' ํ', ' ุ', ' ู', 'เ', 'ใ', 'ไ', 'โ', 'อ', 'ย', 'ว', 'ฤ', 'ฤๅ', 'ฦ', 'ฦๅ']\n",
    "        combine_vowel_regex_1 = '(?!เ.{1,4}ี.*ย)(?!เ.{1,4}ี.*ยะ)(?!เ.{1,4}ื.*อ)(?!เ.{1,4}ื.*อะ)(?!เ.{1,4}.*อะ)(?!เ.{1,4}.*อ)(?!เ.{1,4}.*าะ)'\n",
    "        combine_vowel_regex_2 = '(?!เ.{1,4}.*า)(?!แ.{1,4}.*า)(?!.{1,4}ัวะ)(?!โ.{1,4}.*ะ)'\n",
    "        combine_vowel_regex = combine_vowel_regex_1 + combine_vowel_regex_2\n",
    "        self.start_regex_1 = ['(.{1,4})ะ','(.{1,4})า', '(.{1,4})ิ.*', '(.{1,4})ี.*', '(.{1,4})ึ', '(.{1,4})ื.*', '(.{1,4})ุ.*', '(.{1,4})ู.*', 'เ(.{1,4})็', \n",
    "                            'เ(.{1,4}).*', '(.{1,4}).*อ','แ(.{1,4}).*', '(.{1,4})ั.*', 'โ(.{1,4}).*', '(.{1,4}).*ำ', 'ใ(.{1,4}).*', 'ไ(.{1,4})']\n",
    "        self.start_regex_1  = [combine_vowel_regex+regex for regex in self.start_regex_1]\n",
    "        self.start_regex_2 = ['เ(.{1,4})ี.*ยะ', 'เ(.{1,4})ี.*ย', 'เ(.{1,4})ื.*อะ', 'เ(.{1,4})ื.*อ', 'เ(.{1,4}).*อ', 'เ(.{1,4}).*อะ',\n",
    "                              'เ(.{1,4}).*า',\n",
    "                              'เ(.{1,4}).*าะ','แ(.{1,4}).*ะ','(.{1,4})ัวะ','โ(.{1,4}).*ะ', 'เ(.{1,4})็', 'เ(.{1,4})ิ.*']\n",
    "        self.end_regex_1 = ['\\[REP\\]า(.{1,4})', '\\[REP\\]ิ(.{1,4})', '\\[REP\\]ี(.{1,4})', '\\[REP\\]ึ(.{1,4})', '\\[REP\\]ือ(.{1,4})', \n",
    "                            '\\[REP\\]ุ(.{1,4})', '\\[REP\\]ู(.{1,4})', 'เ\\[REP\\]็(.{1,4})', 'เ\\[REP\\](.{1,4})', '\\[REP\\]อ(.{1,4})',\n",
    "                            'แ\\[REP\\](.{1,4})', '\\[REP\\]ั(.{1,4})', 'โ\\[REP\\](.{1,4})','\\[REP\\]ำ(.{1,4})', 'ใ\\[REP\\](.{1,4})', \n",
    "                            'ไ\\[REP\\](.{1,4})']\n",
    "        self.end_regex_2 = ['เ\\[REP\\]ีย(.{1,4})', 'เ\\[REP\\]ือ(.{1,4})', 'เ\\[REP\\]อ(.{1,4})', 'เ\\[REP\\]อะ(.{1,4})','เ\\[REP\\]า(.{1,4})']\n",
    "        \n",
    "        self.start_regex  = self.start_regex_1 + self.start_regex_2 \n",
    "        self.end_regex  = self.end_regex_1 + self.end_regex_2 \n",
    "        #self.vowel_regex = vowel_regex\n",
    "        #self.end_regex = end_regex\n",
    "        self.sound_regex = ['(่)', '(้)', '.(๊)','()๋']\n",
    "        \n",
    "        #initialize the special character cases\n",
    "        #คำควบแท้\n",
    "        self.two_char_combine = ['กร','กล', 'กว', 'คร', 'ขร', 'คล', 'ขล','คว', 'ขว', 'ตร', 'ปร', 'ปล', 'พร', 'พล' ,'ผล',\n",
    "                   'บร','บล','ดร','ฟร','ฟล','ทร','จร','ซร','ปร','สร']\n",
    "        #คำนำ\n",
    "        self.lead_char_nosound = ['อย','หง','หญ','หน','หม','หย', 'หร','หล','หว']\n",
    "        #อักษรสูงนำอักษรต่ำ\n",
    "        self._lead_char_high_low = ['ขน', 'ขม','สม','สย','สน','ขย','ฝร','ถล','ผว','ตน','จม','ตล',]\n",
    "        #อักษรสูงนำอักษรกลาง\n",
    "        self._high_char_high_medium = ['ผท','ผด','ผก','ผอ','ผช']\n",
    "        \n",
    "        \n",
    "    # using property decorator \n",
    "    @property\n",
    "    def start(self): \n",
    "        #print(\"getter method called\") \n",
    "        temp_start = self.match_pattern(self.orig_word, self.start_regex)\n",
    "        if len(temp_start)==1: return temp_start\n",
    "        else: \n",
    "            return self.check_double_start_alphabets(temp_start)\n",
    "        #return self.match_pattern(self.orig_word, self.start_regex)\n",
    "    \n",
    "    @property\n",
    "    def sound(self):\n",
    "        if self.match_pattern(self.orig_word, self.sound_regex) is None: return ''\n",
    "        return self.match_pattern(self.orig_word, self.sound_regex)\n",
    "    \n",
    "    @property\n",
    "    def vowel(self):\n",
    "        return self.orig_word.replace(self.sound,'').replace(self.start,'[REP]',1) #[REP] will be used for conversion to Lu/Ru\n",
    "#     def vowel(self):\n",
    "#         return self.orig_word.replace(self.sound,'').replace(self.end,'').replace(self.start,'[REP]',1) #[REP] will be used for conversion to Lu/Ru\n",
    "    \n",
    "    @property #might not need this one in final application as we need vowel\n",
    "    def end(self):\n",
    "        if self.match_pattern(self.vowel, self.end_regex) not in self.vowels_form: \n",
    "            return self.match_pattern(self.vowel, self.end_regex)\n",
    "        else:\n",
    "            return None\n",
    "\n",
    "#     # a setter function \n",
    "#     @start.setter \n",
    "#     def start(self): \n",
    "#         print(\"setter method called\") \n",
    "#         self._start = match_pattern(self.start_regex)\n",
    "    \n",
    "    def match_pattern(self, text, regex_pattern):\n",
    "        output_start = None\n",
    "        if self.debug: print(text)\n",
    "        for pattern in regex_pattern:\n",
    "            matches = re.search(pattern, text, re.DOTALL)\n",
    "            \n",
    "            if matches is not None and self.debug: print(pattern, matches.group(1))\n",
    "            if matches is not None: output_start = matches.group(1)\n",
    "        return output_start\n",
    "    \n",
    "    def check_double_start_alphabets(self, text):\n",
    "        '''Use to check in case starting alphabet is longer than one, \n",
    "        ref:https://sites.google.com/site/phasathaionline/hnwy-kar-reiyn-ru2/phyaychnatn'''\n",
    "        #Function that check word in case like ขนม and else \n",
    "        \n",
    "        two_char = self.lead_char_nosound + self.two_char_combine\n",
    "        \n",
    "        max_lcs = 0\n",
    "        if text in two_char: return text\n",
    "        else:\n",
    "            for char in two_char:\n",
    "                if LCSubStr(text, char, len(text), len(char)) > max_lcs: \n",
    "                    max_lcs = LCSubStr(text, char, len(text), len(char))\n",
    "                    max_lcs_char = char\n",
    "            return max_lcs_char\n",
    "        \n",
    "        return None\n",
    "    \n",
    "    def check_double_start_sound(self, text):\n",
    "        '''Use to address the case where start alphabets are double and need to split to reflect actual pronunciation \n",
    "        ref:https://sites.google.com/site/phasathaionline/hnwy-kar-reiyn-ru2/phyaychnatn'''\n",
    "        #Function that check word in case like ขนม and else \n",
    "        \n",
    "        \n",
    "        return None\n",
    "    \n",
    "    def remove_karan(self, regex_pattern):\n",
    "        return None\n",
    "        #Write specific function for removing ์"
   ]
  }
 ],
 "metadata": {
  "kernelspec": {
   "display_name": "Chat bot ",
   "language": "python",
   "name": "chat_bot"
  },
  "language_info": {
   "codemirror_mode": {
    "name": "ipython",
    "version": 3
   },
   "file_extension": ".py",
   "mimetype": "text/x-python",
   "name": "python",
   "nbconvert_exporter": "python",
   "pygments_lexer": "ipython3",
   "version": "3.8.5"
  }
 },
 "nbformat": 4,
 "nbformat_minor": 4
}
