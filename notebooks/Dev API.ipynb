{
 "cells": [
  {
   "cell_type": "code",
   "execution_count": 1,
   "metadata": {},
   "outputs": [],
   "source": [
    "%load_ext autoreload\n",
    "%autoreload 2"
   ]
  },
  {
   "cell_type": "code",
   "execution_count": 2,
   "metadata": {},
   "outputs": [
    {
     "data": {
      "text/plain": [
       "'Hello World!'"
      ]
     },
     "execution_count": 2,
     "metadata": {},
     "output_type": "execute_result"
    }
   ],
   "source": [
    "import kampuan as kp\n",
    "\n",
    "kp.test()"
   ]
  },
  {
   "cell_type": "code",
   "execution_count": null,
   "metadata": {},
   "outputs": [],
   "source": []
  },
  {
   "cell_type": "code",
   "execution_count": 3,
   "metadata": {},
   "outputs": [
    {
     "data": {
      "text/plain": [
       "['สวัส', 'ดี']"
      ]
     },
     "execution_count": 3,
     "metadata": {},
     "output_type": "execute_result"
    }
   ],
   "source": [
    "\n",
    "phrase='สวัสดี'\n",
    "kp.tokenize(phrase)"
   ]
  },
  {
   "cell_type": "code",
   "execution_count": 4,
   "metadata": {},
   "outputs": [
    {
     "data": {
      "text/plain": [
       "['ตลาด']"
      ]
     },
     "execution_count": 4,
     "metadata": {},
     "output_type": "execute_result"
    }
   ],
   "source": [
    "kp.tokenize('ตลาด')"
   ]
  },
  {
   "cell_type": "markdown",
   "metadata": {},
   "source": [
    "* 2 word 2 syllabus case\n"
   ]
  },
  {
   "cell_type": "code",
   "execution_count": 5,
   "metadata": {},
   "outputs": [
    {
     "data": {
      "text/plain": [
       "[['กิน', 'ข้าว'],\n",
       " ['หิว', 'จัง'],\n",
       " ['คำ', 'ผวน'],\n",
       " ['นอน', 'แล้ว'],\n",
       " ['ตะ', 'ปู'],\n",
       " ['นัก', 'เรียน'],\n",
       " ['ขนม']]"
      ]
     },
     "execution_count": 5,
     "metadata": {},
     "output_type": "execute_result"
    }
   ],
   "source": [
    "case_1 ={'กินข้าว':'กาวขิ้น',\n",
    "         'หิวจัง':'หังจิว',\n",
    "        'คำผวน':'ควนผำ',\n",
    "        'นอนแล้ว':'แนวร้อน',\n",
    "        'ตะปู':'ตูปะ',\n",
    "        'นักเรียน':'เนียนรัก',\n",
    "        'ขนม':'ขมหน่ะ'}\n",
    "\n",
    "tmp=[kp.tokenize(key) for key in case_1.keys()]\n",
    "tmp\n",
    "\n",
    "# get "
   ]
  },
  {
   "cell_type": "markdown",
   "metadata": {},
   "source": [
    "# Subwords\n",
    "\n",
    "* initial_consonant\n",
    "    * single อักษรเดี่ยว\n",
    "        * sound_level (low/mid/high)\n",
    "        * low_single, low_double\n",
    "    * cluster อักษรควบ\n",
    "        * true_cluster อักษรควบแท้\n",
    "        * fasle_cluster อักษรควบไม่แท้\n",
    "    * leading_cluster อักษรนำ–อักษรตาม\n",
    "        * hornum_leading หอ นำ\n",
    "        * oarnum_leading ออ นำ\n",
    "        * non_conform_leading นำด้วยสูง หรือ กลาง  นคร ขนม\n",
    "* final_consonant\n",
    "    * type (dead/live)\n",
    "    * sound (eng)\n",
    "        * k: กก\n",
    "        * ng: กง\n",
    "        * t: กด\n",
    "        * m: กม\n",
    "        * n: กน\n",
    "        * p: กบ\n",
    "        * y: เกย\n",
    "        * v: เกอว\n",
    "    * sound_level low/mid/high\n",
    "* vowel\n",
    "* tone http://www.thai-language.com/ref/tone-rules\n",
    "    * tone_mark\n",
    "    * tone_sound"
   ]
  },
  {
   "cell_type": "code",
   "execution_count": 53,
   "metadata": {},
   "outputs": [
    {
     "name": "stdout",
     "output_type": "stream",
     "text": [
      "เขียว\n",
      "===\n",
      "('เ', 'ข', 'ีย', 'ว') เ-ีย (เ)(.{1,3})(ีย)([ก-ฮ]*)\n",
      "เกรียน\n",
      "===\n",
      "('เ', 'กร', 'ีย', 'น') เ-ีย (เ)(.{1,3})(ีย)([ก-ฮ]*)\n",
      "ตู่\n",
      "===\n",
      "('ต', 'ู', '') -ู (.{1,3})(ู)([ก-ฮ]*)\n",
      "ตด\n",
      "===\n",
      "('ต', 'ด') - (.{1,2})([ก-ฮ])\n",
      "กร\n",
      "===\n",
      "('ก', 'ร') - (.{1,2})([ก-ฮ])\n",
      "นอน\n",
      "===\n",
      "('น', 'อ', 'น') -อ (.{1,3})(อ)([ก-ฮ]*)\n",
      "ขนุน\n",
      "===\n",
      "('ขน', 'ุ', 'น') -ุ (.{1,3})(ุ)([ก-ฮ]*)\n",
      "จัง\n",
      "===\n",
      "('จ', 'ั', 'ง') -ั (.{1,3})(ั)([ก-ฮ]*)\n",
      "กำ\n",
      "===\n",
      "('ก', 'ำ', '') -ำ (.{1,3})(ำ)([ก-ฮ]*)\n",
      "ใหญ่\n",
      "===\n",
      "('ใ', 'หญ', '') ใ- (ใ)(.{1,3})([ก-ฮ]*)\n",
      "ใคร\n",
      "===\n",
      "('ใ', 'คร', '') ใ- (ใ)(.{1,3})([ก-ฮ]*)\n",
      "เดา\n",
      "===\n",
      "('เ', 'ด', 'า', '') เ-า (เ)(.{1,3})(า)([ก-ฮ]*)\n",
      "เปรต\n",
      "===\n",
      "('เ', 'ปรต', '') เ- (เ)(.{1,3})([ก-ฮ]*)\n",
      "เสร็จ\n",
      "===\n",
      "('เ', 'สร', '็', 'จ') เ-็ (เ)(.{1,3})(็)([ก-ฮ]*)\n",
      "ปีน\n",
      "===\n",
      "('ป', 'ี', 'น') -ี (.{1,3})(ี)([ก-ฮ]*)\n",
      "เปี๊ยะ\n",
      "===\n",
      "('เ', 'ป', 'ียะ', '') เ-ียะ (เ)(.{1,3})(ียะ)([ก-ฮ]*)\n",
      "คั่ว\n",
      "===\n",
      "('ค', 'ัว', '') -ัว (.{1,3})(ัว)([ก-ฮ]*)\n",
      "แก้ม\n",
      "===\n",
      "('แ', 'กม', '') แ- (แ)(.{1,3})([ก-ฮ]*)\n",
      "แช่ง\n",
      "===\n",
      "('แ', 'ชง', '') แ- (แ)(.{1,3})([ก-ฮ]*)\n",
      "แกล้ม\n",
      "===\n",
      "('แ', 'กลม', '') แ- (แ)(.{1,3})([ก-ฮ]*)\n",
      "แพร่\n",
      "===\n",
      "('แ', 'พร', '') แ- (แ)(.{1,3})([ก-ฮ]*)\n",
      "แข็ง\n",
      "===\n",
      "('แ', 'ข', '็', 'ง') แ-็ (แ)(.{1,3})(็)([ก-ฮ]*)\n",
      "เกลอ\n",
      "===\n",
      "('เ', 'กล', 'อ', '') เ-อ (เ)(.{1,3})(อ)([ก-ฮ]*)\n",
      "เทอญ\n",
      "===\n",
      "('เ', 'ท', 'อ', 'ญ') เ-อ (เ)(.{1,3})(อ)([ก-ฮ]*)\n",
      "เกิด\n",
      "===\n",
      "('เ', 'ก', 'ิ', 'ด') เ-ิ (เ)(.{1,3})(ิ)([ก-ฮ]*)\n",
      "เตลิด\n",
      "===\n",
      "('เ', 'ตล', 'ิ', 'ด') เ-ิ (เ)(.{1,3})(ิ)([ก-ฮ]*)\n",
      "กลม\n",
      "===\n",
      "('กล', 'ม') - (.{1,2})([ก-ฮ])\n",
      "เลว\n",
      "===\n",
      "('เล', 'ว', '') -ว (.{1,3})(ว)([ก-ฮ]*)\n",
      "เสก\n",
      "===\n",
      "('เ', 'สก', '') เ- (เ)(.{1,3})([ก-ฮ]*)\n",
      "วัว\n",
      "===\n",
      "('ว', 'ัว', '') -ัว (.{1,3})(ัว)([ก-ฮ]*)\n",
      "เยี่ยม\n",
      "===\n",
      "('เ', 'ย', 'ีย', 'ม') เ-ีย (เ)(.{1,3})(ีย)([ก-ฮ]*)\n",
      "เพลง\n",
      "===\n",
      "('เ', 'พลง', '') เ- (เ)(.{1,3})([ก-ฮ]*)\n",
      "ปลอม\n",
      "===\n",
      "('ปล', 'อ', 'ม') -อ (.{1,3})(อ)([ก-ฮ]*)\n",
      "หอม\n",
      "===\n",
      "('ห', 'อ', 'ม') -อ (.{1,3})(อ)([ก-ฮ]*)\n",
      "เวร\n",
      "===\n",
      "('เ', 'ว', 'ร') -ว (.{1,3})(ว)([ก-ฮ]*)\n",
      "อย่าง\n",
      "===\n",
      "('อย', 'า', 'ง') -า (.{1,3})(า)([ก-ฮ]*)\n",
      "อยู่\n",
      "===\n",
      "('อย', 'ู', '') -ู (.{1,3})(ู)([ก-ฮ]*)\n",
      "อย่า\n",
      "===\n",
      "('อย', 'า', '') -า (.{1,3})(า)([ก-ฮ]*)\n",
      "กวน\n",
      "===\n",
      "('ก', 'ว', 'น') -ว (.{1,3})(ว)([ก-ฮ]*)\n",
      "แวว\n",
      "===\n",
      "('แว', 'ว', '') -ว (.{1,3})(ว)([ก-ฮ]*)\n",
      "วน\n",
      "===\n",
      "('ว', 'น') - (.{1,2})([ก-ฮ])\n",
      "ว่าย\n",
      "===\n",
      "('ว', 'า', 'ย') -า (.{1,3})(า)([ก-ฮ]*)\n",
      "สวย\n",
      "===\n",
      "('ส', 'ว', 'ย') -ว (.{1,3})(ว)([ก-ฮ]*)\n",
      "เขย\n",
      "===\n",
      "('เ', 'ขย', '') เ- (เ)(.{1,3})([ก-ฮ]*)\n"
     ]
    }
   ],
   "source": [
    "import re\n",
    "from kampuan.lang_tools import get_vowel_pattern,get_vowel_form,remove_tone_mark\n",
    "\n",
    "vowel_pattern=get_vowel_pattern()\n",
    "def match_pattern(pattern,text):\n",
    "    m=re.match(pattern,text)\n",
    "    return m\n",
    "\n",
    "def match_vowel_form(text,vowel_patterns):\n",
    "    for i,pattern in enumerate(vowel_patterns):\n",
    "        m=re.match(pattern,text)\n",
    "        if m:\n",
    "            return (i,m,pattern)\n",
    "    \n",
    "    return (-1,text,text)\n",
    "        \n",
    "vowel_forms=get_vowel_form(REP='-')\n",
    "test_text =['เขียว',\n",
    "            'เกรียน',\n",
    "            'ตู่',\n",
    "            'ตด',\n",
    "            'กร',\n",
    "            'นอน',\n",
    "           'ขนุน',\n",
    "           'จัง',\n",
    "           'กำ',\n",
    "           'ใหญ่',\n",
    "            'ใคร',\n",
    "           'เดา',\n",
    "           'เปรต',\n",
    "           'เสร็จ',\n",
    "           'ปีน',\n",
    "           'เปี๊ยะ',\n",
    "           'คั่ว',\n",
    "           'แก้ม',\n",
    "            'แช่ง',\n",
    "            'แกล้ม',\n",
    "            'แพร่',\n",
    "           'แข็ง',\n",
    "           'เกลอ',\n",
    "           'เทอญ',\n",
    "           'เกิด',\n",
    "           'เตลิด',\n",
    "           'กลม',\n",
    "            'เลว',\n",
    "            'เสก',\n",
    "           'วัว',\n",
    "           'เยี่ยม',\n",
    "           'เพลง',\n",
    "           'ปลอม',\n",
    "           'หอม',\n",
    "           'เวร',\n",
    "           'อย่าง',\n",
    "           'อยู่',\n",
    "           'อย่า',\n",
    "           'กวน' ,\n",
    "           'แวว',\n",
    "           'วน',\n",
    "           'ว่าย',\n",
    "           'สวย',\n",
    "           'เขย']\n",
    "\n",
    "for text in test_text:\n",
    "    print(text)\n",
    "    plain=remove_tone_mark(text)\n",
    "    (i,m,pattern)=match_vowel_form(plain,vowel_pattern)   \n",
    "    print('===')\n",
    "    print(m.groups(),vowel_forms[i],pattern)"
   ]
  },
  {
   "cell_type": "code",
   "execution_count": 54,
   "metadata": {},
   "outputs": [
    {
     "data": {
      "text/plain": [
       "20"
      ]
     },
     "execution_count": 54,
     "metadata": {},
     "output_type": "execute_result"
    }
   ],
   "source": [
    "from kampuan.const import THAI_VOW\n",
    "\n",
    "len(THAI_VOW)"
   ]
  },
  {
   "cell_type": "code",
   "execution_count": 55,
   "metadata": {},
   "outputs": [],
   "source": [
    "# case เ แ need to verify ควบกล้ำ \n",
    "# 1 ตัว -> no สะกด\n",
    "# 2 ตัว -> 1 สะกด\n",
    "# 3 ตัว -> 1 สะกด\n",
    "\n",
    "# อักษรนำ\n",
    "\n",
    "# #initialize the special character cases\n",
    "# #คำควบแท้\n",
    "# self.two_char_combine = ['กร','กล', 'กว', 'คร', 'ขร', 'คล', 'ขล','คว', 'ขว', 'ตร', 'ปร', 'ปล', 'พร', 'พล' ,'ผล',\n",
    "#            'บร','บล','ดร','ฟร','ฟล','ทร','จร','ซร','ปร','สร']\n",
    "# #คำนำ\n",
    "# self.lead_char_nosound = ['อย','หง','หญ','หน','หม','หย', 'หร','หล','หว']\n",
    "# #อักษรสูงนำอักษรต่ำ\n",
    "# self._lead_char_high_low = ['ขน', 'ขม','สม','สย','สน','ขย','ฝร','ถล','ผว','ตน','จม','ตล',]\n",
    "# #อักษรสูงนำอักษรกลาง\n",
    "# self._high_char_high_medium = ['ผท','ผด','ผก','ผอ','ผช']"
   ]
  },
  {
   "cell_type": "code",
   "execution_count": 56,
   "metadata": {},
   "outputs": [
    {
     "data": {
      "text/plain": [
       "'่้๊๋'"
      ]
     },
     "execution_count": 56,
     "metadata": {},
     "output_type": "execute_result"
    }
   ],
   "source": [
    "import pythainlp\n",
    "pythainlp.thai_tonemarks"
   ]
  },
  {
   "cell_type": "code",
   "execution_count": 57,
   "metadata": {},
   "outputs": [
    {
     "data": {
      "text/plain": [
       "'๏๚๛'"
      ]
     },
     "execution_count": 57,
     "metadata": {},
     "output_type": "execute_result"
    }
   ],
   "source": [
    "pythainlp.thai_punctuations"
   ]
  },
  {
   "cell_type": "code",
   "execution_count": 58,
   "metadata": {},
   "outputs": [
    {
     "data": {
      "text/plain": [
       "['-ุ', '-ู']"
      ]
     },
     "execution_count": 58,
     "metadata": {},
     "output_type": "execute_result"
    }
   ],
   "source": [
    "['-'+char for char in pythainlp.thai_below_vowels]"
   ]
  },
  {
   "cell_type": "code",
   "execution_count": 59,
   "metadata": {},
   "outputs": [
    {
     "data": {
      "text/plain": [
       "['_่', '_้', '_๊', '_๋']"
      ]
     },
     "execution_count": 59,
     "metadata": {},
     "output_type": "execute_result"
    }
   ],
   "source": [
    "['_'+char for char in pythainlp.thai_tonemarks]"
   ]
  },
  {
   "cell_type": "code",
   "execution_count": 60,
   "metadata": {},
   "outputs": [
    {
     "data": {
      "text/plain": [
       "['_ั', '_ิ', '_ี', '_ึ', '_ื', '_ํ', '_็']"
      ]
     },
     "execution_count": 60,
     "metadata": {},
     "output_type": "execute_result"
    }
   ],
   "source": [
    "['_'+char for char in pythainlp.thai_above_vowels]"
   ]
  },
  {
   "cell_type": "code",
   "execution_count": 61,
   "metadata": {},
   "outputs": [
    {
     "data": {
      "text/plain": [
       "['เ_', 'แ_', 'โ_', 'ใ_', 'ไ_']"
      ]
     },
     "execution_count": 61,
     "metadata": {},
     "output_type": "execute_result"
    }
   ],
   "source": [
    "[char+'_' for char in pythainlp.thai_lead_vowels]"
   ]
  },
  {
   "cell_type": "code",
   "execution_count": 62,
   "metadata": {},
   "outputs": [
    {
     "data": {
      "text/plain": [
       "['_ะ', '_า', '_ำ', '_ๅ']"
      ]
     },
     "execution_count": 62,
     "metadata": {},
     "output_type": "execute_result"
    }
   ],
   "source": [
    "['_'+char for char in pythainlp.thai_follow_vowels]"
   ]
  },
  {
   "cell_type": "code",
   "execution_count": 63,
   "metadata": {},
   "outputs": [
    {
     "data": {
      "text/plain": [
       "'ฤฦะัาำิีึืุูเแโใไๅํ็'"
      ]
     },
     "execution_count": 63,
     "metadata": {},
     "output_type": "execute_result"
    }
   ],
   "source": [
    "pythainlp.thai_vowels"
   ]
  },
  {
   "cell_type": "code",
   "execution_count": 64,
   "metadata": {},
   "outputs": [],
   "source": [
    "from typing import NamedTuple, Optional,List\n",
    "class TestWord(NamedTuple):\n",
    "    raw: str\n",
    "    vowel_form: Optional[str]=None\n",
    "    tone_mark: Optional[str]=None\n",
    "    all_consonants: Optional[List[str]]=None\n",
    "\n",
    "\n",
    "a = TestWord('เขียว','เ-ีย',None,['ข','ย','ว'])"
   ]
  },
  {
   "cell_type": "code",
   "execution_count": 65,
   "metadata": {},
   "outputs": [],
   "source": [
    "test_list=[\n",
    "TestWord('เขียว', 'เ-ีย', None, ['ข', 'ย', 'ว']),\n",
    "TestWord('เขียว', 'เ-ีย', None, ['ข', 'ย', 'ว']),\n",
    "TestWord('เขียว', 'เ-ีย'),\n",
    "TestWord('เขียว', 'เ-ีย', None, ['ข', 'ย', 'ว']),\n",
    "]\n"
   ]
  },
  {
   "cell_type": "code",
   "execution_count": 69,
   "metadata": {},
   "outputs": [
    {
     "name": "stdout",
     "output_type": "stream",
     "text": [
      "check this case not sure\n",
      "----\n",
      "เกรง\n",
      "[(0, 'เ')]\n",
      "(2, 'ร')\n",
      "[(1, 'ก'), (2, 'ร'), (3, 'ง')]\n",
      "----\n",
      "แปลง\n",
      "[(0, 'แ')]\n",
      "(2, 'ล')\n",
      "[(1, 'ป'), (2, 'ล'), (3, 'ง')]\n",
      "----\n",
      "กรง\n",
      "[]\n",
      "(1, 'ร')\n",
      "[(0, 'ก'), (1, 'ร'), (2, 'ง')]\n",
      "----\n",
      "ธง\n",
      "[]\n",
      "(0, 'ธ')\n",
      "[(0, 'ธ'), (1, 'ง')]\n",
      "----\n",
      "ครี่\n",
      "[(2, 'ี')]\n",
      "(3, '่')\n",
      "[(0, 'ค'), (1, 'ร')]\n",
      "----\n",
      "แซง\n",
      "[(0, 'แ')]\n",
      "(1, 'ซ')\n",
      "[(1, 'ซ'), (2, 'ง')]\n",
      "----\n",
      "แปล\n",
      "[(0, 'แ')]\n",
      "(2, 'ล')\n",
      "[(1, 'ป'), (2, 'ล')]\n",
      "----\n",
      "แทรก\n",
      "[(0, 'แ')]\n",
      "(2, 'ร')\n",
      "[(1, 'ท'), (2, 'ร'), (3, 'ก')]\n",
      "----\n",
      "ท้อ\n",
      "[(2, 'อ')]\n",
      "(1, '้')\n",
      "[(0, 'ท')]\n",
      "----\n",
      "ท้อง\n",
      "[(2, 'อ')]\n",
      "(1, '้')\n",
      "[(0, 'ท'), (3, 'ง')]\n",
      "----\n",
      "ใคร\n",
      "[(0, 'ใ')]\n",
      "(2, 'ร')\n",
      "[(1, 'ค'), (2, 'ร')]\n",
      "----\n",
      "เสวย\n",
      "[(0, 'เ'), (2, 'ว')]\n",
      "(2, 'ว')\n",
      "[(1, 'ส'), (3, 'ย')]\n",
      "----\n",
      "เยี่ยม\n",
      "[(0, 'เ'), (2, 'ี'), (4, 'ย')]\n",
      "(3, '่')\n",
      "[(1, 'ย'), (5, 'ม')]\n",
      "----\n",
      "บรรณ\n",
      "[]\n",
      "(0, 'บ')\n",
      "[(0, 'บ'), (1, 'ร'), (2, 'ร'), (3, 'ณ')]\n",
      "----\n",
      "สมุทร\n",
      "[(2, 'ุ')]\n",
      "(2, 'ุ')\n",
      "[(0, 'ส'), (1, 'ม'), (3, 'ท'), (4, 'ร')]\n",
      "----\n",
      "จันทร์\n",
      "[(1, 'ั')]\n",
      "(1, 'ั')\n",
      "[(0, 'จ'), (2, 'น')]\n",
      "----\n",
      "พันธุ์\n",
      "[(1, 'ั'), (4, 'ุ')]\n",
      "(4, 'ุ')\n",
      "[(0, 'พ'), (2, 'น')]\n",
      "----\n",
      "กริบ\n",
      "[(2, 'ิ')]\n",
      "(2, 'ิ')\n",
      "[(0, 'ก'), (1, 'ร'), (3, 'บ')]\n",
      "----\n",
      "อยาก\n",
      "[(2, 'า')]\n",
      "(2, 'า')\n",
      "[(0, 'อ'), (1, 'ย'), (3, 'ก')]\n",
      "----\n",
      "กบ\n",
      "[]\n",
      "(0, 'ก')\n",
      "[(0, 'ก'), (1, 'บ')]\n",
      "----\n",
      "เกษม\n",
      "[(0, 'เ')]\n",
      "(2, 'ษ')\n",
      "[(1, 'ก'), (2, 'ษ'), (3, 'ม')]\n"
     ]
    }
   ],
   "source": [
    "import pythainlp\n",
    "from dataclasses import dataclass\n",
    "from kampuan.sub_word import ThaiSubWord\n",
    "test_words=[ThaiSubWord('เกรง')\n",
    ",ThaiSubWord('แปลง')\n",
    ",ThaiSubWord('กรง')\n",
    ",ThaiSubWord('ธง')\n",
    ",ThaiSubWord('ครี่')\n",
    ",ThaiSubWord('แซง')\n",
    ",ThaiSubWord('แปล')\n",
    ",ThaiSubWord('แทรก')\n",
    ",ThaiSubWord('ท้อ')\n",
    ",ThaiSubWord('ท้อง')\n",
    ",ThaiSubWord('ใคร')     \n",
    ",ThaiSubWord('เสวย')   \n",
    ",ThaiSubWord('เยี่ยม')\n",
    ",ThaiSubWord('บรรณ')\n",
    ",ThaiSubWord('สมุทร')\n",
    ",ThaiSubWord('จันทร์')\n",
    ",ThaiSubWord('พันธุ์') \n",
    ",ThaiSubWord('กริบ') \n",
    ",ThaiSubWord('อยาก')     \n",
    ",ThaiSubWord('กบ') \n",
    ",ThaiSubWord('เกษม') \n",
    "           ]\n",
    "\n",
    "# a=ThaiSubWord('เกลอ')\n",
    "for a in test_words:\n",
    "    print('----')\n",
    "    print(a._raw)\n",
    "    print(a._vowel_form_tup)\n",
    "    print(a._con_split)\n",
    "    print(a._true_con_tup)"
   ]
  },
  {
   "cell_type": "code",
   "execution_count": 70,
   "metadata": {},
   "outputs": [
    {
     "data": {
      "text/plain": [
       "{'_raw': 'เกษม',\n",
       " '_vowels_tup': [(0, 'เ')],\n",
       " '_vowels': ['เ'],\n",
       " '_consonants_tup': [(1, 'ก'), (2, 'ษ'), (3, 'ม')],\n",
       " '_consonants': ['ก', 'ษ', 'ม'],\n",
       " '_tone_mark': [],\n",
       " '_mute_mark': -1,\n",
       " '_two_syllable': True,\n",
       " '_ex_vw_form': 'เ-',\n",
       " '_ex_regex': <re.Match object; span=(0, 4), match='เกษม'>,\n",
       " '_ex_pattern': '(เ)(.{1,3})([ก-ฮ]*)',\n",
       " '_vowel_form': 'เ-',\n",
       " '_vowel_con_tup': (-1, None),\n",
       " '_vowel_form_tup': [(0, 'เ')],\n",
       " '_mute_con_tup': [],\n",
       " '_mute_con': [],\n",
       " '_true_con_tup': [(1, 'ก'), (2, 'ษ'), (3, 'ม')],\n",
       " '_con_split': (2, 'ษ'),\n",
       " '_init_con_tup': [(1, 'ก'), (2, 'ษ')],\n",
       " '_final_con_tup': [(3, 'ม')],\n",
       " '_tone': None}"
      ]
     },
     "execution_count": 70,
     "metadata": {},
     "output_type": "execute_result"
    }
   ],
   "source": [
    "a.__dict__"
   ]
  },
  {
   "cell_type": "code",
   "execution_count": 71,
   "metadata": {},
   "outputs": [
    {
     "data": {
      "text/plain": [
       "(2, 'ษ')"
      ]
     },
     "execution_count": 71,
     "metadata": {},
     "output_type": "execute_result"
    }
   ],
   "source": [
    "a._con_split"
   ]
  },
  {
   "cell_type": "code",
   "execution_count": 72,
   "metadata": {},
   "outputs": [
    {
     "data": {
      "text/plain": [
       "[(1, 'ก'), (2, 'ษ'), (3, 'ม')]"
      ]
     },
     "execution_count": 72,
     "metadata": {},
     "output_type": "execute_result"
    }
   ],
   "source": [
    "a._true_con_tup"
   ]
  },
  {
   "cell_type": "code",
   "execution_count": 73,
   "metadata": {},
   "outputs": [
    {
     "data": {
      "text/plain": [
       "('เ', 'อ', 'ือ', 'ง')"
      ]
     },
     "execution_count": 73,
     "metadata": {},
     "output_type": "execute_result"
    }
   ],
   "source": [
    "ThaiSubWord('เอื้อง')._ex_regex.groups()"
   ]
  },
  {
   "cell_type": "code",
   "execution_count": 74,
   "metadata": {},
   "outputs": [
    {
     "data": {
      "text/plain": [
       "{'_raw': 'เอื้อง',\n",
       " '_vowels_tup': [(0, 'เ'), (2, 'ื')],\n",
       " '_vowels': ['เ', 'ื'],\n",
       " '_consonants_tup': [(1, 'อ'), (4, 'อ'), (5, 'ง')],\n",
       " '_consonants': ['อ', 'อ', 'ง'],\n",
       " '_tone_mark': ['้'],\n",
       " '_mute_mark': -1,\n",
       " '_two_syllable': False,\n",
       " '_ex_vw_form': 'เ-ือ',\n",
       " '_ex_regex': <re.Match object; span=(0, 5), match='เอือง'>,\n",
       " '_ex_pattern': '(เ)(.{1,3})(ือ)([ก-ฮ]*)',\n",
       " '_vowel_form': 'เ-ือ',\n",
       " '_vowel_con_tup': (4, 'อ'),\n",
       " '_vowel_form_tup': [(0, 'เ'), (2, 'ื'), (4, 'อ')],\n",
       " '_mute_con_tup': [],\n",
       " '_mute_con': [],\n",
       " '_true_con_tup': [(1, 'อ'), (5, 'ง')],\n",
       " '_con_split': (3, '้'),\n",
       " '_init_con_tup': [(1, 'อ')],\n",
       " '_final_con_tup': [(5, 'ง')],\n",
       " '_tone': None}"
      ]
     },
     "execution_count": 74,
     "metadata": {},
     "output_type": "execute_result"
    }
   ],
   "source": [
    "ThaiSubWord('เอื้อง').__dict__"
   ]
  },
  {
   "cell_type": "code",
   "execution_count": 75,
   "metadata": {},
   "outputs": [
    {
     "data": {
      "text/plain": [
       "{'_raw': 'เกรง',\n",
       " '_vowels_tup': [(0, 'เ')],\n",
       " '_vowels': ['เ'],\n",
       " '_consonants_tup': [(1, 'ก'), (2, 'ร'), (3, 'ง')],\n",
       " '_consonants': ['ก', 'ร', 'ง'],\n",
       " '_tone_mark': [],\n",
       " '_mute_mark': -1,\n",
       " '_two_syllable': False,\n",
       " '_ex_vw_form': 'เ-',\n",
       " '_ex_regex': <re.Match object; span=(0, 4), match='เกรง'>,\n",
       " '_ex_pattern': '(เ)(.{1,3})([ก-ฮ]*)',\n",
       " '_vowel_form': 'เ-',\n",
       " '_vowel_con_tup': (-1, None),\n",
       " '_vowel_form_tup': [(0, 'เ')],\n",
       " '_mute_con_tup': [],\n",
       " '_mute_con': [],\n",
       " '_true_con_tup': [(1, 'ก'), (2, 'ร'), (3, 'ง')],\n",
       " '_con_split': (2, 'ร'),\n",
       " '_init_con_tup': [(1, 'ก'), (2, 'ร')],\n",
       " '_final_con_tup': [(3, 'ง')],\n",
       " '_tone': None}"
      ]
     },
     "execution_count": 75,
     "metadata": {},
     "output_type": "execute_result"
    }
   ],
   "source": [
    "ThaiSubWord('เกรง').__dict__"
   ]
  },
  {
   "cell_type": "code",
   "execution_count": 76,
   "metadata": {},
   "outputs": [
    {
     "data": {
      "text/plain": [
       "{'_raw': 'เปรลี้ยง',\n",
       " '_vowels_tup': [(0, 'เ'), (4, 'ี')],\n",
       " '_vowels': ['เ', 'ี'],\n",
       " '_consonants_tup': [(1, 'ป'), (2, 'ร'), (3, 'ล'), (6, 'ย'), (7, 'ง')],\n",
       " '_consonants': ['ป', 'ร', 'ล', 'ย', 'ง'],\n",
       " '_tone_mark': ['้'],\n",
       " '_mute_mark': -1,\n",
       " '_two_syllable': False,\n",
       " '_ex_vw_form': 'เ-ีย',\n",
       " '_ex_regex': <re.Match object; span=(0, 7), match='เปรลียง'>,\n",
       " '_ex_pattern': '(เ)(.{1,3})(ีย)([ก-ฮ]*)',\n",
       " '_vowel_form': 'เ-ีย',\n",
       " '_vowel_con_tup': (6, 'ย'),\n",
       " '_vowel_form_tup': [(0, 'เ'), (4, 'ี'), (6, 'ย')],\n",
       " '_mute_con_tup': [],\n",
       " '_mute_con': [],\n",
       " '_true_con_tup': [(1, 'ป'), (2, 'ร'), (3, 'ล'), (7, 'ง')],\n",
       " '_con_split': (5, '้'),\n",
       " '_init_con_tup': [(1, 'ป'), (2, 'ร'), (3, 'ล')],\n",
       " '_final_con_tup': [(7, 'ง')],\n",
       " '_tone': None}"
      ]
     },
     "execution_count": 76,
     "metadata": {},
     "output_type": "execute_result"
    }
   ],
   "source": [
    "ThaiSubWord('เปรลี้ยง').__dict__"
   ]
  },
  {
   "cell_type": "code",
   "execution_count": 79,
   "metadata": {},
   "outputs": [
    {
     "name": "stdout",
     "output_type": "stream",
     "text": [
      "(4, 'ย') [(0, 'เ'), (3, 'ี'), (4, 'ย'), (5, 'ะ')]\n",
      "เปลียะ : [(1, 'ป'), (2, 'ล')] []\n",
      "(4, 'อ') [(0, 'เ'), (3, 'ื'), (4, 'อ'), (5, 'ะ')]\n",
      "เปลือะ : [(1, 'ป'), (2, 'ล')] []\n",
      "(4, 'ะ') [(0, 'เ'), (3, 'า'), (4, 'ะ')]\n",
      "เปลาะ : [(1, 'ป'), (2, 'ล')] []\n",
      "(4, 'ย') [(0, 'เ'), (3, 'ี'), (4, 'ย')]\n",
      "เปลีย : [(1, 'ป'), (2, 'ล')] []\n",
      "(4, 'อ') [(0, 'เ'), (3, 'ื'), (4, 'อ')]\n",
      "เปลือ : [(1, 'ป'), (2, 'ล')] []\n",
      "(3, 'ว') [(2, 'ั'), (3, 'ว'), (4, 'ะ')]\n",
      "ปลัวะ : [(0, 'ป'), (1, 'ล')] []\n",
      "(3, 'อ') [(0, 'เ'), (3, 'อ'), (4, 'ะ')]\n",
      "เปลอะ : [(1, 'ป'), (2, 'ล')] []\n",
      "(3, 'า') [(0, 'เ'), (3, 'า')]\n",
      "เปลา : [(1, 'ป'), (2, 'ล')] []\n",
      "(3, 'ะ') [(0, 'เ'), (3, 'ะ')]\n",
      "เปละ : [(1, 'ป'), (2, 'ล')] []\n",
      "(3, '็') [(0, 'เ'), (3, '็')]\n",
      "เปล็ : [(1, 'ป'), (2, 'ล')] []\n",
      "(3, 'ะ') [(0, 'แ'), (3, 'ะ')]\n",
      "แปละ : [(1, 'ป'), (2, 'ล')] []\n",
      "(3, '็') [(0, 'แ'), (3, '็')]\n",
      "แปล็ : [(1, 'ป'), (2, 'ล')] []\n",
      "(3, 'ะ') [(0, 'โ'), (3, 'ะ')]\n",
      "โปละ : [(1, 'ป'), (2, 'ล')] []\n",
      "(3, 'ิ') [(0, 'เ'), (3, 'ิ')]\n",
      "เปลิ : [(1, 'ป'), (2, 'ล')] []\n",
      "(3, 'อ') [(2, 'ื'), (3, 'อ')]\n",
      "ปลือ : [(0, 'ป'), (1, 'ล')] []\n",
      "(3, 'ว') [(2, 'ั'), (3, 'ว')]\n",
      "ปลัว : [(0, 'ป'), (1, 'ล')] []\n",
      "(3, 'อ') [(2, '็'), (3, 'อ')]\n",
      "ปล็อ : [(0, 'ป'), (1, 'ล')] []\n",
      "(3, 'อ') [(0, 'เ'), (3, 'อ')]\n",
      "เปลอ : [(1, 'ป'), (2, 'ล')] []\n",
      "(2, 'ะ') [(2, 'ะ')]\n",
      "ปละ : [(0, 'ป'), (1, 'ล')] []\n",
      "(2, 'ั') [(2, 'ั')]\n",
      "ปลั : [(0, 'ป'), (1, 'ล')] []\n",
      "(2, 'ำ') [(2, 'ำ')]\n",
      "ปลำ : [(0, 'ป'), (1, 'ล')] []\n",
      "(2, 'า') [(2, 'า')]\n",
      "ปลา : [(0, 'ป'), (1, 'ล')] []\n",
      "(2, 'ิ') [(2, 'ิ')]\n",
      "ปลิ : [(0, 'ป'), (1, 'ล')] []\n",
      "(2, 'ี') [(2, 'ี')]\n",
      "ปลี : [(0, 'ป'), (1, 'ล')] []\n",
      "(2, 'ึ') [(2, 'ึ')]\n",
      "ปลึ : [(0, 'ป'), (1, 'ล')] []\n",
      "(2, 'ื') [(2, 'ื')]\n",
      "ปลื : [(0, 'ป'), (1, 'ล')] []\n",
      "(2, 'ุ') [(2, 'ุ')]\n",
      "ปลุ : [(0, 'ป'), (1, 'ล')] []\n",
      "(2, 'ู') [(2, 'ู')]\n",
      "ปลู : [(0, 'ป'), (1, 'ล')] []\n",
      "(2, '็') [(2, '็')]\n",
      "ปล็ : [(0, 'ป'), (1, 'ล')] []\n",
      "(2, 'ว') [(2, 'ว')]\n",
      "ปลว : [(0, 'ป'), (1, 'ล')] []\n",
      "(2, 'อ') [(2, 'อ')]\n",
      "ปลอ : [(0, 'ป'), (1, 'ล')] []\n",
      "(2, 'ล') [(0, 'ใ')]\n",
      "ใปล : [(1, 'ป'), (2, 'ล')] []\n",
      "(2, 'ล') [(0, 'ไ')]\n",
      "ไปล : [(1, 'ป'), (2, 'ล')] []\n",
      "(2, 'ล') [(0, 'เ')]\n",
      "เปล : [(1, 'ป'), (2, 'ล')] []\n",
      "(2, 'ล') [(0, 'แ')]\n",
      "แปล : [(1, 'ป'), (2, 'ล')] []\n",
      "(2, 'ล') [(0, 'โ')]\n",
      "โปล : [(1, 'ป'), (2, 'ล')] []\n",
      "(1, 'ล') []\n",
      "ปล : [(0, 'ป'), (1, 'ล')] []\n",
      "(4, 'ย') [(0, 'เ'), (3, 'ี'), (4, 'ย'), (5, 'ะ')]\n",
      "เกงียะ : [(1, 'ก'), (2, 'ง')] []\n",
      "(4, 'อ') [(0, 'เ'), (3, 'ื'), (4, 'อ'), (5, 'ะ')]\n",
      "เกงือะ : [(1, 'ก'), (2, 'ง')] []\n",
      "(4, 'ะ') [(0, 'เ'), (3, 'า'), (4, 'ะ')]\n",
      "เกงาะ : [(1, 'ก'), (2, 'ง')] []\n",
      "(4, 'ย') [(0, 'เ'), (3, 'ี'), (4, 'ย')]\n",
      "เกงีย : [(1, 'ก'), (2, 'ง')] []\n",
      "(4, 'อ') [(0, 'เ'), (3, 'ื'), (4, 'อ')]\n",
      "เกงือ : [(1, 'ก'), (2, 'ง')] []\n",
      "(3, 'ว') [(2, 'ั'), (3, 'ว'), (4, 'ะ')]\n",
      "กงัวะ : [(0, 'ก'), (1, 'ง')] []\n",
      "(3, 'อ') [(0, 'เ'), (3, 'อ'), (4, 'ะ')]\n",
      "เกงอะ : [(1, 'ก'), (2, 'ง')] []\n",
      "(3, 'า') [(0, 'เ'), (3, 'า')]\n",
      "เกงา : [(1, 'ก'), (2, 'ง')] []\n",
      "(3, 'ะ') [(0, 'เ'), (3, 'ะ')]\n",
      "เกงะ : [(1, 'ก'), (2, 'ง')] []\n",
      "(3, '็') [(0, 'เ'), (3, '็')]\n",
      "เกง็ : [(1, 'ก'), (2, 'ง')] []\n",
      "(3, 'ะ') [(0, 'แ'), (3, 'ะ')]\n",
      "แกงะ : [(1, 'ก'), (2, 'ง')] []\n",
      "(3, '็') [(0, 'แ'), (3, '็')]\n",
      "แกง็ : [(1, 'ก'), (2, 'ง')] []\n",
      "(3, 'ะ') [(0, 'โ'), (3, 'ะ')]\n",
      "โกงะ : [(1, 'ก'), (2, 'ง')] []\n",
      "(3, 'ิ') [(0, 'เ'), (3, 'ิ')]\n",
      "เกงิ : [(1, 'ก'), (2, 'ง')] []\n",
      "(3, 'อ') [(2, 'ื'), (3, 'อ')]\n",
      "กงือ : [(0, 'ก'), (1, 'ง')] []\n",
      "(3, 'ว') [(2, 'ั'), (3, 'ว')]\n",
      "กงัว : [(0, 'ก'), (1, 'ง')] []\n",
      "(3, 'อ') [(2, '็'), (3, 'อ')]\n",
      "กง็อ : [(0, 'ก'), (1, 'ง')] []\n",
      "(3, 'อ') [(0, 'เ'), (3, 'อ')]\n",
      "เกงอ : [(1, 'ก'), (2, 'ง')] []\n",
      "(2, 'ะ') [(2, 'ะ')]\n",
      "กงะ : [(0, 'ก'), (1, 'ง')] []\n",
      "(2, 'ั') [(2, 'ั')]\n",
      "กงั : [(0, 'ก'), (1, 'ง')] []\n",
      "(2, 'ำ') [(2, 'ำ')]\n",
      "กงำ : [(0, 'ก'), (1, 'ง')] []\n",
      "(2, 'า') [(2, 'า')]\n",
      "กงา : [(0, 'ก'), (1, 'ง')] []\n",
      "(2, 'ิ') [(2, 'ิ')]\n",
      "กงิ : [(0, 'ก'), (1, 'ง')] []\n",
      "(2, 'ี') [(2, 'ี')]\n",
      "กงี : [(0, 'ก'), (1, 'ง')] []\n",
      "(2, 'ึ') [(2, 'ึ')]\n",
      "กงึ : [(0, 'ก'), (1, 'ง')] []\n",
      "(2, 'ื') [(2, 'ื')]\n",
      "กงื : [(0, 'ก'), (1, 'ง')] []\n",
      "(2, 'ุ') [(2, 'ุ')]\n",
      "กงุ : [(0, 'ก'), (1, 'ง')] []\n",
      "(2, 'ู') [(2, 'ู')]\n",
      "กงู : [(0, 'ก'), (1, 'ง')] []\n",
      "(2, '็') [(2, '็')]\n",
      "กง็ : [(0, 'ก'), (1, 'ง')] []\n",
      "(2, 'ว') [(2, 'ว')]\n",
      "กงว : [(0, 'ก'), (1, 'ง')] []\n",
      "(2, 'อ') [(2, 'อ')]\n",
      "กงอ : [(0, 'ก'), (1, 'ง')] []\n",
      "(1, 'ก') [(0, 'ใ')]\n",
      "ใกง : [(1, 'ก')] [(2, 'ง')]\n",
      "(1, 'ก') [(0, 'ไ')]\n",
      "ไกง : [(1, 'ก')] [(2, 'ง')]\n",
      "(1, 'ก') [(0, 'เ')]\n",
      "เกง : [(1, 'ก')] [(2, 'ง')]\n",
      "(1, 'ก') [(0, 'แ')]\n",
      "แกง : [(1, 'ก')] [(2, 'ง')]\n",
      "(1, 'ก') [(0, 'โ')]\n",
      "โกง : [(1, 'ก')] [(2, 'ง')]\n",
      "(0, 'ก') []\n",
      "กง : [(0, 'ก')] [(1, 'ง')]\n"
     ]
    }
   ],
   "source": [
    "for a in get_vowel_form('ปล'):\n",
    "    ch=ThaiSubWord(a)\n",
    "    print(ch._con_split,ch.vowel_form_tup)\n",
    "    print(a ,':',ch._init_con_tup,ch._final_con_tup)\n",
    "for a in get_vowel_form('กง'):\n",
    "    ch=ThaiSubWord(a)\n",
    "    print(ch._con_split,ch.vowel_form_tup)\n",
    "    print(a ,':',ch._init_con_tup,ch._final_con_tup)"
   ]
  },
  {
   "cell_type": "code",
   "execution_count": 122,
   "metadata": {},
   "outputs": [
    {
     "ename": "NameError",
     "evalue": "name 'vowel_list' is not defined",
     "output_type": "error",
     "traceback": [
      "\u001b[0;31m---------------------------------------------------------------------------\u001b[0m",
      "\u001b[0;31mNameError\u001b[0m                                 Traceback (most recent call last)",
      "\u001b[0;32m<ipython-input-122-82c9a8f7c2e6>\u001b[0m in \u001b[0;36m<module>\u001b[0;34m\u001b[0m\n\u001b[1;32m      1\u001b[0m \u001b[0mdf_vowel_form\u001b[0m\u001b[0;34m.\u001b[0m\u001b[0mvalues\u001b[0m\u001b[0;34m\u001b[0m\u001b[0;34m\u001b[0m\u001b[0m\n\u001b[0;32m----> 2\u001b[0;31m \u001b[0mvowel_list\u001b[0m\u001b[0;34m\u001b[0m\u001b[0;34m\u001b[0m\u001b[0m\n\u001b[0m",
      "\u001b[0;31mNameError\u001b[0m: name 'vowel_list' is not defined"
     ]
    }
   ],
   "source": [
    "df_vowel_form.values\n",
    "vowel_list"
   ]
  },
  {
   "cell_type": "code",
   "execution_count": 93,
   "metadata": {},
   "outputs": [
    {
     "data": {
      "text/plain": [
       "('เ', 'ย', 'ีย', 'ว')"
      ]
     },
     "execution_count": 93,
     "metadata": {},
     "output_type": "execute_result"
    }
   ],
   "source": [
    "a._ex"
   ]
  },
  {
   "cell_type": "code",
   "execution_count": 130,
   "metadata": {},
   "outputs": [
    {
     "data": {
      "text/plain": [
       "array(['-ะ', '-ั', '-ำ', 'ใ-', 'ไ-', 'ใ-ย', 'เ-า', '-า', ' -ิ', '-ี',\n",
       "       '-ึ', '-ื', '-ือ', '-ุ', '-ู', 'เ-ะ', 'เ-็', 'เ-', 'แ-ะ', 'แ-็',\n",
       "       'แ-', 'เ-ียะ', 'เ-ีย', 'เ-ือะ', 'เ-ือ', '-ัวะ', '-ัว', '-ว', 'โ-ะ',\n",
       "       'โ-', 'เ-าะ', '-็อ', '-็', '-อ', 'เ-อะ', 'เ-ิ', 'เ-อ'],\n",
       "      dtype=object)"
      ]
     },
     "execution_count": 130,
     "metadata": {},
     "output_type": "execute_result"
    }
   ],
   "source": [
    "df_vowel_form['รูปสระ'].str.replace(\n",
    "        '\\xa0', '').values"
   ]
  },
  {
   "cell_type": "code",
   "execution_count": 145,
   "metadata": {},
   "outputs": [
    {
     "data": {
      "text/plain": [
       "[3, 2, 4, 1]"
      ]
     },
     "execution_count": 145,
     "metadata": {},
     "output_type": "execute_result"
    }
   ],
   "source": [
    "a=[1,2,3,2,4,1]\n",
    "b=[1,2]\n",
    "c=a.copy()\n",
    "for d in b:\n",
    "    c.remove(d)\n",
    "c"
   ]
  },
  {
   "cell_type": "code",
   "execution_count": 146,
   "metadata": {},
   "outputs": [
    {
     "data": {
      "text/plain": [
       "[1, 2, 3, 2, 4, 1]"
      ]
     },
     "execution_count": 146,
     "metadata": {},
     "output_type": "execute_result"
    }
   ],
   "source": [
    "a"
   ]
  },
  {
   "cell_type": "code",
   "execution_count": 43,
   "metadata": {},
   "outputs": [],
   "source": [
    "from kampuan.const import df_vowel_form"
   ]
  },
  {
   "cell_type": "code",
   "execution_count": null,
   "metadata": {},
   "outputs": [],
   "source": []
  },
  {
   "cell_type": "code",
   "execution_count": null,
   "metadata": {},
   "outputs": [],
   "source": []
  },
  {
   "cell_type": "code",
   "execution_count": 44,
   "metadata": {},
   "outputs": [
    {
     "data": {
      "text/html": [
       "<div>\n",
       "<style scoped>\n",
       "    .dataframe tbody tr th:only-of-type {\n",
       "        vertical-align: middle;\n",
       "    }\n",
       "\n",
       "    .dataframe tbody tr th {\n",
       "        vertical-align: top;\n",
       "    }\n",
       "\n",
       "    .dataframe thead th {\n",
       "        text-align: right;\n",
       "    }\n",
       "</style>\n",
       "<table border=\"1\" class=\"dataframe\">\n",
       "  <thead>\n",
       "    <tr style=\"text-align: right;\">\n",
       "      <th></th>\n",
       "      <th>รูปสระ</th>\n",
       "    </tr>\n",
       "  </thead>\n",
       "  <tbody>\n",
       "    <tr>\n",
       "      <th>0</th>\n",
       "      <td>-ะ</td>\n",
       "    </tr>\n",
       "    <tr>\n",
       "      <th>1</th>\n",
       "      <td>-ั</td>\n",
       "    </tr>\n",
       "    <tr>\n",
       "      <th>2</th>\n",
       "      <td>-ำ</td>\n",
       "    </tr>\n",
       "    <tr>\n",
       "      <th>3</th>\n",
       "      <td>ใ-</td>\n",
       "    </tr>\n",
       "    <tr>\n",
       "      <th>4</th>\n",
       "      <td>ไ-</td>\n",
       "    </tr>\n",
       "    <tr>\n",
       "      <th>5</th>\n",
       "      <td>ใ-ย</td>\n",
       "    </tr>\n",
       "    <tr>\n",
       "      <th>6</th>\n",
       "      <td>เ-า</td>\n",
       "    </tr>\n",
       "    <tr>\n",
       "      <th>7</th>\n",
       "      <td>-า</td>\n",
       "    </tr>\n",
       "    <tr>\n",
       "      <th>8</th>\n",
       "      <td>-ิ</td>\n",
       "    </tr>\n",
       "    <tr>\n",
       "      <th>9</th>\n",
       "      <td>-ี</td>\n",
       "    </tr>\n",
       "    <tr>\n",
       "      <th>10</th>\n",
       "      <td>-ึ</td>\n",
       "    </tr>\n",
       "    <tr>\n",
       "      <th>11</th>\n",
       "      <td>-ื</td>\n",
       "    </tr>\n",
       "    <tr>\n",
       "      <th>12</th>\n",
       "      <td>-ือ</td>\n",
       "    </tr>\n",
       "    <tr>\n",
       "      <th>13</th>\n",
       "      <td>-ุ</td>\n",
       "    </tr>\n",
       "    <tr>\n",
       "      <th>14</th>\n",
       "      <td>-ู</td>\n",
       "    </tr>\n",
       "    <tr>\n",
       "      <th>15</th>\n",
       "      <td>เ-ะ</td>\n",
       "    </tr>\n",
       "    <tr>\n",
       "      <th>16</th>\n",
       "      <td>เ-็</td>\n",
       "    </tr>\n",
       "    <tr>\n",
       "      <th>17</th>\n",
       "      <td>เ-</td>\n",
       "    </tr>\n",
       "    <tr>\n",
       "      <th>18</th>\n",
       "      <td>แ-ะ</td>\n",
       "    </tr>\n",
       "    <tr>\n",
       "      <th>19</th>\n",
       "      <td>แ-็</td>\n",
       "    </tr>\n",
       "    <tr>\n",
       "      <th>20</th>\n",
       "      <td>แ-</td>\n",
       "    </tr>\n",
       "    <tr>\n",
       "      <th>21</th>\n",
       "      <td>เ-ียะ</td>\n",
       "    </tr>\n",
       "    <tr>\n",
       "      <th>22</th>\n",
       "      <td>เ-ีย</td>\n",
       "    </tr>\n",
       "    <tr>\n",
       "      <th>23</th>\n",
       "      <td>เ-ือะ</td>\n",
       "    </tr>\n",
       "    <tr>\n",
       "      <th>24</th>\n",
       "      <td>เ-ือ</td>\n",
       "    </tr>\n",
       "    <tr>\n",
       "      <th>25</th>\n",
       "      <td>-ัวะ</td>\n",
       "    </tr>\n",
       "    <tr>\n",
       "      <th>26</th>\n",
       "      <td>-ัว</td>\n",
       "    </tr>\n",
       "    <tr>\n",
       "      <th>27</th>\n",
       "      <td>-ว</td>\n",
       "    </tr>\n",
       "    <tr>\n",
       "      <th>28</th>\n",
       "      <td>โ-ะ</td>\n",
       "    </tr>\n",
       "    <tr>\n",
       "      <th>29</th>\n",
       "      <td>โ-</td>\n",
       "    </tr>\n",
       "    <tr>\n",
       "      <th>30</th>\n",
       "      <td>เ-าะ</td>\n",
       "    </tr>\n",
       "    <tr>\n",
       "      <th>31</th>\n",
       "      <td>-็อ</td>\n",
       "    </tr>\n",
       "    <tr>\n",
       "      <th>32</th>\n",
       "      <td>-็</td>\n",
       "    </tr>\n",
       "    <tr>\n",
       "      <th>33</th>\n",
       "      <td>-อ</td>\n",
       "    </tr>\n",
       "    <tr>\n",
       "      <th>34</th>\n",
       "      <td>เ-อะ</td>\n",
       "    </tr>\n",
       "    <tr>\n",
       "      <th>35</th>\n",
       "      <td>เ-ิ</td>\n",
       "    </tr>\n",
       "    <tr>\n",
       "      <th>36</th>\n",
       "      <td>เ-อ</td>\n",
       "    </tr>\n",
       "  </tbody>\n",
       "</table>\n",
       "</div>"
      ],
      "text/plain": [
       "    รูปสระ\n",
       "0       -ะ\n",
       "1       -ั\n",
       "2       -ำ\n",
       "3       ใ-\n",
       "4       ไ-\n",
       "5      ใ-ย\n",
       "6      เ-า\n",
       "7       -า\n",
       "8       -ิ\n",
       "9       -ี\n",
       "10      -ึ\n",
       "11      -ื\n",
       "12     -ือ\n",
       "13      -ุ\n",
       "14      -ู\n",
       "15     เ-ะ\n",
       "16     เ-็\n",
       "17      เ-\n",
       "18     แ-ะ\n",
       "19     แ-็\n",
       "20      แ-\n",
       "21   เ-ียะ\n",
       "22    เ-ีย\n",
       "23   เ-ือะ\n",
       "24    เ-ือ\n",
       "25    -ัวะ\n",
       "26     -ัว\n",
       "27      -ว\n",
       "28     โ-ะ\n",
       "29      โ-\n",
       "30    เ-าะ\n",
       "31     -็อ\n",
       "32      -็\n",
       "33      -อ\n",
       "34    เ-อะ\n",
       "35     เ-ิ\n",
       "36     เ-อ"
      ]
     },
     "execution_count": 44,
     "metadata": {},
     "output_type": "execute_result"
    }
   ],
   "source": [
    "df_vowel_form"
   ]
  },
  {
   "cell_type": "markdown",
   "metadata": {},
   "source": [
    "http://www.thai-language.com/ref/tone-rules"
   ]
  },
  {
   "cell_type": "markdown",
   "metadata": {},
   "source": [
    "# Tien's"
   ]
  },
  {
   "cell_type": "code",
   "execution_count": 9,
   "metadata": {},
   "outputs": [],
   "source": [
    "from kampuan.util.extract import thai_subwords"
   ]
  },
  {
   "cell_type": "code",
   "execution_count": 25,
   "metadata": {},
   "outputs": [
    {
     "data": {
      "text/plain": [
       "'หว'"
      ]
     },
     "execution_count": 25,
     "metadata": {},
     "output_type": "execute_result"
    }
   ],
   "source": [
    "x=[thai_subwords(orig_word=syll) for syll in kp.puan_kam(phrase)]\n",
    "x[0].start\n",
    "\n"
   ]
  },
  {
   "cell_type": "code",
   "execution_count": null,
   "metadata": {},
   "outputs": [],
   "source": [
    "class thai_match_pattern():\n",
    "    def __init__(self, start_regex, vowel_regex, end_regex, sound_regex):\n",
    "        self.start_regex = start_regex\n",
    "        self.vowel_regex = vowel_regex\n",
    "        self.end_regex = end_regex\n",
    "        self.sound_regex = sound_regex\n",
    "        \n",
    "    def match_start(self, orig_word):        \n",
    "        matches = re.findall(self.start_regex, orig_word, re.DOTALL)\n",
    "        return matches\n",
    "    "
   ]
  },
  {
   "cell_type": "code",
   "execution_count": null,
   "metadata": {},
   "outputs": [],
   "source": [
    "#Reference https://www.geeksforgeeks.org/longest-common-substring-dp-29/\n",
    "# Returns length of longest common  \n",
    "# substring of X[0..m-1] and Y[0..n-1]  \n",
    "def LCSubStr(X, Y, m, n): \n",
    "      \n",
    "    # Create a table to store lengths of \n",
    "    # longest common suffixes of substrings.  \n",
    "    # Note that LCSuff[i][j] contains the  \n",
    "    # length of longest common suffix of  \n",
    "    # X[0...i-1] and Y[0...j-1]. The first \n",
    "    # row and first column entries have no \n",
    "    # logical meaning, they are used only \n",
    "    # for simplicity of the program. \n",
    "      \n",
    "    # LCSuff is the table with zero  \n",
    "    # value initially in each cell \n",
    "    LCSuff = [[0 for k in range(n+1)] for l in range(m+1)] \n",
    "      \n",
    "    # To store the length of  \n",
    "    # longest common substring \n",
    "    result = 0 \n",
    "  \n",
    "    # Following steps to build \n",
    "    # LCSuff[m+1][n+1] in bottom up fashion \n",
    "    for i in range(m + 1): \n",
    "        for j in range(n + 1): \n",
    "            if (i == 0 or j == 0): \n",
    "                LCSuff[i][j] = 0\n",
    "            elif (X[i-1] == Y[j-1]): \n",
    "                LCSuff[i][j] = LCSuff[i-1][j-1] + 1\n",
    "                result = max(result, LCSuff[i][j]) \n",
    "            else: \n",
    "                LCSuff[i][j] = 0\n",
    "    return result "
   ]
  },
  {
   "cell_type": "code",
   "execution_count": 34,
   "metadata": {},
   "outputs": [],
   "source": [
    "import re\n",
    "class thai_subwords():\n",
    "    \"\"\"Design to take input as single Thai token or word and extract start, vowel, end and sound of said token\n",
    "    For additional data regarding different Thai words types and pronunciations, \n",
    "    consult:https://sites.google.com/site/phasathaionline/hnwy-kar-reiyn-ru2/phyaychnatn\"\"\"\n",
    "    def __init__(self, orig_word, debug=False):\n",
    "        self.orig_word = orig_word #Try not to change this value\n",
    "        self._start = ''\n",
    "        self._vowel = ''\n",
    "        self._end = ''\n",
    "        self._sound = ''\n",
    "        self._double_start_sound = False #used to flag with that has two starting alphabets with sound like 'ตลาด = ตะ ลาด'\n",
    "        self._high_lead_low = False #case อักษรสูงนำอักษรต่ำ\n",
    "        self.debug = debug\n",
    "        \n",
    "        #Need to deal with negative lookahead case for word like \"เกรียน\" to correctly extract กร\n",
    "        self.vowels_form = ['ะ', ' ั' ' ็', 'า', ' ิ' , ' ่' , \" ่\" , ' ํ', ' ุ', ' ู', 'เ', 'ใ', 'ไ', 'โ', 'อ', 'ย', 'ว', 'ฤ', 'ฤๅ', 'ฦ', 'ฦๅ']\n",
    "        combine_vowel_regex_1 = '(?!เ.{1,4}ี.*ย)(?!เ.{1,4}ี.*ยะ)(?!เ.{1,4}ื.*อ)(?!เ.{1,4}ื.*อะ)(?!เ.{1,4}.*อะ)(?!เ.{1,4}.*อ)(?!เ.{1,4}.*าะ)'\n",
    "        combine_vowel_regex_2 = '(?!เ.{1,4}.*า)(?!แ.{1,4}.*า)(?!.{1,4}ัวะ)(?!โ.{1,4}.*ะ)'\n",
    "        combine_vowel_regex = combine_vowel_regex_1 + combine_vowel_regex_2\n",
    "        self.start_regex_1 = ['(.{1,4})ะ','(.{1,4})า', '(.{1,4})ิ.*', '(.{1,4})ี.*', '(.{1,4})ึ', '(.{1,4})ื.*', '(.{1,4})ุ.*', '(.{1,4})ู.*', 'เ(.{1,4})็', \n",
    "                            'เ(.{1,4}).*', '(.{1,4}).*อ','แ(.{1,4}).*', '(.{1,4})ั.*', 'โ(.{1,4}).*', '(.{1,4}).*ำ', 'ใ(.{1,4}).*', 'ไ(.{1,4})']\n",
    "        self.start_regex_1  = [combine_vowel_regex+regex for regex in self.start_regex_1]\n",
    "        self.start_regex_2 = ['เ(.{1,4})ี.*ยะ', 'เ(.{1,4})ี.*ย', 'เ(.{1,4})ื.*อะ', 'เ(.{1,4})ื.*อ', 'เ(.{1,4}).*อ', 'เ(.{1,4}).*อะ',\n",
    "                              'เ(.{1,4}).*า',\n",
    "                              'เ(.{1,4}).*าะ','แ(.{1,4}).*ะ','(.{1,4})ัวะ','โ(.{1,4}).*ะ', 'เ(.{1,4})็', 'เ(.{1,4})ิ.*']\n",
    "        self.end_regex_1 = ['\\[REP\\]า(.{1,4})', '\\[REP\\]ิ(.{1,4})', '\\[REP\\]ี(.{1,4})', '\\[REP\\]ึ(.{1,4})', '\\[REP\\]ือ(.{1,4})', \n",
    "                            '\\[REP\\]ุ(.{1,4})', '\\[REP\\]ู(.{1,4})', 'เ\\[REP\\]็(.{1,4})', 'เ\\[REP\\](.{1,4})', '\\[REP\\]อ(.{1,4})',\n",
    "                            'แ\\[REP\\](.{1,4})', '\\[REP\\]ั(.{1,4})', 'โ\\[REP\\](.{1,4})','\\[REP\\]ำ(.{1,4})', 'ใ\\[REP\\](.{1,4})', \n",
    "                            'ไ\\[REP\\](.{1,4})']\n",
    "        self.end_regex_2 = ['เ\\[REP\\]ีย(.{1,4})', 'เ\\[REP\\]ือ(.{1,4})', 'เ\\[REP\\]อ(.{1,4})', 'เ\\[REP\\]อะ(.{1,4})','เ\\[REP\\]า(.{1,4})']\n",
    "        \n",
    "        self.start_regex  = self.start_regex_1 + self.start_regex_2 \n",
    "        self.end_regex  = self.end_regex_1 + self.end_regex_2 \n",
    "        #self.vowel_regex = vowel_regex\n",
    "        #self.end_regex = end_regex\n",
    "        self.sound_regex = ['(่)', '(้)', '.(๊)','()๋']\n",
    "        \n",
    "        #initialize the special character cases\n",
    "        #คำควบแท้\n",
    "        self.two_char_combine = ['กร','กล', 'กว', 'คร', 'ขร', 'คล', 'ขล','คว', 'ขว', 'ตร', 'ปร', 'ปล', 'พร', 'พล' ,'ผล',\n",
    "                   'บร','บล','ดร','ฟร','ฟล','ทร','จร','ซร','ปร','สร']\n",
    "        #คำนำ\n",
    "        self.lead_char_nosound = ['อย','หง','หญ','หน','หม','หย', 'หร','หล','หว']\n",
    "        #อักษรสูงนำอักษรต่ำ\n",
    "        self._lead_char_high_low = ['ขน', 'ขม','สม','สย','สน','ขย','ฝร','ถล','ผว','ตน','จม','ตล',]\n",
    "        #อักษรสูงนำอักษรกลาง\n",
    "        self._high_char_high_medium = ['ผท','ผด','ผก','ผอ','ผช']\n",
    "        \n",
    "        \n",
    "    # using property decorator \n",
    "    @property\n",
    "    def start(self): \n",
    "        #print(\"getter method called\") \n",
    "        temp_start = self.match_pattern(self.orig_word, self.start_regex)\n",
    "        if len(temp_start)==1: return temp_start\n",
    "        else: \n",
    "            return self.check_double_start_alphabets(temp_start)\n",
    "        #return self.match_pattern(self.orig_word, self.start_regex)\n",
    "    \n",
    "    @property\n",
    "    def sound(self):\n",
    "        if self.match_pattern(self.orig_word, self.sound_regex) is None: return ''\n",
    "        return self.match_pattern(self.orig_word, self.sound_regex)\n",
    "    \n",
    "    @property\n",
    "    def vowel(self):\n",
    "        return self.orig_word.replace(self.sound,'').replace(self.start,'[REP]',1) #[REP] will be used for conversion to Lu/Ru\n",
    "#     def vowel(self):\n",
    "#         return self.orig_word.replace(self.sound,'').replace(self.end,'').replace(self.start,'[REP]',1) #[REP] will be used for conversion to Lu/Ru\n",
    "    \n",
    "    @property #might not need this one in final application as we need vowel\n",
    "    def end(self):\n",
    "        if self.match_pattern(self.vowel, self.end_regex) not in self.vowels_form: \n",
    "            return self.match_pattern(self.vowel, self.end_regex)\n",
    "        else:\n",
    "            return None\n",
    "\n",
    "#     # a setter function \n",
    "#     @start.setter \n",
    "#     def start(self): \n",
    "#         print(\"setter method called\") \n",
    "#         self._start = match_pattern(self.start_regex)\n",
    "    \n",
    "    def match_pattern(self, text, regex_pattern):\n",
    "        output_start = None\n",
    "        if self.debug: print(text)\n",
    "        for pattern in regex_pattern:\n",
    "            matches = re.search(pattern, text, re.DOTALL)\n",
    "            \n",
    "            if matches is not None and self.debug: print(pattern, matches.group(1))\n",
    "            if matches is not None: output_start = matches.group(1)\n",
    "        return output_start\n",
    "    \n",
    "    def check_double_start_alphabets(self, text):\n",
    "        '''Use to check in case starting alphabet is longer than one, \n",
    "        ref:https://sites.google.com/site/phasathaionline/hnwy-kar-reiyn-ru2/phyaychnatn'''\n",
    "        #Function that check word in case like ขนม and else \n",
    "        \n",
    "        two_char = self.lead_char_nosound + self.two_char_combine\n",
    "        \n",
    "        max_lcs = 0\n",
    "        if text in two_char: return text\n",
    "        else:\n",
    "            for char in two_char:\n",
    "                if LCSubStr(text, char, len(text), len(char)) > max_lcs: \n",
    "                    max_lcs = LCSubStr(text, char, len(text), len(char))\n",
    "                    max_lcs_char = char\n",
    "            return max_lcs_char\n",
    "        \n",
    "        return None\n",
    "    \n",
    "    def check_double_start_sound(self, text):\n",
    "        '''Use to address the case where start alphabets are double and need to split to reflect actual pronunciation \n",
    "        ref:https://sites.google.com/site/phasathaionline/hnwy-kar-reiyn-ru2/phyaychnatn'''\n",
    "        #Function that check word in case like ขนม and else \n",
    "        \n",
    "        \n",
    "        return None\n",
    "    \n",
    "    def remove_karan(self, regex_pattern):\n",
    "        return None\n",
    "        #Write specific function for removing ์"
   ]
  }
 ],
 "metadata": {
  "kernelspec": {
   "display_name": "chat bot",
   "language": "python",
   "name": "chatbot"
  },
  "language_info": {
   "codemirror_mode": {
    "name": "ipython",
    "version": 3
   },
   "file_extension": ".py",
   "mimetype": "text/x-python",
   "name": "python",
   "nbconvert_exporter": "python",
   "pygments_lexer": "ipython3",
   "version": "3.8.5"
  }
 },
 "nbformat": 4,
 "nbformat_minor": 4
}
