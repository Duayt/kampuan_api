{
 "cells": [
  {
   "cell_type": "code",
   "execution_count": 1,
   "metadata": {},
   "outputs": [],
   "source": [
    "%load_ext autoreload\n",
    "%autoreload 2"
   ]
  },
  {
   "cell_type": "code",
   "execution_count": 3,
   "metadata": {},
   "outputs": [
    {
     "data": {
      "text/plain": [
       "'Hello World!'"
      ]
     },
     "execution_count": 3,
     "metadata": {},
     "output_type": "execute_result"
    }
   ],
   "source": [
    "import kampuan as kp\n",
    "\n",
    "kp.test()"
   ]
  },
  {
   "cell_type": "code",
   "execution_count": 26,
   "metadata": {},
   "outputs": [
    {
     "data": {
      "text/plain": [
       "['สวัส', 'ดี']"
      ]
     },
     "execution_count": 26,
     "metadata": {},
     "output_type": "execute_result"
    }
   ],
   "source": [
    "\n",
    "phrase='สวัสดี'\n",
    "kp.tokenize(phrase)"
   ]
  },
  {
   "cell_type": "code",
   "execution_count": 27,
   "metadata": {},
   "outputs": [
    {
     "data": {
      "text/plain": [
       "['ตลาด']"
      ]
     },
     "execution_count": 27,
     "metadata": {},
     "output_type": "execute_result"
    }
   ],
   "source": [
    "kp.tokenize('ตลาด')"
   ]
  },
  {
   "cell_type": "markdown",
   "metadata": {},
   "source": [
    "* 2 word 2 syllabus case\n"
   ]
  },
  {
   "cell_type": "code",
   "execution_count": 33,
   "metadata": {},
   "outputs": [
    {
     "data": {
      "text/plain": [
       "[['กิน', 'ข้าว'], ['หิว', 'จัง'], ['คำ', 'ผวน'], ['นอน', 'แล้ว']]"
      ]
     },
     "execution_count": 33,
     "metadata": {},
     "output_type": "execute_result"
    }
   ],
   "source": [
    "case_1 ={'กินข้าว':'กาวขิ้น',\n",
    "         'หิวจัง':'หังจิว',\n",
    "        'คำผวน':'ควนผำ',\n",
    "        'นอนแล้ว':'แนวร้อน'}\n",
    "\n",
    "tmp=[kp.tokenize(key) for key in case_1.keys()]\n",
    "tmp\n",
    "\n",
    "# get "
   ]
  },
  {
   "cell_type": "code",
   "execution_count": 39,
   "metadata": {},
   "outputs": [
    {
     "data": {
      "text/plain": [
       "'[REP]ิน'"
      ]
     },
     "execution_count": 39,
     "metadata": {},
     "output_type": "execute_result"
    }
   ],
   "source": [
    "tmp=thai_subwords('กิน')\n",
    "\n",
    "tmp.vowel"
   ]
  },
  {
   "cell_type": "markdown",
   "metadata": {},
   "source": [
    "http://www.thai-language.com/ref/tone-rules"
   ]
  },
  {
   "cell_type": "markdown",
   "metadata": {},
   "source": [
    "# Tien's"
   ]
  },
  {
   "cell_type": "code",
   "execution_count": 9,
   "metadata": {},
   "outputs": [],
   "source": [
    "from kampuan.util.extract import thai_subwords"
   ]
  },
  {
   "cell_type": "code",
   "execution_count": 25,
   "metadata": {},
   "outputs": [
    {
     "data": {
      "text/plain": [
       "'หว'"
      ]
     },
     "execution_count": 25,
     "metadata": {},
     "output_type": "execute_result"
    }
   ],
   "source": [
    "x=[thai_subwords(orig_word=syll) for syll in kp.puan_kam(phrase)]\n",
    "x[0].start\n",
    "\n"
   ]
  },
  {
   "cell_type": "code",
   "execution_count": null,
   "metadata": {},
   "outputs": [],
   "source": [
    "class thai_match_pattern():\n",
    "    def __init__(self, start_regex, vowel_regex, end_regex, sound_regex):\n",
    "        self.start_regex = start_regex\n",
    "        self.vowel_regex = vowel_regex\n",
    "        self.end_regex = end_regex\n",
    "        self.sound_regex = sound_regex\n",
    "        \n",
    "    def match_start(self, orig_word):        \n",
    "        matches = re.findall(self.start_regex, orig_word, re.DOTALL)\n",
    "        return matches\n",
    "    "
   ]
  },
  {
   "cell_type": "code",
   "execution_count": null,
   "metadata": {},
   "outputs": [],
   "source": [
    "#Reference https://www.geeksforgeeks.org/longest-common-substring-dp-29/\n",
    "# Returns length of longest common  \n",
    "# substring of X[0..m-1] and Y[0..n-1]  \n",
    "def LCSubStr(X, Y, m, n): \n",
    "      \n",
    "    # Create a table to store lengths of \n",
    "    # longest common suffixes of substrings.  \n",
    "    # Note that LCSuff[i][j] contains the  \n",
    "    # length of longest common suffix of  \n",
    "    # X[0...i-1] and Y[0...j-1]. The first \n",
    "    # row and first column entries have no \n",
    "    # logical meaning, they are used only \n",
    "    # for simplicity of the program. \n",
    "      \n",
    "    # LCSuff is the table with zero  \n",
    "    # value initially in each cell \n",
    "    LCSuff = [[0 for k in range(n+1)] for l in range(m+1)] \n",
    "      \n",
    "    # To store the length of  \n",
    "    # longest common substring \n",
    "    result = 0 \n",
    "  \n",
    "    # Following steps to build \n",
    "    # LCSuff[m+1][n+1] in bottom up fashion \n",
    "    for i in range(m + 1): \n",
    "        for j in range(n + 1): \n",
    "            if (i == 0 or j == 0): \n",
    "                LCSuff[i][j] = 0\n",
    "            elif (X[i-1] == Y[j-1]): \n",
    "                LCSuff[i][j] = LCSuff[i-1][j-1] + 1\n",
    "                result = max(result, LCSuff[i][j]) \n",
    "            else: \n",
    "                LCSuff[i][j] = 0\n",
    "    return result "
   ]
  },
  {
   "cell_type": "code",
   "execution_count": 34,
   "metadata": {},
   "outputs": [],
   "source": [
    "import re\n",
    "class thai_subwords():\n",
    "    \"\"\"Design to take input as single Thai token or word and extract start, vowel, end and sound of said token\n",
    "    For additional data regarding different Thai words types and pronunciations, \n",
    "    consult:https://sites.google.com/site/phasathaionline/hnwy-kar-reiyn-ru2/phyaychnatn\"\"\"\n",
    "    def __init__(self, orig_word, debug=False):\n",
    "        self.orig_word = orig_word #Try not to change this value\n",
    "        self._start = ''\n",
    "        self._vowel = ''\n",
    "        self._end = ''\n",
    "        self._sound = ''\n",
    "        self._double_start_sound = False #used to flag with that has two starting alphabets with sound like 'ตลาด = ตะ ลาด'\n",
    "        self._high_lead_low = False #case อักษรสูงนำอักษรต่ำ\n",
    "        self.debug = debug\n",
    "        \n",
    "        #Need to deal with negative lookahead case for word like \"เกรียน\" to correctly extract กร\n",
    "        self.vowels_form = ['ะ', ' ั' ' ็', 'า', ' ิ' , ' ่' , \" ่\" , ' ํ', ' ุ', ' ู', 'เ', 'ใ', 'ไ', 'โ', 'อ', 'ย', 'ว', 'ฤ', 'ฤๅ', 'ฦ', 'ฦๅ']\n",
    "        combine_vowel_regex_1 = '(?!เ.{1,4}ี.*ย)(?!เ.{1,4}ี.*ยะ)(?!เ.{1,4}ื.*อ)(?!เ.{1,4}ื.*อะ)(?!เ.{1,4}.*อะ)(?!เ.{1,4}.*อ)(?!เ.{1,4}.*าะ)'\n",
    "        combine_vowel_regex_2 = '(?!เ.{1,4}.*า)(?!แ.{1,4}.*า)(?!.{1,4}ัวะ)(?!โ.{1,4}.*ะ)'\n",
    "        combine_vowel_regex = combine_vowel_regex_1 + combine_vowel_regex_2\n",
    "        self.start_regex_1 = ['(.{1,4})ะ','(.{1,4})า', '(.{1,4})ิ.*', '(.{1,4})ี.*', '(.{1,4})ึ', '(.{1,4})ื.*', '(.{1,4})ุ.*', '(.{1,4})ู.*', 'เ(.{1,4})็', \n",
    "                            'เ(.{1,4}).*', '(.{1,4}).*อ','แ(.{1,4}).*', '(.{1,4})ั.*', 'โ(.{1,4}).*', '(.{1,4}).*ำ', 'ใ(.{1,4}).*', 'ไ(.{1,4})']\n",
    "        self.start_regex_1  = [combine_vowel_regex+regex for regex in self.start_regex_1]\n",
    "        self.start_regex_2 = ['เ(.{1,4})ี.*ยะ', 'เ(.{1,4})ี.*ย', 'เ(.{1,4})ื.*อะ', 'เ(.{1,4})ื.*อ', 'เ(.{1,4}).*อ', 'เ(.{1,4}).*อะ',\n",
    "                              'เ(.{1,4}).*า',\n",
    "                              'เ(.{1,4}).*าะ','แ(.{1,4}).*ะ','(.{1,4})ัวะ','โ(.{1,4}).*ะ', 'เ(.{1,4})็', 'เ(.{1,4})ิ.*']\n",
    "        self.end_regex_1 = ['\\[REP\\]า(.{1,4})', '\\[REP\\]ิ(.{1,4})', '\\[REP\\]ี(.{1,4})', '\\[REP\\]ึ(.{1,4})', '\\[REP\\]ือ(.{1,4})', \n",
    "                            '\\[REP\\]ุ(.{1,4})', '\\[REP\\]ู(.{1,4})', 'เ\\[REP\\]็(.{1,4})', 'เ\\[REP\\](.{1,4})', '\\[REP\\]อ(.{1,4})',\n",
    "                            'แ\\[REP\\](.{1,4})', '\\[REP\\]ั(.{1,4})', 'โ\\[REP\\](.{1,4})','\\[REP\\]ำ(.{1,4})', 'ใ\\[REP\\](.{1,4})', \n",
    "                            'ไ\\[REP\\](.{1,4})']\n",
    "        self.end_regex_2 = ['เ\\[REP\\]ีย(.{1,4})', 'เ\\[REP\\]ือ(.{1,4})', 'เ\\[REP\\]อ(.{1,4})', 'เ\\[REP\\]อะ(.{1,4})','เ\\[REP\\]า(.{1,4})']\n",
    "        \n",
    "        self.start_regex  = self.start_regex_1 + self.start_regex_2 \n",
    "        self.end_regex  = self.end_regex_1 + self.end_regex_2 \n",
    "        #self.vowel_regex = vowel_regex\n",
    "        #self.end_regex = end_regex\n",
    "        self.sound_regex = ['(่)', '(้)', '.(๊)','()๋']\n",
    "        \n",
    "        #initialize the special character cases\n",
    "        #คำควบแท้\n",
    "        self.two_char_combine = ['กร','กล', 'กว', 'คร', 'ขร', 'คล', 'ขล','คว', 'ขว', 'ตร', 'ปร', 'ปล', 'พร', 'พล' ,'ผล',\n",
    "                   'บร','บล','ดร','ฟร','ฟล','ทร','จร','ซร','ปร','สร']\n",
    "        #คำนำ\n",
    "        self.lead_char_nosound = ['อย','หง','หญ','หน','หม','หย', 'หร','หล','หว']\n",
    "        #อักษรสูงนำอักษรต่ำ\n",
    "        self._lead_char_high_low = ['ขน', 'ขม','สม','สย','สน','ขย','ฝร','ถล','ผว','ตน','จม','ตล',]\n",
    "        #อักษรสูงนำอักษรกลาง\n",
    "        self._high_char_high_medium = ['ผท','ผด','ผก','ผอ','ผช']\n",
    "        \n",
    "        \n",
    "    # using property decorator \n",
    "    @property\n",
    "    def start(self): \n",
    "        #print(\"getter method called\") \n",
    "        temp_start = self.match_pattern(self.orig_word, self.start_regex)\n",
    "        if len(temp_start)==1: return temp_start\n",
    "        else: \n",
    "            return self.check_double_start_alphabets(temp_start)\n",
    "        #return self.match_pattern(self.orig_word, self.start_regex)\n",
    "    \n",
    "    @property\n",
    "    def sound(self):\n",
    "        if self.match_pattern(self.orig_word, self.sound_regex) is None: return ''\n",
    "        return self.match_pattern(self.orig_word, self.sound_regex)\n",
    "    \n",
    "    @property\n",
    "    def vowel(self):\n",
    "        return self.orig_word.replace(self.sound,'').replace(self.start,'[REP]',1) #[REP] will be used for conversion to Lu/Ru\n",
    "#     def vowel(self):\n",
    "#         return self.orig_word.replace(self.sound,'').replace(self.end,'').replace(self.start,'[REP]',1) #[REP] will be used for conversion to Lu/Ru\n",
    "    \n",
    "    @property #might not need this one in final application as we need vowel\n",
    "    def end(self):\n",
    "        if self.match_pattern(self.vowel, self.end_regex) not in self.vowels_form: \n",
    "            return self.match_pattern(self.vowel, self.end_regex)\n",
    "        else:\n",
    "            return None\n",
    "\n",
    "#     # a setter function \n",
    "#     @start.setter \n",
    "#     def start(self): \n",
    "#         print(\"setter method called\") \n",
    "#         self._start = match_pattern(self.start_regex)\n",
    "    \n",
    "    def match_pattern(self, text, regex_pattern):\n",
    "        output_start = None\n",
    "        if self.debug: print(text)\n",
    "        for pattern in regex_pattern:\n",
    "            matches = re.search(pattern, text, re.DOTALL)\n",
    "            \n",
    "            if matches is not None and self.debug: print(pattern, matches.group(1))\n",
    "            if matches is not None: output_start = matches.group(1)\n",
    "        return output_start\n",
    "    \n",
    "    def check_double_start_alphabets(self, text):\n",
    "        '''Use to check in case starting alphabet is longer than one, \n",
    "        ref:https://sites.google.com/site/phasathaionline/hnwy-kar-reiyn-ru2/phyaychnatn'''\n",
    "        #Function that check word in case like ขนม and else \n",
    "        \n",
    "        two_char = self.lead_char_nosound + self.two_char_combine\n",
    "        \n",
    "        max_lcs = 0\n",
    "        if text in two_char: return text\n",
    "        else:\n",
    "            for char in two_char:\n",
    "                if LCSubStr(text, char, len(text), len(char)) > max_lcs: \n",
    "                    max_lcs = LCSubStr(text, char, len(text), len(char))\n",
    "                    max_lcs_char = char\n",
    "            return max_lcs_char\n",
    "        \n",
    "        return None\n",
    "    \n",
    "    def check_double_start_sound(self, text):\n",
    "        '''Use to address the case where start alphabets are double and need to split to reflect actual pronunciation \n",
    "        ref:https://sites.google.com/site/phasathaionline/hnwy-kar-reiyn-ru2/phyaychnatn'''\n",
    "        #Function that check word in case like ขนม and else \n",
    "        \n",
    "        \n",
    "        return None\n",
    "    \n",
    "    def remove_karan(self, regex_pattern):\n",
    "        return None\n",
    "        #Write specific function for removing ์"
   ]
  }
 ],
 "metadata": {
  "kernelspec": {
   "display_name": "Chat bot ",
   "language": "python",
   "name": "chat_bot"
  },
  "language_info": {
   "codemirror_mode": {
    "name": "ipython",
    "version": 3
   },
   "file_extension": ".py",
   "mimetype": "text/x-python",
   "name": "python",
   "nbconvert_exporter": "python",
   "pygments_lexer": "ipython3",
   "version": "3.8.5"
  }
 },
 "nbformat": 4,
 "nbformat_minor": 4
}
