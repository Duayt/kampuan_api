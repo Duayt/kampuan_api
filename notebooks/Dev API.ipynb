{
 "cells": [
  {
   "cell_type": "code",
   "execution_count": 1,
   "metadata": {},
   "outputs": [],
   "source": [
    "%load_ext autoreload\n",
    "%autoreload 2"
   ]
  },
  {
   "cell_type": "code",
   "execution_count": 2,
   "metadata": {},
   "outputs": [
    {
     "data": {
      "text/plain": [
       "'Hello World!'"
      ]
     },
     "execution_count": 2,
     "metadata": {},
     "output_type": "execute_result"
    }
   ],
   "source": [
    "import kampuan as kp\n",
    "\n",
    "kp.test()"
   ]
  },
  {
   "cell_type": "code",
   "execution_count": null,
   "metadata": {},
   "outputs": [],
   "source": []
  },
  {
   "cell_type": "code",
   "execution_count": 3,
   "metadata": {},
   "outputs": [
    {
     "data": {
      "text/plain": [
       "['สวัส', 'ดี']"
      ]
     },
     "execution_count": 3,
     "metadata": {},
     "output_type": "execute_result"
    }
   ],
   "source": [
    "\n",
    "phrase='สวัสดี'\n",
    "kp.tokenize(phrase)"
   ]
  },
  {
   "cell_type": "code",
   "execution_count": 4,
   "metadata": {},
   "outputs": [
    {
     "data": {
      "text/plain": [
       "['ตลาด']"
      ]
     },
     "execution_count": 4,
     "metadata": {},
     "output_type": "execute_result"
    }
   ],
   "source": [
    "kp.tokenize('ตลาด')"
   ]
  },
  {
   "cell_type": "markdown",
   "metadata": {},
   "source": [
    "* 2 word 2 syllabus case\n"
   ]
  },
  {
   "cell_type": "code",
   "execution_count": 5,
   "metadata": {},
   "outputs": [
    {
     "data": {
      "text/plain": [
       "[['กิน', 'ข้าว'],\n",
       " ['หิว', 'จัง'],\n",
       " ['คำ', 'ผวน'],\n",
       " ['นอน', 'แล้ว'],\n",
       " ['ตะ', 'ปู'],\n",
       " ['นัก', 'เรียน'],\n",
       " ['ขนม']]"
      ]
     },
     "execution_count": 5,
     "metadata": {},
     "output_type": "execute_result"
    }
   ],
   "source": [
    "case_1 ={'กินข้าว':'กาวขิ้น',\n",
    "         'หิวจัง':'หังจิว',\n",
    "        'คำผวน':'ควนผำ',\n",
    "        'นอนแล้ว':'แนวร้อน',\n",
    "        'ตะปู':'ตูปะ',\n",
    "        'นักเรียน':'เนียนรัก',\n",
    "        'ขนม':'ขมหน่ะ'}\n",
    "\n",
    "tmp=[kp.tokenize(key) for key in case_1.keys()]\n",
    "tmp\n",
    "\n",
    "# get "
   ]
  },
  {
   "cell_type": "markdown",
   "metadata": {},
   "source": [
    "# Subwords\n",
    "\n",
    "* initial_consonant\n",
    "    * single อักษรเดี่ยว\n",
    "        * sound_level (low/mid/high)\n",
    "        * low_single, low_double\n",
    "    * cluster อักษรควบ\n",
    "        * true_cluster อักษรควบแท้\n",
    "        * fasle_cluster อักษรควบไม่แท้\n",
    "    * leading_cluster อักษรนำ–อักษรตาม\n",
    "        * hornum_leading หอ นำ\n",
    "        * oarnum_leading ออ นำ\n",
    "        * non_conform_leading นำด้วยสูง หรือ กลาง  นคร ขนม\n",
    "* final_consonant\n",
    "    * type (dead/live)\n",
    "    * sound (eng)\n",
    "        * k: กก\n",
    "        * ng: กง\n",
    "        * t: กด\n",
    "        * m: กม\n",
    "        * n: กน\n",
    "        * p: กบ\n",
    "        * y: เกย\n",
    "        * v: เกอว\n",
    "    * sound_level low/mid/high\n",
    "* vowel\n",
    "* tone http://www.thai-language.com/ref/tone-rules\n",
    "    * tone_mark\n",
    "    * tone_sound"
   ]
  },
  {
   "cell_type": "code",
   "execution_count": 6,
   "metadata": {},
   "outputs": [
    {
     "name": "stdout",
     "output_type": "stream",
     "text": [
      "เขียว เ-ีย 4\n",
      "เกรียน เ-ีย 0\n",
      "ตู่ -ู 1\n",
      "ตด - 1\n",
      "กร - 1\n",
      "นอน -อ 0\n",
      "ขนุน True\n",
      "จัง -ั 0\n",
      "กำ -ำ 0\n",
      "ใหญ่ ใ- 1\n",
      "ใคร ใ- 0\n",
      "เดา เ-า 0\n",
      "เปรต เ- 1\n",
      "เสร็จ เ-็ 1\n",
      "ปีน -ี 0\n",
      "เปี๊ยะ เ-ียะ 3\n",
      "คั่ว -ัว 2\n",
      "แก้ม แ- 2\n",
      "แช่ง แ- 2\n",
      "แกล้ม แ- 2\n",
      "แพร่ แ- 2\n",
      "แข็ง แ-็ 4\n",
      "เกลอ เ-อ 0\n",
      "เทอญ เ-อ 0\n",
      "เกิด เ-ิ 1\n",
      "เตลิด True\n",
      "กลม - 0\n",
      "เลว เ- 0\n",
      "เสก เ- 1\n",
      "วัว -ัว 0\n",
      "เยี่ยม เ-ีย 2\n",
      "เพลง เ- 0\n",
      "ปลอม -อ 0\n",
      "หอม -อ 4\n",
      "เวร เ- 0\n",
      "อย่าง -า 1\n",
      "อยู่ -ู 1\n",
      "อย่า -า 1\n",
      "กวน -ว 0\n",
      "แวว แ- 0\n",
      "วน - 0\n",
      "ว่าย -า 2\n",
      "สวย -ว 4\n",
      "เขย เ- 4\n",
      "เกรง เ- 0\n",
      "แปลง แ- 0\n",
      "กรง - 0\n",
      "ธง - 0\n",
      "ครี่ -ี 2\n",
      "แซง แ- 0\n",
      "แปล แ- 0\n",
      "แทรก แ- 2\n",
      "ท้อ -อ 3\n",
      "ท้อง -อ 3\n",
      "ใคร ใ- 0\n",
      "check this case not sure\n",
      "check this case not sure\n",
      "check this case not sure\n",
      "เสวย True\n",
      "เยี่ยม เ-ีย 2\n",
      "บรรณ - 0\n",
      "สมุทร True\n",
      "จันทร์ -ั 0\n",
      "พันธุ์ -ั 0\n",
      "กริบ -ิ 1\n",
      "อยาก -า 1\n",
      "กบ - 1\n",
      "check this case not sure\n",
      "check this case not sure\n",
      "check this case not sure\n",
      "เกษม True\n",
      "เออ เ-อ 0\n"
     ]
    }
   ],
   "source": [
    "import re\n",
    "from kampuan.lang_tools import get_vowel_pattern,get_vowel_form,remove_tone_mark\n",
    "from kampuan.sub_word import ThaiSubWord\n",
    "vowel_pattern=get_vowel_pattern()\n",
    "def match_pattern(pattern,text):\n",
    "    m=re.match(pattern,text)\n",
    "    return m\n",
    "\n",
    "def match_vowel_form(text,vowel_patterns):\n",
    "    for i,pattern in enumerate(vowel_patterns):\n",
    "        m=re.match(pattern,text)\n",
    "        if m:\n",
    "            return (i,m,pattern)\n",
    "    \n",
    "    return (-1,text,text)\n",
    "        \n",
    "vowel_forms=get_vowel_form(REP='-')\n",
    "test_text =['เขียว',\n",
    "            'เกรียน',\n",
    "            'ตู่',\n",
    "            'ตด',\n",
    "            'กร',\n",
    "            'นอน',\n",
    "           'ขนุน',\n",
    "           'จัง',\n",
    "           'กำ',\n",
    "           'ใหญ่',\n",
    "            'ใคร',\n",
    "           'เดา',\n",
    "           'เปรต',\n",
    "           'เสร็จ',\n",
    "           'ปีน',\n",
    "           'เปี๊ยะ',\n",
    "           'คั่ว',\n",
    "           'แก้ม',\n",
    "            'แช่ง',\n",
    "            'แกล้ม',\n",
    "            'แพร่',\n",
    "           'แข็ง',\n",
    "           'เกลอ',\n",
    "           'เทอญ',\n",
    "           'เกิด',\n",
    "           'เตลิด',\n",
    "           'กลม',\n",
    "            'เลว',\n",
    "            'เสก',\n",
    "           'วัว',\n",
    "           'เยี่ยม',\n",
    "           'เพลง',\n",
    "           'ปลอม',\n",
    "           'หอม',\n",
    "           'เวร',\n",
    "           'อย่าง',\n",
    "           'อยู่',\n",
    "           'อย่า',\n",
    "           'กวน' ,\n",
    "           'แวว',\n",
    "           'วน',\n",
    "           'ว่าย',\n",
    "           'สวย',\n",
    "           'เขย',\n",
    "           'เกรง',\n",
    "            'แปลง',\n",
    "            'กรง',\n",
    "            'ธง',\n",
    "            'ครี่',\n",
    "            'แซง',\n",
    "            'แปล',\n",
    "            'แทรก',\n",
    "            'ท้อ',\n",
    "            'ท้อง',\n",
    "            'ใคร',     \n",
    "            'เสวย',   \n",
    "            'เยี่ยม',\n",
    "            'บรรณ',\n",
    "            'สมุทร',\n",
    "            'จันทร์',\n",
    "            'พันธุ์', \n",
    "            'กริบ', \n",
    "            'อยาก',     \n",
    "            'กบ', \n",
    "            'เกษม',\n",
    "           'เออ']\n",
    "\n",
    "for text in test_text:\n",
    "    try:\n",
    "        print(text,ThaiSubWord(text)._vowel_form,ThaiSubWord(text)._tone)\n",
    "    except AttributeError:\n",
    "        print(text,ThaiSubWord(text).two_syllable)\n",
    "#     except IndexError:\n",
    "#         print('error',text)\n",
    "        \n",
    "#     plain=remove_tone_mark(text)\n",
    "#     (i,m,pattern)=match_vowel_form(plain,vowel_pattern)   \n",
    "#     print('===')\n",
    "#     print(m.groups(),vowel_forms[i],pattern)"
   ]
  },
  {
   "cell_type": "code",
   "execution_count": 7,
   "metadata": {},
   "outputs": [
    {
     "data": {
      "text/plain": [
       "<ThaiSubWord เออ at 0x7f85547ed250>"
      ]
     },
     "execution_count": 7,
     "metadata": {},
     "output_type": "execute_result"
    }
   ],
   "source": [
    "ThaiSubWord(text)"
   ]
  },
  {
   "cell_type": "code",
   "execution_count": 8,
   "metadata": {},
   "outputs": [
    {
     "data": {
      "text/plain": [
       "20"
      ]
     },
     "execution_count": 8,
     "metadata": {},
     "output_type": "execute_result"
    }
   ],
   "source": [
    "from kampuan.const import THAI_VOW\n",
    "\n",
    "len(THAI_VOW)"
   ]
  },
  {
   "cell_type": "code",
   "execution_count": 9,
   "metadata": {},
   "outputs": [],
   "source": [
    "# case เ แ need to verify ควบกล้ำ \n",
    "# 1 ตัว -> no สะกด\n",
    "# 2 ตัว -> 1 สะกด\n",
    "# 3 ตัว -> 1 สะกด\n",
    "\n",
    "# อักษรนำ\n",
    "\n",
    "# #initialize the special character cases\n",
    "# #คำควบแท้\n",
    "# self.two_char_combine = ['กร','กล', 'กว', 'คร', 'ขร', 'คล', 'ขล','คว', 'ขว', 'ตร', 'ปร', 'ปล', 'พร', 'พล' ,'ผล',\n",
    "#            'บร','บล','ดร','ฟร','ฟล','ทร','จร','ซร','ปร','สร']\n",
    "# #คำนำ\n",
    "# self.lead_char_nosound = ['อย','หง','หญ','หน','หม','หย', 'หร','หล','หว']\n",
    "# #อักษรสูงนำอักษรต่ำ\n",
    "# self._lead_char_high_low = ['ขน', 'ขม','สม','สย','สน','ขย','ฝร','ถล','ผว','ตน','จม','ตล',]\n",
    "# #อักษรสูงนำอักษรกลาง\n",
    "# self._high_char_high_medium = ['ผท','ผด','ผก','ผอ','ผช']"
   ]
  },
  {
   "cell_type": "code",
   "execution_count": 10,
   "metadata": {},
   "outputs": [
    {
     "data": {
      "text/plain": [
       "'่้๊๋'"
      ]
     },
     "execution_count": 10,
     "metadata": {},
     "output_type": "execute_result"
    }
   ],
   "source": [
    "import pythainlp\n",
    "pythainlp.thai_tonemarks"
   ]
  },
  {
   "cell_type": "code",
   "execution_count": 11,
   "metadata": {},
   "outputs": [
    {
     "data": {
      "text/plain": [
       "'๏๚๛'"
      ]
     },
     "execution_count": 11,
     "metadata": {},
     "output_type": "execute_result"
    }
   ],
   "source": [
    "pythainlp.thai_punctuations"
   ]
  },
  {
   "cell_type": "code",
   "execution_count": 12,
   "metadata": {},
   "outputs": [
    {
     "data": {
      "text/plain": [
       "['-ุ', '-ู']"
      ]
     },
     "execution_count": 12,
     "metadata": {},
     "output_type": "execute_result"
    }
   ],
   "source": [
    "['-'+char for char in pythainlp.thai_below_vowels]"
   ]
  },
  {
   "cell_type": "code",
   "execution_count": 13,
   "metadata": {},
   "outputs": [
    {
     "data": {
      "text/plain": [
       "['_่', '_้', '_๊', '_๋']"
      ]
     },
     "execution_count": 13,
     "metadata": {},
     "output_type": "execute_result"
    }
   ],
   "source": [
    "['_'+char for char in pythainlp.thai_tonemarks]"
   ]
  },
  {
   "cell_type": "code",
   "execution_count": 14,
   "metadata": {},
   "outputs": [
    {
     "data": {
      "text/plain": [
       "['_ั', '_ิ', '_ี', '_ึ', '_ื', '_ํ', '_็']"
      ]
     },
     "execution_count": 14,
     "metadata": {},
     "output_type": "execute_result"
    }
   ],
   "source": [
    "['_'+char for char in pythainlp.thai_above_vowels]"
   ]
  },
  {
   "cell_type": "code",
   "execution_count": 15,
   "metadata": {},
   "outputs": [
    {
     "data": {
      "text/plain": [
       "['เ_', 'แ_', 'โ_', 'ใ_', 'ไ_']"
      ]
     },
     "execution_count": 15,
     "metadata": {},
     "output_type": "execute_result"
    }
   ],
   "source": [
    "[char+'_' for char in pythainlp.thai_lead_vowels]"
   ]
  },
  {
   "cell_type": "code",
   "execution_count": 16,
   "metadata": {},
   "outputs": [
    {
     "data": {
      "text/plain": [
       "['_ะ', '_า', '_ำ', '_ๅ']"
      ]
     },
     "execution_count": 16,
     "metadata": {},
     "output_type": "execute_result"
    }
   ],
   "source": [
    "['_'+char for char in pythainlp.thai_follow_vowels]"
   ]
  },
  {
   "cell_type": "code",
   "execution_count": 17,
   "metadata": {},
   "outputs": [
    {
     "data": {
      "text/plain": [
       "'ฤฦะัาำิีึืุูเแโใไๅํ็'"
      ]
     },
     "execution_count": 17,
     "metadata": {},
     "output_type": "execute_result"
    }
   ],
   "source": [
    "pythainlp.thai_vowels"
   ]
  },
  {
   "cell_type": "code",
   "execution_count": 18,
   "metadata": {},
   "outputs": [
    {
     "data": {
      "text/plain": [
       "('กร', 'ิ', 'บ')"
      ]
     },
     "execution_count": 18,
     "metadata": {},
     "output_type": "execute_result"
    }
   ],
   "source": [
    "ThaiSubWord('กริบ')._ex_regex.groups()"
   ]
  },
  {
   "cell_type": "code",
   "execution_count": 19,
   "metadata": {},
   "outputs": [
    {
     "data": {
      "text/plain": [
       "{'_raw': 'พันธุ์',\n",
       " '_vowels_tup': [(1, 'ั'), (4, 'ุ')],\n",
       " '_vowels': ['ั', 'ุ'],\n",
       " '_consonants_tup': [(0, 'พ'), (2, 'น'), (3, 'ธ')],\n",
       " '_consonants': ['พ', 'น', 'ธ'],\n",
       " '_tone_mark': [],\n",
       " '_mute_mark': 5,\n",
       " '_ex_vw_form': '-ั',\n",
       " '_ex_regex': <re.Match object; span=(0, 4), match='พันธ'>,\n",
       " '_ex_pattern': '(.{1,3})(ั)([ก-ฮ]*)',\n",
       " '_mute_con_tup': [(3, 'ธ')],\n",
       " '_mute_con': ['ธ'],\n",
       " '_mute_vow_tup': [(4, 'ุ')],\n",
       " '_vowel_form': '-ั',\n",
       " '_vowel_con_tup': (-1, None),\n",
       " '_vowel_form_tup': [(1, 'ั')],\n",
       " '_true_con_tup': [(0, 'พ'), (2, 'น')],\n",
       " '_double_r': False,\n",
       " '_con_split': (1, 'ั'),\n",
       " '_init_con_tup': [(0, 'พ')],\n",
       " '_final_con_tup': [(2, 'น')],\n",
       " 'init_con': 'พ',\n",
       " 'final_con': 'น',\n",
       " '_two_syllable': False,\n",
       " '_vowel_form_sound': '-ั',\n",
       " '_vowel_class': 'long',\n",
       " '_word_class': 'live',\n",
       " '_main_init_sound': 'พ',\n",
       " '_init_sound_class': 'low',\n",
       " '_aspirate': True,\n",
       " '_tone_mark_class': 0,\n",
       " '_tone_group_rule': 2,\n",
       " '_tone': 0}"
      ]
     },
     "execution_count": 19,
     "metadata": {},
     "output_type": "execute_result"
    }
   ],
   "source": [
    "ThaiSubWord('พันธุ์').__dict__"
   ]
  },
  {
   "cell_type": "code",
   "execution_count": 20,
   "metadata": {},
   "outputs": [
    {
     "data": {
      "text/plain": [
       "[(4, 'ุ')]"
      ]
     },
     "execution_count": 20,
     "metadata": {},
     "output_type": "execute_result"
    }
   ],
   "source": [
    "from kampuan.const import MUTE_MARK, THAI_CONS, THAI_TONE, VOWEL_FORMS,df_tone_rule,THAI_VOW\n",
    "\n",
    "def find_mute_vowel(text: str):\n",
    "    \"\"\"extract main mute vowel การันต์ case:('พันธุ์')\n",
    "\n",
    "    Args:\n",
    "        text (str): word to check\n",
    "\n",
    "    Returns:\n",
    "        List of tuple List[(int,str)]: return[] if no การันต์ , return [(index, consonant)]\n",
    "    \"\"\"\n",
    "\n",
    "    if MUTE_MARK not in text:\n",
    "        return []\n",
    "    else:\n",
    "        mark_index = text.index(MUTE_MARK)\n",
    "        lead_mute=text[mark_index-1]\n",
    "        if lead_mute in THAI_VOW:\n",
    "            return [(mark_index-1,lead_mute)]\n",
    "        else:\n",
    "            return []\n",
    "        \n",
    "find_mute_vowel('พันธุ์')      "
   ]
  },
  {
   "cell_type": "code",
   "execution_count": 21,
   "metadata": {},
   "outputs": [
    {
     "data": {
      "text/plain": [
       "{'_raw': 'เกรง',\n",
       " '_vowels_tup': [(0, 'เ')],\n",
       " '_vowels': ['เ'],\n",
       " '_consonants_tup': [(1, 'ก'), (2, 'ร'), (3, 'ง')],\n",
       " '_consonants': ['ก', 'ร', 'ง'],\n",
       " '_tone_mark': [],\n",
       " '_mute_mark': -1,\n",
       " '_ex_vw_form': 'เ-',\n",
       " '_ex_regex': <re.Match object; span=(0, 4), match='เกรง'>,\n",
       " '_ex_pattern': '(เ)(.{1,3})([ก-ฮ]*)',\n",
       " '_mute_con_tup': [],\n",
       " '_mute_con': [],\n",
       " '_mute_vow_tup': [],\n",
       " '_vowel_form': 'เ-',\n",
       " '_vowel_con_tup': (-1, None),\n",
       " '_vowel_form_tup': [(0, 'เ')],\n",
       " '_true_con_tup': [(1, 'ก'), (2, 'ร'), (3, 'ง')],\n",
       " '_double_r': False,\n",
       " '_con_split': (2, 'ร'),\n",
       " '_init_con_tup': [(1, 'ก'), (2, 'ร')],\n",
       " '_final_con_tup': [(3, 'ง')],\n",
       " 'init_con': 'กร',\n",
       " 'final_con': 'ง',\n",
       " '_two_syllable': False,\n",
       " '_vowel_form_sound': 'เ-',\n",
       " '_vowel_class': 'long',\n",
       " '_word_class': 'live',\n",
       " '_main_init_sound': 'ก',\n",
       " '_init_sound_class': 'mid',\n",
       " '_aspirate': False,\n",
       " '_tone_mark_class': 0,\n",
       " '_tone_group_rule': 0,\n",
       " '_tone': 0}"
      ]
     },
     "execution_count": 21,
     "metadata": {},
     "output_type": "execute_result"
    }
   ],
   "source": [
    "ThaiSubWord('เกรง').__dict__"
   ]
  },
  {
   "cell_type": "markdown",
   "metadata": {},
   "source": [
    "# kampuan logic:\n",
    "1. Input phrase\n",
    "2. Split phrase to syllables\n",
    "3. Sub word processing, types and tones\n",
    "4. preprocessing on two syllable words\n",
    "5. Determine two syllable to do the puan\n",
    "6. Puan process, output new\n",
    "    * Tone assignment\n",
    "    * \n",
    "7. Fine tune sound no nymss\n",
    "    * case บัน บรร\n",
    "    * case same vowel sound\n",
    "    * case tune shift\n",
    "\n"
   ]
  },
  {
   "cell_type": "code",
   "execution_count": 133,
   "metadata": {},
   "outputs": [
    {
     "name": "stdout",
     "output_type": "stream",
     "text": [
      "['ควน', 'ผำ']\n",
      "['แนว', 'ล้อน']\n",
      "['ตู', 'ปะ']\n",
      "['เนียน', 'รัก']\n",
      "check this case not sure\n",
      "check this case not sure\n",
      "['ขม', 'หนะ']\n",
      "['รัก', 'เทอ']\n",
      "['ลู', 'ดอง']\n",
      "['จี', 'เพ่อ']\n",
      "['รัก', 'เมอ']\n",
      "['ไอ', 'บ้า']\n",
      "['หาว', 'ขิ้ว']\n",
      "['ก่ำ', 'หละ']\n",
      "['จึก', 'เมอ']\n"
     ]
    }
   ],
   "source": [
    "from kampuan import tokenize\n",
    "\n",
    "# 1. Input phrase\n",
    "input_text ='สวัสดี'\n",
    "# input_text ='ไงสลิ่ม'\n",
    "\n",
    "def puan_kam_preprocess(input_text):\n",
    "    # 2. Split phrase to syllables\n",
    "    tokenized= tokenize(input_text)\n",
    "\n",
    "    # 3. Sub word processing, types and tones\n",
    "    sub_words=[ThaiSubWord(word) for word in tokenized]\n",
    "\n",
    "    # 4. preprocessing on two syllable words\n",
    "    split_words =[word_split for word in sub_words for word_split in word.split_non_conform()  ]\n",
    "    \n",
    "    return split_words\n",
    "\n",
    "def puan_2_kam(a_raw,b_raw,keep_tone =None):\n",
    "    a_raw_tone=a_raw._tone\n",
    "    b_raw_tone=b_raw._tone\n",
    "\n",
    "    # swap vowel\n",
    "    a_target= b_raw._vowel_form_sound.replace('-',a_raw.init_con)\n",
    "    b_target= a_raw._vowel_form_sound.replace('-',b_raw.init_con)\n",
    "\n",
    "    # swap final con\n",
    "    a_target =ThaiSubWord(a_target +b_raw.final_con)\n",
    "    b_target =ThaiSubWord(b_target +a_raw.final_con)\n",
    "\n",
    "    # Swap tone    \n",
    "    # assign tones\n",
    "    if keep_tone is None:\n",
    "        if a_target._word_class =='dead' or b_target._word_class =='dead':\n",
    "            keep_tone =False\n",
    "        else:\n",
    "            keep_tone =True\n",
    "        \n",
    "    if keep_tone:\n",
    "        a_target_tone=a_raw_tone\n",
    "        b_target_tone =b_raw_tone\n",
    "    else:\n",
    "        a_target_tone=b_raw_tone\n",
    "        b_target_tone =a_raw_tone\n",
    "\n",
    "    # apply tone rules\n",
    "    a_target=ThaiSubWord.pun_wunayook(a_target._raw,a_target_tone)\n",
    "    b_target=ThaiSubWord.pun_wunayook(b_target._raw,b_target_tone)\n",
    "\n",
    "    return a_target ,b_target\n",
    "\n",
    "def puan_kam_base(input_text='สวัสดี',keep_tone =None, use_first=True,index=None):\n",
    "    \n",
    "    if isinstance(input_text,str):\n",
    "        split_words=puan_kam_preprocess(input_text)\n",
    "    else:\n",
    "        split_words =split_words\n",
    "    # 5. Determine two syllable to do the puan\n",
    "    if not index:\n",
    "        n_subwords=len(split_words)\n",
    "        index=(0,0)\n",
    "        if n_subwords ==1:\n",
    "            index=(0,0)\n",
    "        elif n_subwords==2:\n",
    "            index=(0,1)\n",
    "        elif use_first:\n",
    "            index =(0,-1)\n",
    "        else:\n",
    "            index=(1,-1)\n",
    "    # 6. Puan process, output new\n",
    "    # puan kum given two subwords\n",
    "    a_raw=split_words[index[0]]\n",
    "    b_raw=split_words[index[1]]\n",
    "    \n",
    "    # apply tone rules\n",
    "    a_target,b_target=puan_2_kam(a_raw,b_raw,keep_tone =keep_tone)\n",
    "\n",
    "    # 7. combine\n",
    "    kam_puan= [w._raw for w in split_words]\n",
    "    kam_puan[index[0]]=a_target\n",
    "    kam_puan[index[1]]=b_target\n",
    "\n",
    "    return kam_puan\n",
    "\n",
    "def puan_kam_all(input_text='สวัสดี'):\n",
    "    keep_tone =[True,False]\n",
    "    use_first =[True,False]\n",
    "    result= {}\n",
    "    count=0\n",
    "    \n",
    "    for k in keep_tone:\n",
    "        for j in  use_first:\n",
    "            result[count]=puan_kam_base(input_text=input_text,keep_tone =k,use_first=j)\n",
    "            count+=1\n",
    "    return result\n",
    "\n",
    "def puan_kam_auto(input_text='สวัสดี',use_first=None):\n",
    " \n",
    "    split_words=puan_kam_preprocess(input_text)\n",
    "    \n",
    "    n_subwords=len(split_words)\n",
    "    \n",
    "    index=(0,0)\n",
    "    if n_subwords ==1:\n",
    "        index=(0,0)\n",
    "    elif n_subwords==2:\n",
    "        index=(0,1)\n",
    "    elif n_subwords==3:\n",
    "        if split_words[0]._word_class =='dead':\n",
    "            index=(1,-1)\n",
    "        else:\n",
    "            index=(0,-1)\n",
    "    else:# more than 3 \n",
    "        if use_first is None:\n",
    "            return [puan_kam_base(input_text=input_text,keep_tone =None,index=(i,-1)) for i in [0,1]]\n",
    "        elif use_first:\n",
    "            index=(0,-1)\n",
    "        else:\n",
    "            index=(1,-1)\n",
    "    \n",
    "    return puan_kam_base(input_text=input_text,keep_tone =None,index=index)\n",
    "\n",
    "case_1 =['คำผวน',\n",
    "         'นอนแล้ว',\n",
    "         'ตะปู',\n",
    "         'นักเรียน',\n",
    "         'ขนม',\n",
    "         'เรอทัก',\n",
    "          'ลองดู',\n",
    "         'เจอพี่',\n",
    "         'เรอมัก',\n",
    "        'อาไบ้',\n",
    "        'หิวข้าว',\n",
    "        'กะหล่ำ',\n",
    "        'เจอหมึก']\n",
    "for k in case_1:\n",
    "    print(puan_kam_auto(k))"
   ]
  },
  {
   "cell_type": "code",
   "execution_count": 134,
   "metadata": {},
   "outputs": [
    {
     "name": "stdout",
     "output_type": "stream",
     "text": [
      "มะนาวต่างดุ๊ด\n",
      "[['มุด', 'นาว', 'ต่าง', 'ด๊ะ'], ['มะ', 'นุด', 'ต่าง', 'ดาว']]\n",
      "===========\n",
      "กาเป็นหมู\n",
      "['กู', 'เป็น', 'หมา']\n",
      "===========\n",
      "ก้างใหญ่\n",
      "['ใก้', 'หญ่าง']\n",
      "===========\n",
      "อะหรี่ดอย\n",
      "['อะ', 'หร่อย', 'ดี']\n",
      "===========\n",
      "นอนแล้ว\n",
      "['แนว', 'ล้อน']\n",
      "===========\n",
      "ตะปู\n",
      "['ตู', 'ปะ']\n",
      "===========\n",
      "นักเรียน\n",
      "['เนียน', 'รัก']\n",
      "===========\n",
      "ขนม\n",
      "check this case not sure\n",
      "check this case not sure\n",
      "['ขม', 'หนะ']\n",
      "===========\n",
      "เรอทัก\n",
      "['รัก', 'เทอ']\n",
      "===========\n",
      "สวัสดี\n",
      "['สะ', 'วี', 'ดัส']\n",
      "===========\n"
     ]
    }
   ],
   "source": [
    "case_1 =['มะนาวต่างดุ๊ด',\n",
    "         'กาเป็นหมู',\n",
    "         'ก้างใหญ่',\n",
    "         'อะหรี่ดอย',\n",
    "         'นอนแล้ว',\n",
    "         'ตะปู',\n",
    "         'นักเรียน',\n",
    "         'ขนม',\n",
    "         'เรอทัก',\n",
    "        'สวัสดี']\n",
    "for k in case_1:\n",
    "    print(k)\n",
    "    print(puan_kam_auto(input_text=k))\n",
    "    print('===========')"
   ]
  },
  {
   "cell_type": "code",
   "execution_count": 136,
   "metadata": {},
   "outputs": [
    {
     "name": "stderr",
     "output_type": "stream",
     "text": [
      "WARNING:root:ปะ with tone 0 not availabe (Dead word type), return normalize\n",
      "WARNING:root:รัก with tone 0 not availabe (Dead word type), return normalize\n"
     ]
    },
    {
     "name": "stdout",
     "output_type": "stream",
     "text": [
      "กินข้าว กาวขิ้น\n",
      "['กาว', 'ขิ้น']\n",
      "['ก้าว', 'คิน']\n",
      "===========\n",
      "หิวจัง หังจิว\n",
      "['หัง', 'จิว']\n",
      "['ฮัง', 'จิ๋ว']\n",
      "===========\n",
      "คำผวน ควนผำ\n",
      "['ควน', 'ผำ']\n",
      "['ขวน', 'พำ']\n",
      "===========\n",
      "นอนแล้ว แนวร้อน\n",
      "['แนว', 'ล้อน']\n",
      "['แน้ว', 'ลอน']\n",
      "===========\n",
      "ตะปู ตูปะ\n",
      "['ตู่', 'ปะ']\n",
      "['ตู', 'ปะ']\n",
      "===========\n",
      "นักเรียน เนียนรัก\n",
      "['เนี่ยน', 'หรัก']\n",
      "['เนียน', 'รัก']\n",
      "===========\n",
      "ขนม ขมหน่ะ\n",
      "check this case not sure\n",
      "['ข่ม', 'น๋ะ']\n",
      "check this case not sure\n",
      "['ขม', 'หนะ']\n",
      "===========\n",
      "เรอทัก รักเธอ\n"
     ]
    },
    {
     "name": "stderr",
     "output_type": "stream",
     "text": [
      "WARNING:root:รัก with tone 0 not availabe (Dead word type), return normalize\n"
     ]
    },
    {
     "name": "stdout",
     "output_type": "stream",
     "text": [
      "['หรัก', 'เท่อ']\n",
      "['รัก', 'เทอ']\n",
      "===========\n"
     ]
    }
   ],
   "source": [
    "case_1 ={'กินข้าว':'กาวขิ้น',\n",
    "         'หิวจัง':'หังจิว',\n",
    "        'คำผวน':'ควนผำ',\n",
    "        'นอนแล้ว':'แนวร้อน',\n",
    "        'ตะปู':'ตูปะ',\n",
    "        'นักเรียน':'เนียนรัก',\n",
    "        'ขนม':'ขมหน่ะ',\n",
    "        'เรอทัก':'รักเธอ'}\n",
    "for k,v in case_1.items():\n",
    "    print(k,v)\n",
    "    print(puan_kam(input_text=k))\n",
    "    print(puan_kam(input_text=k,keep_tone=False))\n",
    "    print('===========')"
   ]
  },
  {
   "cell_type": "code",
   "execution_count": 139,
   "metadata": {},
   "outputs": [
    {
     "name": "stderr",
     "output_type": "stream",
     "text": [
      "WARNING:root:เป็ด with tone 0 not availabe (Dead word type), return normalize\n",
      "WARNING:root:removing taikoo from เป็ด\n",
      "WARNING:root:removing taikoo from เป็ด\n",
      "WARNING:root:removing taikoo from เป็ด\n",
      "WARNING:root:removing taikoo from แข็ง\n",
      "WARNING:root:removing taikoo from แข็ง\n",
      "WARNING:root:removing taikoo from แข็ง\n",
      "WARNING:root:ด๊วด with tone 0 not availabe (Dead word type), return normalize\n"
     ]
    },
    {
     "name": "stdout",
     "output_type": "stream",
     "text": [
      "----- ไก่\n",
      "ไก\n",
      "ไก่\n",
      "ไก้\n",
      "ไก๊\n",
      "ไก๋\n",
      "----- เป็ด\n",
      "เป็ด\n",
      "เป็ด\n",
      "เป้ด\n",
      "เป๊ด\n",
      "เป๋ด\n",
      "----- แคง\n",
      "แคง\n",
      "แข่ง\n",
      "แค่ง\n",
      "แค้ง\n",
      "แขง\n",
      "----- แข็ง\n",
      "แค็ง\n",
      "แข่ง\n",
      "แข้ง\n",
      "แค้ง\n",
      "แข็ง\n",
      "----- ขาว\n",
      "คาว\n",
      "ข่าว\n",
      "ข้าว\n",
      "ค้าว\n",
      "ขาว\n",
      "----- ด๊วด\n",
      "ดวด\n",
      "ดวด\n",
      "ด้วด\n",
      "ด๊วด\n",
      "ด๋วด\n",
      "----- หมา\n",
      "มา\n",
      "หม่า\n",
      "หม้า\n",
      "ม้า\n",
      "หมา\n",
      "----- คราว\n",
      "คราว\n"
     ]
    },
    {
     "name": "stderr",
     "output_type": "stream",
     "text": [
      "WARNING:root:ทราบ with tone 0 not availabe (Dead word type), return normalize\n",
      "WARNING:root:removing taikoo from ก้อ\n",
      "WARNING:root:removing taikoo from ก้อ\n",
      "WARNING:root:removing taikoo from ก้อ\n",
      "WARNING:root:check two syllable, return default\n",
      "WARNING:root:check two syllable, return default\n",
      "WARNING:root:check two syllable, return default\n",
      "WARNING:root:check two syllable, return default\n",
      "WARNING:root:check two syllable, return default\n"
     ]
    },
    {
     "name": "stdout",
     "output_type": "stream",
     "text": [
      "ขร่าว\n",
      "คร่าว\n",
      "คร้าว\n",
      "ขราว\n",
      "----- คน\n",
      "คน\n",
      "ข่น\n",
      "ค่น\n",
      "ค้น\n",
      "ขน\n",
      "----- ทราบ\n",
      "สาบ\n",
      "สาบ\n",
      "ทราบ\n",
      "ทร้าบ\n",
      "ทร๋าบ\n",
      "----- ก็\n",
      "กอ\n",
      "ก่อ\n",
      "ก้อ\n",
      "ก๊อ\n",
      "ก๋อ\n",
      "----- ภูมิ\n",
      "ภูมิ\n",
      "ภูมิ\n",
      "ภูมิ\n",
      "ภูมิ\n",
      "ภูมิ\n"
     ]
    }
   ],
   "source": [
    "from kampuan.lang_tools import convert_tone_pair_double_init, convert_tone_pair_single_init,remove_tone_mark\n",
    "from kampuan.const import TONE_MARK_CLASS_INV\n",
    "from kampuan.sub_word import ThaiSubWord\n",
    "import logging\n",
    "\n",
    "test_text=[\n",
    "    'ไก่',\n",
    "    'เป็ด',  \n",
    "    'แคง',\n",
    "    'แข็ง',\n",
    "    'ขาว',\n",
    "    'ด๊วด',\n",
    "    'หมา',\n",
    "    'คราว',\n",
    "    'คน',\n",
    "    'ทราบ',\n",
    "    'ก็',\n",
    "    'ภูมิ',\n",
    "] \n",
    "    \n",
    "for text in test_text:\n",
    "    print('-----',text)\n",
    "    for i in range(0,5): \n",
    "        print(ThaiSubWord.pun_wunayook(text,tone_target=i))"
   ]
  },
  {
   "cell_type": "code",
   "execution_count": 140,
   "metadata": {},
   "outputs": [
    {
     "name": "stdout",
     "output_type": "stream",
     "text": [
      "ภูมิ -ู\n"
     ]
    },
    {
     "data": {
      "text/plain": [
       "{'_raw': 'ภูมิ',\n",
       " '_vowels_tup': [(1, 'ู'), (3, 'ิ')],\n",
       " '_vowels': ['ู', 'ิ'],\n",
       " '_consonants_tup': [(0, 'ภ'), (2, 'ม')],\n",
       " '_consonants': ['ภ', 'ม'],\n",
       " '_tone_mark': [],\n",
       " '_mute_mark': -1,\n",
       " '_ex_vw_form': '-ู',\n",
       " '_ex_regex': <re.Match object; span=(0, 3), match='ภูม'>,\n",
       " '_ex_pattern': '(.{1,3})(ู)([ก-ฮ]*)',\n",
       " '_mute_con_tup': [],\n",
       " '_mute_con': [],\n",
       " '_mute_vow_tup': [],\n",
       " '_vowel_form': '-ู',\n",
       " '_vowel_con_tup': (-1, None),\n",
       " '_vowel_form_tup': [(1, 'ู'), (3, 'ิ')],\n",
       " '_true_con_tup': [(0, 'ภ'), (2, 'ม')],\n",
       " '_double_r': False,\n",
       " '_con_split': (3, 'ิ'),\n",
       " '_init_con_tup': [(0, 'ภ'), (2, 'ม')],\n",
       " '_final_con_tup': [],\n",
       " 'init_con': 'ภม',\n",
       " 'final_con': '',\n",
       " '_two_syllable': True,\n",
       " '_vowel_form_sound': '-ู',\n",
       " '_vowel_class': 'long',\n",
       " '_word_class': 'live'}"
      ]
     },
     "metadata": {},
     "output_type": "display_data"
    },
    {
     "name": "stdout",
     "output_type": "stream",
     "text": [
      "\n",
      "พยาธิ -า\n"
     ]
    },
    {
     "data": {
      "text/plain": [
       "{'_raw': 'พยาธิ',\n",
       " '_vowels_tup': [(2, 'า'), (4, 'ิ')],\n",
       " '_vowels': ['า', 'ิ'],\n",
       " '_consonants_tup': [(0, 'พ'), (1, 'ย'), (3, 'ธ')],\n",
       " '_consonants': ['พ', 'ย', 'ธ'],\n",
       " '_tone_mark': [],\n",
       " '_mute_mark': -1,\n",
       " '_ex_vw_form': '-า',\n",
       " '_ex_regex': <re.Match object; span=(0, 4), match='พยาธ'>,\n",
       " '_ex_pattern': '(.{1,3})(า)([ก-ฮ]*)',\n",
       " '_mute_con_tup': [],\n",
       " '_mute_con': [],\n",
       " '_mute_vow_tup': [],\n",
       " '_vowel_form': '-า',\n",
       " '_vowel_con_tup': (-1, None),\n",
       " '_vowel_form_tup': [(2, 'า'), (4, 'ิ')],\n",
       " '_true_con_tup': [(0, 'พ'), (1, 'ย'), (3, 'ธ')],\n",
       " '_double_r': False,\n",
       " '_con_split': (4, 'ิ'),\n",
       " '_init_con_tup': [(0, 'พ'), (1, 'ย'), (3, 'ธ')],\n",
       " '_final_con_tup': [],\n",
       " 'init_con': 'พยธ',\n",
       " 'final_con': '',\n",
       " '_two_syllable': True,\n",
       " '_vowel_form_sound': '-า',\n",
       " '_vowel_class': 'long',\n",
       " '_word_class': 'live'}"
      ]
     },
     "metadata": {},
     "output_type": "display_data"
    },
    {
     "name": "stdout",
     "output_type": "stream",
     "text": [
      "\n",
      "ชาติ -ิ\n"
     ]
    },
    {
     "data": {
      "text/plain": [
       "{'_raw': 'ชาติ',\n",
       " '_vowels_tup': [(1, 'า'), (3, 'ิ')],\n",
       " '_vowels': ['า', 'ิ'],\n",
       " '_consonants_tup': [(0, 'ช'), (2, 'ต')],\n",
       " '_consonants': ['ช', 'ต'],\n",
       " '_tone_mark': [],\n",
       " '_mute_mark': -1,\n",
       " '_ex_vw_form': '-ิ',\n",
       " '_ex_regex': <re.Match object; span=(0, 4), match='ชาติ'>,\n",
       " '_ex_pattern': '(.{1,3})(ิ)([ก-ฮ]*)',\n",
       " '_mute_con_tup': [],\n",
       " '_mute_con': [],\n",
       " '_mute_vow_tup': [],\n",
       " '_vowel_form': '-ิ',\n",
       " '_vowel_con_tup': (-1, None),\n",
       " '_vowel_form_tup': [(1, 'า'), (3, 'ิ')],\n",
       " '_true_con_tup': [(0, 'ช'), (2, 'ต')],\n",
       " '_double_r': False,\n",
       " '_con_split': (3, 'ิ'),\n",
       " '_init_con_tup': [(0, 'ช'), (2, 'ต')],\n",
       " '_final_con_tup': [],\n",
       " 'init_con': 'ชต',\n",
       " 'final_con': '',\n",
       " '_two_syllable': True,\n",
       " '_vowel_form_sound': '-ิ',\n",
       " '_vowel_class': 'short',\n",
       " '_word_class': 'dead'}"
      ]
     },
     "metadata": {},
     "output_type": "display_data"
    },
    {
     "name": "stdout",
     "output_type": "stream",
     "text": [
      "\n",
      "สาเหตุ -า\n"
     ]
    },
    {
     "data": {
      "text/plain": [
       "{'_raw': 'สาเหตุ',\n",
       " '_vowels_tup': [(1, 'า'), (2, 'เ'), (5, 'ุ')],\n",
       " '_vowels': ['า', 'เ', 'ุ'],\n",
       " '_consonants_tup': [(0, 'ส'), (3, 'ห'), (4, 'ต')],\n",
       " '_consonants': ['ส', 'ห', 'ต'],\n",
       " '_tone_mark': [],\n",
       " '_mute_mark': -1,\n",
       " '_ex_vw_form': '-า',\n",
       " '_ex_regex': <re.Match object; span=(0, 2), match='สา'>,\n",
       " '_ex_pattern': '(.{1,3})(า)([ก-ฮ]*)',\n",
       " '_mute_con_tup': [],\n",
       " '_mute_con': [],\n",
       " '_mute_vow_tup': [],\n",
       " '_vowel_form': '-า',\n",
       " '_vowel_con_tup': (-1, None),\n",
       " '_vowel_form_tup': [(1, 'า'), (2, 'เ'), (5, 'ุ')],\n",
       " '_true_con_tup': [(0, 'ส'), (3, 'ห'), (4, 'ต')],\n",
       " '_double_r': False,\n",
       " '_con_split': (5, 'ุ'),\n",
       " '_init_con_tup': [(0, 'ส'), (3, 'ห'), (4, 'ต')],\n",
       " '_final_con_tup': [],\n",
       " 'init_con': 'สหต',\n",
       " 'final_con': '',\n",
       " '_two_syllable': True,\n",
       " '_vowel_form_sound': '-า',\n",
       " '_vowel_class': 'long',\n",
       " '_word_class': 'live'}"
      ]
     },
     "metadata": {},
     "output_type": "display_data"
    },
    {
     "name": "stdout",
     "output_type": "stream",
     "text": [
      "\n",
      "ธาตุ -ุ\n"
     ]
    },
    {
     "data": {
      "text/plain": [
       "{'_raw': 'ธาตุ',\n",
       " '_vowels_tup': [(1, 'า'), (3, 'ุ')],\n",
       " '_vowels': ['า', 'ุ'],\n",
       " '_consonants_tup': [(0, 'ธ'), (2, 'ต')],\n",
       " '_consonants': ['ธ', 'ต'],\n",
       " '_tone_mark': [],\n",
       " '_mute_mark': -1,\n",
       " '_ex_vw_form': '-ุ',\n",
       " '_ex_regex': <re.Match object; span=(0, 4), match='ธาตุ'>,\n",
       " '_ex_pattern': '(.{1,3})(ุ)([ก-ฮ]*)',\n",
       " '_mute_con_tup': [],\n",
       " '_mute_con': [],\n",
       " '_mute_vow_tup': [],\n",
       " '_vowel_form': '-ุ',\n",
       " '_vowel_con_tup': (-1, None),\n",
       " '_vowel_form_tup': [(1, 'า'), (3, 'ุ')],\n",
       " '_true_con_tup': [(0, 'ธ'), (2, 'ต')],\n",
       " '_double_r': False,\n",
       " '_con_split': (3, 'ุ'),\n",
       " '_init_con_tup': [(0, 'ธ'), (2, 'ต')],\n",
       " '_final_con_tup': [],\n",
       " 'init_con': 'ธต',\n",
       " 'final_con': '',\n",
       " '_two_syllable': True,\n",
       " '_vowel_form_sound': '-ุ',\n",
       " '_vowel_class': 'short',\n",
       " '_word_class': 'dead'}"
      ]
     },
     "metadata": {},
     "output_type": "display_data"
    },
    {
     "name": "stdout",
     "output_type": "stream",
     "text": [
      "\n"
     ]
    }
   ],
   "source": [
    "from IPython.display import display\n",
    "\n",
    "test_text=[\n",
    "    'ภูมิ',\n",
    "    'พยาธิ',\n",
    "    'ชาติ',\n",
    "    'สาเหตุ',\n",
    "    'ธาตุ'\n",
    "] \n",
    "for text in test_text:\n",
    "    sw =ThaiSubWord(text)\n",
    "    print(text,sw._ex_vw_form)\n",
    "    display(sw.__dict__)\n",
    "    print()\n"
   ]
  }
 ],
 "metadata": {
  "kernelspec": {
   "display_name": "chat bot",
   "language": "python",
   "name": "chatbot"
  },
  "language_info": {
   "codemirror_mode": {
    "name": "ipython",
    "version": 3
   },
   "file_extension": ".py",
   "mimetype": "text/x-python",
   "name": "python",
   "nbconvert_exporter": "python",
   "pygments_lexer": "ipython3",
   "version": "3.8.5"
  }
 },
 "nbformat": 4,
 "nbformat_minor": 4
}
