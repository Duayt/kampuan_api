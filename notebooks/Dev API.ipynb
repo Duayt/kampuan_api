{
 "cells": [
  {
   "cell_type": "code",
   "execution_count": 8,
   "metadata": {},
   "outputs": [
    {
     "name": "stdout",
     "output_type": "stream",
     "text": [
      "The autoreload extension is already loaded. To reload it, use:\n",
      "  %reload_ext autoreload\n"
     ]
    }
   ],
   "source": [
    "%load_ext autoreload\n",
    "%autoreload 2"
   ]
  },
  {
   "cell_type": "code",
   "execution_count": 1,
   "metadata": {},
   "outputs": [
    {
     "data": {
      "text/plain": [
       "'Hello World!'"
      ]
     },
     "execution_count": 1,
     "metadata": {},
     "output_type": "execute_result"
    }
   ],
   "source": [
    "import kampuan as kp\n",
    "\n",
    "kp.test()"
   ]
  },
  {
   "cell_type": "code",
   "execution_count": null,
   "metadata": {},
   "outputs": [],
   "source": []
  },
  {
   "cell_type": "code",
   "execution_count": 10,
   "metadata": {},
   "outputs": [
    {
     "data": {
      "text/plain": [
       "['สวัส', 'ดี']"
      ]
     },
     "execution_count": 10,
     "metadata": {},
     "output_type": "execute_result"
    }
   ],
   "source": [
    "\n",
    "phrase='สวัสดี'\n",
    "kp.tokenize(phrase)"
   ]
  },
  {
   "cell_type": "code",
   "execution_count": 11,
   "metadata": {},
   "outputs": [
    {
     "data": {
      "text/plain": [
       "['ตลาด']"
      ]
     },
     "execution_count": 11,
     "metadata": {},
     "output_type": "execute_result"
    }
   ],
   "source": [
    "kp.tokenize('ตลาด')"
   ]
  },
  {
   "cell_type": "markdown",
   "metadata": {},
   "source": [
    "* 2 word 2 syllabus case\n"
   ]
  },
  {
   "cell_type": "code",
   "execution_count": 12,
   "metadata": {},
   "outputs": [
    {
     "data": {
      "text/plain": [
       "[['กิน', 'ข้าว'],\n",
       " ['หิว', 'จัง'],\n",
       " ['คำ', 'ผวน'],\n",
       " ['นอน', 'แล้ว'],\n",
       " ['ตะ', 'ปู'],\n",
       " ['นัก', 'เรียน'],\n",
       " ['ขนม']]"
      ]
     },
     "execution_count": 12,
     "metadata": {},
     "output_type": "execute_result"
    }
   ],
   "source": [
    "case_1 ={'กินข้าว':'กาวขิ้น',\n",
    "         'หิวจัง':'หังจิว',\n",
    "        'คำผวน':'ควนผำ',\n",
    "        'นอนแล้ว':'แนวร้อน',\n",
    "        'ตะปู':'ตูปะ',\n",
    "        'นักเรียน':'เนียนรัก',\n",
    "        'ขนม':'ขมหน่ะ'}\n",
    "\n",
    "tmp=[kp.tokenize(key) for key in case_1.keys()]\n",
    "tmp\n",
    "\n",
    "# get "
   ]
  },
  {
   "cell_type": "code",
   "execution_count": 13,
   "metadata": {},
   "outputs": [],
   "source": [
    "# ref\n",
    "from dataclasses import dataclass\n",
    "\n",
    "@dataclass\n",
    "class Position:\n",
    "    name: str\n",
    "    lon: float\n",
    "    lat: float\n",
    "\n",
    "@dataclass\n",
    "class Capital(Position):\n",
    "    country: str\n",
    "from enum import Enum\n",
    "\n",
    "class Color(Enum):\n",
    "    red = 1\n",
    "    green = 2\n",
    "    blue = 3\n",
    "    \n",
    "@dataclass\n",
    "class Test:\n",
    "    _name: str=\"schbell\"\n",
    "\n",
    "    @property\n",
    "    def name(self) -> str:\n",
    "        return self._name\n",
    "\n",
    "    @name.setter\n",
    "    def name(self, v: str) -> None:\n",
    "        self._name = v\n"
   ]
  },
  {
   "cell_type": "markdown",
   "metadata": {},
   "source": [
    "# Subwords\n",
    "\n",
    "* initial_consonant\n",
    "    * single อักษรเดี่ยว\n",
    "        * sound_level (low/mid/high)\n",
    "        * low_single, low_double\n",
    "    * cluster อักษรควบ\n",
    "        * true_cluster อักษรควบแท้\n",
    "        * fasle_cluster อักษรควบไม่แท้\n",
    "    * leading_cluster อักษรนำ–อักษรตาม\n",
    "        * hornum_leading หอ นำ\n",
    "        * oarnum_leading ออ นำ\n",
    "        * non_conform_leading นำด้วยสูง หรือ กลาง  นคร ขนม\n",
    "* final_consonant\n",
    "    * type (dead/live)\n",
    "    * sound (eng)\n",
    "        * k: กก\n",
    "        * ng: กง\n",
    "        * t: กด\n",
    "        * m: กม\n",
    "        * n: กน\n",
    "        * p: กบ\n",
    "        * y: เกย\n",
    "        * v: เกอว\n",
    "    * sound_level low/mid/high\n",
    "* vowel\n",
    "* tone http://www.thai-language.com/ref/tone-rules\n",
    "    * tone_mark\n",
    "    * tone_sound"
   ]
  },
  {
   "cell_type": "code",
   "execution_count": 14,
   "metadata": {},
   "outputs": [
    {
     "name": "stdout",
     "output_type": "stream",
     "text": [
      "เขียว\n",
      "===\n",
      "('เ', 'ข', 'ีย', 'ว') เ-ีย (เ)(.{1,2})(ีย)([ก-ฮ]?)\n",
      "เกรียน\n",
      "===\n",
      "('เ', 'กร', 'ีย', 'น') เ-ีย (เ)(.{1,2})(ีย)([ก-ฮ]?)\n",
      "ตู่\n",
      "===\n",
      "('ต', 'ู', '') -ู (.{1,2})(ู)([ก-ฮ]?)\n",
      "ตด\n",
      "===\n",
      "('ต', 'ด') - (.{1,2})([ก-ฮ])\n",
      "กร\n",
      "===\n",
      "('ก', 'ร') - (.{1,2})([ก-ฮ])\n",
      "นอน\n",
      "===\n",
      "('น', 'อ', 'น') -อ (.{1,2})(อ)([ก-ฮ]?)\n",
      "ขนุน\n",
      "===\n",
      "('ขน', 'ุ', 'น') -ุ (.{1,2})(ุ)([ก-ฮ]?)\n",
      "จัง\n",
      "===\n",
      "('จ', 'ั', 'ง') -ั (.{1,2})(ั)([ก-ฮ]?)\n",
      "กำ\n",
      "===\n",
      "('ก', 'ำ', '') -ำ (.{1,2})(ำ)([ก-ฮ]?)\n",
      "ใหญ่\n",
      "===\n",
      "('ใ', 'หญ', '') ใ- (ใ)(.{1,2})([ก-ฮ]?)\n",
      "ใคร\n",
      "===\n",
      "('ใ', 'คร', '') ใ- (ใ)(.{1,2})([ก-ฮ]?)\n",
      "เดา\n",
      "===\n",
      "('เ', 'ด', 'า', '') เ-า (เ)(.{1,2})(า)([ก-ฮ]?)\n",
      "เปรต\n",
      "===\n",
      "('เ', 'ปร', 'ต') เ- (เ)(.{1,2})([ก-ฮ]?)\n",
      "เสร็จ\n",
      "===\n",
      "('เ', 'สร', '็', 'จ') เ-็ (เ)(.{1,2})(็)([ก-ฮ]?)\n",
      "ปีน\n",
      "===\n",
      "('ป', 'ี', 'น') -ี (.{1,2})(ี)([ก-ฮ]?)\n",
      "เปี๊ยะ\n",
      "===\n",
      "('เ', 'ป', 'ียะ', '') เ-ียะ (เ)(.{1,2})(ียะ)([ก-ฮ]?)\n",
      "คั่ว\n",
      "===\n",
      "('ค', 'ัว', '') -ัว (.{1,2})(ัว)([ก-ฮ]?)\n",
      "แก้ม\n",
      "===\n",
      "('แ', 'กม', '') แ- (แ)(.{1,2})([ก-ฮ]?)\n",
      "แช่ง\n",
      "===\n",
      "('แ', 'ชง', '') แ- (แ)(.{1,2})([ก-ฮ]?)\n",
      "แกล้ม\n",
      "===\n",
      "('แ', 'กล', 'ม') แ- (แ)(.{1,2})([ก-ฮ]?)\n",
      "แพร่\n",
      "===\n",
      "('แ', 'พร', '') แ- (แ)(.{1,2})([ก-ฮ]?)\n",
      "แข็ง\n",
      "===\n",
      "('แ', 'ข', '็', 'ง') แ-็ (แ)(.{1,2})(็)([ก-ฮ]?)\n",
      "เกลอ\n",
      "===\n",
      "('เ', 'กล', 'อ', '') เ-อ (เ)(.{1,2})(อ)([ก-ฮ]?)\n",
      "เทอญ\n",
      "===\n",
      "('เ', 'ท', 'อ', 'ญ') เ-อ (เ)(.{1,2})(อ)([ก-ฮ]?)\n",
      "เกิด\n",
      "===\n",
      "('เ', 'ก', 'ิ', 'ด') เ-ิ (เ)(.{1,2})(ิ)([ก-ฮ]?)\n",
      "เตลิด\n",
      "===\n",
      "('เ', 'ตล', 'ิ', 'ด') เ-ิ (เ)(.{1,2})(ิ)([ก-ฮ]?)\n",
      "กลม\n",
      "===\n",
      "('กล', 'ม') - (.{1,2})([ก-ฮ])\n",
      "เลว\n",
      "===\n",
      "('เ', 'ลว', '') เ- (เ)(.{1,2})([ก-ฮ]?)\n",
      "เสก\n",
      "===\n",
      "('เ', 'สก', '') เ- (เ)(.{1,2})([ก-ฮ]?)\n",
      "วัว\n",
      "===\n",
      "('ว', 'ัว', '') -ัว (.{1,2})(ัว)([ก-ฮ]?)\n",
      "เยี่ยม\n",
      "===\n",
      "('เ', 'ย', 'ีย', 'ม') เ-ีย (เ)(.{1,2})(ีย)([ก-ฮ]?)\n",
      "เพลง\n",
      "===\n",
      "('เ', 'พล', 'ง') เ- (เ)(.{1,2})([ก-ฮ]?)\n",
      "ปลอม\n",
      "===\n",
      "('ปล', 'อ', 'ม') -อ (.{1,2})(อ)([ก-ฮ]?)\n",
      "หอม\n",
      "===\n",
      "('ห', 'อ', 'ม') -อ (.{1,2})(อ)([ก-ฮ]?)\n",
      "เวร\n",
      "===\n",
      "('เ', 'วร', '') เ- (เ)(.{1,2})([ก-ฮ]?)\n",
      "อย่าง\n",
      "===\n",
      "('อย', 'า', 'ง') -า (.{1,2})(า)([ก-ฮ]?)\n",
      "อยู่\n",
      "===\n",
      "('อย', 'ู', '') -ู (.{1,2})(ู)([ก-ฮ]?)\n",
      "อย่า\n",
      "===\n",
      "('อย', 'า', '') -า (.{1,2})(า)([ก-ฮ]?)\n",
      "กวน\n",
      "===\n",
      "('ก', 'ว', 'น') -ว (.{1,2})(ว)([ก-ฮ]?)\n",
      "แวว\n",
      "===\n",
      "('แ', 'วว', '') แ- (แ)(.{1,2})([ก-ฮ]?)\n",
      "วน\n",
      "===\n",
      "('ว', 'น') - (.{1,2})([ก-ฮ])\n",
      "ว่าย\n",
      "===\n",
      "('ว', 'า', 'ย') -า (.{1,2})(า)([ก-ฮ]?)\n",
      "สวย\n",
      "===\n",
      "('ส', 'ว', 'ย') -ว (.{1,2})(ว)([ก-ฮ]?)\n",
      "เขย\n",
      "===\n",
      "('เ', 'ขย', '') เ- (เ)(.{1,2})([ก-ฮ]?)\n"
     ]
    }
   ],
   "source": [
    "import re\n",
    "from kampuan.lang_tools import get_vowel_pattern,get_vowel_form,remove_tone_mark\n",
    "\n",
    "vowel_pattern=get_vowel_pattern()\n",
    "def match_pattern(pattern,text):\n",
    "    m=re.match(pattern,text)\n",
    "    return m\n",
    "\n",
    "def match_vowel_form(text,vowel_patterns):\n",
    "    for i,pattern in enumerate(vowel_patterns):\n",
    "        m=re.match(pattern,text)\n",
    "        if m:\n",
    "            return (i,m,pattern)\n",
    "    \n",
    "    return (-1,text,text)\n",
    "        \n",
    "vowel_forms=get_vowel_form(REP='-')\n",
    "test_text =['เขียว',\n",
    "            'เกรียน',\n",
    "            'ตู่',\n",
    "            'ตด',\n",
    "            'กร',\n",
    "            'นอน',\n",
    "           'ขนุน',\n",
    "           'จัง',\n",
    "           'กำ',\n",
    "           'ใหญ่',\n",
    "            'ใคร',\n",
    "           'เดา',\n",
    "           'เปรต',\n",
    "           'เสร็จ',\n",
    "           'ปีน',\n",
    "           'เปี๊ยะ',\n",
    "           'คั่ว',\n",
    "           'แก้ม',\n",
    "            'แช่ง',\n",
    "            'แกล้ม',\n",
    "            'แพร่',\n",
    "           'แข็ง',\n",
    "           'เกลอ',\n",
    "           'เทอญ',\n",
    "           'เกิด',\n",
    "           'เตลิด',\n",
    "           'กลม',\n",
    "            'เลว',\n",
    "            'เสก',\n",
    "           'วัว',\n",
    "           'เยี่ยม',\n",
    "           'เพลง',\n",
    "           'ปลอม',\n",
    "           'หอม',\n",
    "           'เวร',\n",
    "           'อย่าง',\n",
    "           'อยู่',\n",
    "           'อย่า',\n",
    "           'กวน' ,\n",
    "           'แวว',\n",
    "           'วน',\n",
    "           'ว่าย',\n",
    "           'สวย',\n",
    "           'เขย']\n",
    "\n",
    "for text in test_text:\n",
    "    print(text)\n",
    "    plain=remove_tone_mark(text)\n",
    "    (i,m,pattern)=match_vowel_form(plain)   \n",
    "    print('===')\n",
    "    print(m.groups(),vowel_forms[i],pattern)"
   ]
  },
  {
   "cell_type": "code",
   "execution_count": 15,
   "metadata": {},
   "outputs": [
    {
     "data": {
      "text/plain": [
       "20"
      ]
     },
     "execution_count": 15,
     "metadata": {},
     "output_type": "execute_result"
    }
   ],
   "source": [
    "from kampuan.const import THAI_VOW\n",
    "\n",
    "len(THAI_VOW)"
   ]
  },
  {
   "cell_type": "code",
   "execution_count": null,
   "metadata": {},
   "outputs": [],
   "source": [
    "# case เ แ need to verify ควบกล้ำ \n",
    "# 1 ตัว -> no สะกด\n",
    "# 2 ตัว -> 1 สะกด\n",
    "# 3 ตัว -> 1 สะกด\n",
    "\n",
    "# อักษรนำ\n",
    "\n",
    "# #initialize the special character cases\n",
    "# #คำควบแท้\n",
    "# self.two_char_combine = ['กร','กล', 'กว', 'คร', 'ขร', 'คล', 'ขล','คว', 'ขว', 'ตร', 'ปร', 'ปล', 'พร', 'พล' ,'ผล',\n",
    "#            'บร','บล','ดร','ฟร','ฟล','ทร','จร','ซร','ปร','สร']\n",
    "# #คำนำ\n",
    "# self.lead_char_nosound = ['อย','หง','หญ','หน','หม','หย', 'หร','หล','หว']\n",
    "# #อักษรสูงนำอักษรต่ำ\n",
    "# self._lead_char_high_low = ['ขน', 'ขม','สม','สย','สน','ขย','ฝร','ถล','ผว','ตน','จม','ตล',]\n",
    "# #อักษรสูงนำอักษรกลาง\n",
    "# self._high_char_high_medium = ['ผท','ผด','ผก','ผอ','ผช']"
   ]
  },
  {
   "cell_type": "code",
   "execution_count": 93,
   "metadata": {},
   "outputs": [
    {
     "data": {
      "text/plain": [
       "'่้๊๋'"
      ]
     },
     "execution_count": 93,
     "metadata": {},
     "output_type": "execute_result"
    }
   ],
   "source": [
    "pythainlp.thai_tonemarks"
   ]
  },
  {
   "cell_type": "code",
   "execution_count": 72,
   "metadata": {},
   "outputs": [
    {
     "data": {
      "text/plain": [
       "'๏๚๛'"
      ]
     },
     "execution_count": 72,
     "metadata": {},
     "output_type": "execute_result"
    }
   ],
   "source": [
    "pythainlp.thai_punctuations"
   ]
  },
  {
   "cell_type": "code",
   "execution_count": 77,
   "metadata": {},
   "outputs": [
    {
     "data": {
      "text/plain": [
       "['-ุ', '-ู']"
      ]
     },
     "execution_count": 77,
     "metadata": {},
     "output_type": "execute_result"
    }
   ],
   "source": [
    "['-'+char for char in pythainlp.thai_below_vowels]"
   ]
  },
  {
   "cell_type": "code",
   "execution_count": 94,
   "metadata": {},
   "outputs": [
    {
     "data": {
      "text/plain": [
       "['_่', '_้', '_๊', '_๋']"
      ]
     },
     "execution_count": 94,
     "metadata": {},
     "output_type": "execute_result"
    }
   ],
   "source": [
    "['_'+char for char in pythainlp.thai_tonemarks]"
   ]
  },
  {
   "cell_type": "code",
   "execution_count": 79,
   "metadata": {},
   "outputs": [
    {
     "data": {
      "text/plain": [
       "['_ั', '_ิ', '_ี', '_ึ', '_ื', '_ํ', '_็']"
      ]
     },
     "execution_count": 79,
     "metadata": {},
     "output_type": "execute_result"
    }
   ],
   "source": [
    "['_'+char for char in pythainlp.thai_above_vowels]"
   ]
  },
  {
   "cell_type": "code",
   "execution_count": 82,
   "metadata": {},
   "outputs": [
    {
     "data": {
      "text/plain": [
       "['เ_', 'แ_', 'โ_', 'ใ_', 'ไ_']"
      ]
     },
     "execution_count": 82,
     "metadata": {},
     "output_type": "execute_result"
    }
   ],
   "source": [
    "[char+'_' for char in pythainlp.thai_lead_vowels]"
   ]
  },
  {
   "cell_type": "code",
   "execution_count": 80,
   "metadata": {},
   "outputs": [
    {
     "data": {
      "text/plain": [
       "['_ะ', '_า', '_ำ', '_ๅ']"
      ]
     },
     "execution_count": 80,
     "metadata": {},
     "output_type": "execute_result"
    }
   ],
   "source": [
    "['_'+char for char in pythainlp.thai_follow_vowels]"
   ]
  },
  {
   "cell_type": "code",
   "execution_count": 102,
   "metadata": {},
   "outputs": [
    {
     "data": {
      "text/plain": [
       "'ฤฦะัาำิีึืุูเแโใไๅํ็'"
      ]
     },
     "execution_count": 102,
     "metadata": {},
     "output_type": "execute_result"
    }
   ],
   "source": [
    "pythainlp.thai_vowels"
   ]
  },
  {
   "cell_type": "code",
   "execution_count": 11,
   "metadata": {},
   "outputs": [],
   "source": [
    "from typing import NamedTuple, Optional,List\n",
    "class TestWord(NamedTuple):\n",
    "    raw: str\n",
    "    vowel_form: Optional[str]=None\n",
    "    tone_mark: Optional[str]=None\n",
    "    all_consonants: Optional[List[str]]=None\n",
    "\n",
    "\n",
    "a = TestWord('เขียว','เ-ีย',None,['ข','ย','ว'])"
   ]
  },
  {
   "cell_type": "code",
   "execution_count": 12,
   "metadata": {},
   "outputs": [],
   "source": [
    "test_list=[\n",
    "TestWord('เขียว', 'เ-ีย', None, ['ข', 'ย', 'ว']),\n",
    "TestWord('เขียว', 'เ-ีย', None, ['ข', 'ย', 'ว']),\n",
    "TestWord('เขียว', 'เ-ีย'),\n",
    "TestWord('เขียว', 'เ-ีย', None, ['ข', 'ย', 'ว']),\n",
    "]\n"
   ]
  },
  {
   "cell_type": "code",
   "execution_count": 97,
   "metadata": {},
   "outputs": [
    {
     "data": {
      "text/plain": [
       "{'_raw': 'เกี๊ยว',\n",
       " '_vowels': ['เ', 'ี'],\n",
       " '_consonants': ['ก', 'ย', 'ว'],\n",
       " '_tone_mark': ['๊'],\n",
       " '_inti_con': None,\n",
       " '_final_con': None,\n",
       " '_vowel_form': None,\n",
       " '_tone': None}"
      ]
     },
     "execution_count": 97,
     "metadata": {},
     "output_type": "execute_result"
    }
   ],
   "source": [
    "import pythainlp\n",
    "from dataclasses import dataclass\n",
    "\n",
    "\n",
    "@dataclass\n",
    "class ThaiSubWord:\n",
    "    def __init__(self, word:str='เกี๊ยว'):\n",
    "        # Character base\n",
    "        self._raw: str=word\n",
    "        self._vowels:List[str]=self.vowels\n",
    "        self._consonants:List[str]=self.consonants\n",
    "        self._tone_mark:List[str]=self.tone_mark\n",
    "        \n",
    "        # Type based\n",
    "        self._inti_con:str =None\n",
    "        self._final_con:str=None\n",
    "        self._vowel_form:str=None\n",
    "        self._tone:str=None\n",
    "    \n",
    "    @property\n",
    "    def raw(self):\n",
    "        return self._raw\n",
    "    \n",
    "    @property\n",
    "    def vowels(self):\n",
    "        return [char for char in self._raw if char in THAI_VOW]\n",
    "    \n",
    "    @property\n",
    "    def consonants(self):\n",
    "        return [char for char in self._raw if char in THAI_CONS]\n",
    "    \n",
    "    @property\n",
    "    def tone_mark(self):\n",
    "        return [char for char in self._raw if char in THAI_TONE]\n",
    "    \n",
    "        \n",
    "\n",
    "a=ThaiSubWord()\n",
    "\n",
    "a.__dict__"
   ]
  },
  {
   "cell_type": "markdown",
   "metadata": {},
   "source": [
    "http://www.thai-language.com/ref/tone-rules"
   ]
  },
  {
   "cell_type": "markdown",
   "metadata": {},
   "source": [
    "# Tien's"
   ]
  },
  {
   "cell_type": "code",
   "execution_count": 9,
   "metadata": {},
   "outputs": [],
   "source": [
    "from kampuan.util.extract import thai_subwords"
   ]
  },
  {
   "cell_type": "code",
   "execution_count": 25,
   "metadata": {},
   "outputs": [
    {
     "data": {
      "text/plain": [
       "'หว'"
      ]
     },
     "execution_count": 25,
     "metadata": {},
     "output_type": "execute_result"
    }
   ],
   "source": [
    "x=[thai_subwords(orig_word=syll) for syll in kp.puan_kam(phrase)]\n",
    "x[0].start\n",
    "\n"
   ]
  },
  {
   "cell_type": "code",
   "execution_count": null,
   "metadata": {},
   "outputs": [],
   "source": [
    "class thai_match_pattern():\n",
    "    def __init__(self, start_regex, vowel_regex, end_regex, sound_regex):\n",
    "        self.start_regex = start_regex\n",
    "        self.vowel_regex = vowel_regex\n",
    "        self.end_regex = end_regex\n",
    "        self.sound_regex = sound_regex\n",
    "        \n",
    "    def match_start(self, orig_word):        \n",
    "        matches = re.findall(self.start_regex, orig_word, re.DOTALL)\n",
    "        return matches\n",
    "    "
   ]
  },
  {
   "cell_type": "code",
   "execution_count": null,
   "metadata": {},
   "outputs": [],
   "source": [
    "#Reference https://www.geeksforgeeks.org/longest-common-substring-dp-29/\n",
    "# Returns length of longest common  \n",
    "# substring of X[0..m-1] and Y[0..n-1]  \n",
    "def LCSubStr(X, Y, m, n): \n",
    "      \n",
    "    # Create a table to store lengths of \n",
    "    # longest common suffixes of substrings.  \n",
    "    # Note that LCSuff[i][j] contains the  \n",
    "    # length of longest common suffix of  \n",
    "    # X[0...i-1] and Y[0...j-1]. The first \n",
    "    # row and first column entries have no \n",
    "    # logical meaning, they are used only \n",
    "    # for simplicity of the program. \n",
    "      \n",
    "    # LCSuff is the table with zero  \n",
    "    # value initially in each cell \n",
    "    LCSuff = [[0 for k in range(n+1)] for l in range(m+1)] \n",
    "      \n",
    "    # To store the length of  \n",
    "    # longest common substring \n",
    "    result = 0 \n",
    "  \n",
    "    # Following steps to build \n",
    "    # LCSuff[m+1][n+1] in bottom up fashion \n",
    "    for i in range(m + 1): \n",
    "        for j in range(n + 1): \n",
    "            if (i == 0 or j == 0): \n",
    "                LCSuff[i][j] = 0\n",
    "            elif (X[i-1] == Y[j-1]): \n",
    "                LCSuff[i][j] = LCSuff[i-1][j-1] + 1\n",
    "                result = max(result, LCSuff[i][j]) \n",
    "            else: \n",
    "                LCSuff[i][j] = 0\n",
    "    return result "
   ]
  },
  {
   "cell_type": "code",
   "execution_count": 34,
   "metadata": {},
   "outputs": [],
   "source": [
    "import re\n",
    "class thai_subwords():\n",
    "    \"\"\"Design to take input as single Thai token or word and extract start, vowel, end and sound of said token\n",
    "    For additional data regarding different Thai words types and pronunciations, \n",
    "    consult:https://sites.google.com/site/phasathaionline/hnwy-kar-reiyn-ru2/phyaychnatn\"\"\"\n",
    "    def __init__(self, orig_word, debug=False):\n",
    "        self.orig_word = orig_word #Try not to change this value\n",
    "        self._start = ''\n",
    "        self._vowel = ''\n",
    "        self._end = ''\n",
    "        self._sound = ''\n",
    "        self._double_start_sound = False #used to flag with that has two starting alphabets with sound like 'ตลาด = ตะ ลาด'\n",
    "        self._high_lead_low = False #case อักษรสูงนำอักษรต่ำ\n",
    "        self.debug = debug\n",
    "        \n",
    "        #Need to deal with negative lookahead case for word like \"เกรียน\" to correctly extract กร\n",
    "        self.vowels_form = ['ะ', ' ั' ' ็', 'า', ' ิ' , ' ่' , \" ่\" , ' ํ', ' ุ', ' ู', 'เ', 'ใ', 'ไ', 'โ', 'อ', 'ย', 'ว', 'ฤ', 'ฤๅ', 'ฦ', 'ฦๅ']\n",
    "        combine_vowel_regex_1 = '(?!เ.{1,4}ี.*ย)(?!เ.{1,4}ี.*ยะ)(?!เ.{1,4}ื.*อ)(?!เ.{1,4}ื.*อะ)(?!เ.{1,4}.*อะ)(?!เ.{1,4}.*อ)(?!เ.{1,4}.*าะ)'\n",
    "        combine_vowel_regex_2 = '(?!เ.{1,4}.*า)(?!แ.{1,4}.*า)(?!.{1,4}ัวะ)(?!โ.{1,4}.*ะ)'\n",
    "        combine_vowel_regex = combine_vowel_regex_1 + combine_vowel_regex_2\n",
    "        self.start_regex_1 = ['(.{1,4})ะ','(.{1,4})า', '(.{1,4})ิ.*', '(.{1,4})ี.*', '(.{1,4})ึ', '(.{1,4})ื.*', '(.{1,4})ุ.*', '(.{1,4})ู.*', 'เ(.{1,4})็', \n",
    "                            'เ(.{1,4}).*', '(.{1,4}).*อ','แ(.{1,4}).*', '(.{1,4})ั.*', 'โ(.{1,4}).*', '(.{1,4}).*ำ', 'ใ(.{1,4}).*', 'ไ(.{1,4})']\n",
    "        self.start_regex_1  = [combine_vowel_regex+regex for regex in self.start_regex_1]\n",
    "        self.start_regex_2 = ['เ(.{1,4})ี.*ยะ', 'เ(.{1,4})ี.*ย', 'เ(.{1,4})ื.*อะ', 'เ(.{1,4})ื.*อ', 'เ(.{1,4}).*อ', 'เ(.{1,4}).*อะ',\n",
    "                              'เ(.{1,4}).*า',\n",
    "                              'เ(.{1,4}).*าะ','แ(.{1,4}).*ะ','(.{1,4})ัวะ','โ(.{1,4}).*ะ', 'เ(.{1,4})็', 'เ(.{1,4})ิ.*']\n",
    "        self.end_regex_1 = ['\\[REP\\]า(.{1,4})', '\\[REP\\]ิ(.{1,4})', '\\[REP\\]ี(.{1,4})', '\\[REP\\]ึ(.{1,4})', '\\[REP\\]ือ(.{1,4})', \n",
    "                            '\\[REP\\]ุ(.{1,4})', '\\[REP\\]ู(.{1,4})', 'เ\\[REP\\]็(.{1,4})', 'เ\\[REP\\](.{1,4})', '\\[REP\\]อ(.{1,4})',\n",
    "                            'แ\\[REP\\](.{1,4})', '\\[REP\\]ั(.{1,4})', 'โ\\[REP\\](.{1,4})','\\[REP\\]ำ(.{1,4})', 'ใ\\[REP\\](.{1,4})', \n",
    "                            'ไ\\[REP\\](.{1,4})']\n",
    "        self.end_regex_2 = ['เ\\[REP\\]ีย(.{1,4})', 'เ\\[REP\\]ือ(.{1,4})', 'เ\\[REP\\]อ(.{1,4})', 'เ\\[REP\\]อะ(.{1,4})','เ\\[REP\\]า(.{1,4})']\n",
    "        \n",
    "        self.start_regex  = self.start_regex_1 + self.start_regex_2 \n",
    "        self.end_regex  = self.end_regex_1 + self.end_regex_2 \n",
    "        #self.vowel_regex = vowel_regex\n",
    "        #self.end_regex = end_regex\n",
    "        self.sound_regex = ['(่)', '(้)', '.(๊)','()๋']\n",
    "        \n",
    "        #initialize the special character cases\n",
    "        #คำควบแท้\n",
    "        self.two_char_combine = ['กร','กล', 'กว', 'คร', 'ขร', 'คล', 'ขล','คว', 'ขว', 'ตร', 'ปร', 'ปล', 'พร', 'พล' ,'ผล',\n",
    "                   'บร','บล','ดร','ฟร','ฟล','ทร','จร','ซร','ปร','สร']\n",
    "        #คำนำ\n",
    "        self.lead_char_nosound = ['อย','หง','หญ','หน','หม','หย', 'หร','หล','หว']\n",
    "        #อักษรสูงนำอักษรต่ำ\n",
    "        self._lead_char_high_low = ['ขน', 'ขม','สม','สย','สน','ขย','ฝร','ถล','ผว','ตน','จม','ตล',]\n",
    "        #อักษรสูงนำอักษรกลาง\n",
    "        self._high_char_high_medium = ['ผท','ผด','ผก','ผอ','ผช']\n",
    "        \n",
    "        \n",
    "    # using property decorator \n",
    "    @property\n",
    "    def start(self): \n",
    "        #print(\"getter method called\") \n",
    "        temp_start = self.match_pattern(self.orig_word, self.start_regex)\n",
    "        if len(temp_start)==1: return temp_start\n",
    "        else: \n",
    "            return self.check_double_start_alphabets(temp_start)\n",
    "        #return self.match_pattern(self.orig_word, self.start_regex)\n",
    "    \n",
    "    @property\n",
    "    def sound(self):\n",
    "        if self.match_pattern(self.orig_word, self.sound_regex) is None: return ''\n",
    "        return self.match_pattern(self.orig_word, self.sound_regex)\n",
    "    \n",
    "    @property\n",
    "    def vowel(self):\n",
    "        return self.orig_word.replace(self.sound,'').replace(self.start,'[REP]',1) #[REP] will be used for conversion to Lu/Ru\n",
    "#     def vowel(self):\n",
    "#         return self.orig_word.replace(self.sound,'').replace(self.end,'').replace(self.start,'[REP]',1) #[REP] will be used for conversion to Lu/Ru\n",
    "    \n",
    "    @property #might not need this one in final application as we need vowel\n",
    "    def end(self):\n",
    "        if self.match_pattern(self.vowel, self.end_regex) not in self.vowels_form: \n",
    "            return self.match_pattern(self.vowel, self.end_regex)\n",
    "        else:\n",
    "            return None\n",
    "\n",
    "#     # a setter function \n",
    "#     @start.setter \n",
    "#     def start(self): \n",
    "#         print(\"setter method called\") \n",
    "#         self._start = match_pattern(self.start_regex)\n",
    "    \n",
    "    def match_pattern(self, text, regex_pattern):\n",
    "        output_start = None\n",
    "        if self.debug: print(text)\n",
    "        for pattern in regex_pattern:\n",
    "            matches = re.search(pattern, text, re.DOTALL)\n",
    "            \n",
    "            if matches is not None and self.debug: print(pattern, matches.group(1))\n",
    "            if matches is not None: output_start = matches.group(1)\n",
    "        return output_start\n",
    "    \n",
    "    def check_double_start_alphabets(self, text):\n",
    "        '''Use to check in case starting alphabet is longer than one, \n",
    "        ref:https://sites.google.com/site/phasathaionline/hnwy-kar-reiyn-ru2/phyaychnatn'''\n",
    "        #Function that check word in case like ขนม and else \n",
    "        \n",
    "        two_char = self.lead_char_nosound + self.two_char_combine\n",
    "        \n",
    "        max_lcs = 0\n",
    "        if text in two_char: return text\n",
    "        else:\n",
    "            for char in two_char:\n",
    "                if LCSubStr(text, char, len(text), len(char)) > max_lcs: \n",
    "                    max_lcs = LCSubStr(text, char, len(text), len(char))\n",
    "                    max_lcs_char = char\n",
    "            return max_lcs_char\n",
    "        \n",
    "        return None\n",
    "    \n",
    "    def check_double_start_sound(self, text):\n",
    "        '''Use to address the case where start alphabets are double and need to split to reflect actual pronunciation \n",
    "        ref:https://sites.google.com/site/phasathaionline/hnwy-kar-reiyn-ru2/phyaychnatn'''\n",
    "        #Function that check word in case like ขนม and else \n",
    "        \n",
    "        \n",
    "        return None\n",
    "    \n",
    "    def remove_karan(self, regex_pattern):\n",
    "        return None\n",
    "        #Write specific function for removing ์"
   ]
  }
 ],
 "metadata": {
  "kernelspec": {
   "display_name": "chat bot",
   "language": "python",
   "name": "chatbot"
  },
  "language_info": {
   "codemirror_mode": {
    "name": "ipython",
    "version": 3
   },
   "file_extension": ".py",
   "mimetype": "text/x-python",
   "name": "python",
   "nbconvert_exporter": "python",
   "pygments_lexer": "ipython3",
   "version": "3.8.5"
  }
 },
 "nbformat": 4,
 "nbformat_minor": 4
}
